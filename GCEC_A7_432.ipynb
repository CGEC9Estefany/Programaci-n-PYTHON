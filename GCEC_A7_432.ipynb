{
  "nbformat": 4,
  "nbformat_minor": 0,
  "metadata": {
    "colab": {
      "provenance": [],
      "authorship_tag": "ABX9TyNK4rm9HhO7fEQAelMiiQzX",
      "include_colab_link": true
    },
    "kernelspec": {
      "name": "python3",
      "display_name": "Python 3"
    },
    "language_info": {
      "name": "python"
    }
  },
  "cells": [
    {
      "cell_type": "markdown",
      "metadata": {
        "id": "view-in-github",
        "colab_type": "text"
      },
      "source": [
        "<a href=\"https://colab.research.google.com/github/CGEC9Estefany/Programaci-n-PYTHON/blob/main/GCEC_A7_432.ipynb\" target=\"_parent\"><img src=\"https://colab.research.google.com/assets/colab-badge.svg\" alt=\"Open In Colab\"/></a>"
      ]
    },
    {
      "cell_type": "code",
      "source": [
        "import random"
      ],
      "metadata": {
        "id": "Kr_ndotlkheQ"
      },
      "execution_count": null,
      "outputs": []
    },
    {
      "cell_type": "code",
      "source": [
        "# Función que genera un numero aleatorio\n",
        "def num_aleatorio(nm1,nm2):\n",
        "    num_random = random.randint(nm1,nm2)\n",
        "    return num_random"
      ],
      "metadata": {
        "id": "-MGdgvwOkkPb"
      },
      "execution_count": null,
      "outputs": []
    },
    {
      "cell_type": "code",
      "source": [
        "# Función para validar si que sea un número y no un digito\n",
        "def es_entero(num):\n",
        "    while True:\n",
        "        try:\n",
        "            if num.isdigit():\n",
        "                valor = int(num)\n",
        "            else:\n",
        "                raise TypeError(\"Los valores ingresados deben ser númericos\")\n",
        "        except TypeError as er:\n",
        "            print(f\"Error:\", er) \n",
        "            num = input(\"Introduce valor correctamente: \")\n",
        "        else:\n",
        "            return valor\n",
        "            break"
      ],
      "metadata": {
        "id": "qWCGv7UC_cRw"
      },
      "execution_count": null,
      "outputs": []
    },
    {
      "cell_type": "code",
      "source": [
        "# Función para validar un numero dentro de un rango dado\n",
        "def val_rango(r1=0,r2=0,mensaje=\"Dame un número entre: \"):\n",
        "    while True:\n",
        "        try:\n",
        "            num = int(input(f\"{mensaje} {r1} y {r2} : \"))\n",
        "        except Exception as e:\n",
        "            print(\"Error: \", e)\n",
        "            continue\n",
        "        if num < r1 or num > r2:\n",
        "            print(\"Error en el rango\")\n",
        "            continue\n",
        "        return num"
      ],
      "metadata": {
        "id": "AZiyH8_Kbc8H"
      },
      "execution_count": null,
      "outputs": []
    },
    {
      "cell_type": "code",
      "source": [
        "# Funcion para crear elementos n de una lista\n",
        "def crear_lista():\n",
        "    lista = []\n",
        "    while True:\n",
        "         try:\n",
        "             numero = es_entero(input(\"Ingrese elementos a la lista: \"))\n",
        "         except Exception as e:\n",
        "             print(\"Ocurrio un error inesperado\", e)\n",
        "         else:\n",
        "             lista.append(numero)\n",
        "             seguir = input(\"¿Quieres seguir agregando? (s/n): \")\n",
        "             if seguir.lower() != \"s\":\n",
        "                 break\n",
        "    return lista"
      ],
      "metadata": {
        "id": "dK50e-EI9N6G"
      },
      "execution_count": null,
      "outputs": []
    },
    {
      "cell_type": "code",
      "execution_count": null,
      "metadata": {
        "colab": {
          "base_uri": "https://localhost:8080/"
        },
        "id": "db_FVnMNZyeh",
        "outputId": "78e71493-631a-4d50-a6f8-cd4d91f41cb5"
      },
      "outputs": [
        {
          "output_type": "stream",
          "name": "stdout",
          "text": [
            "Ingrese nombre de su mascota / artista: lia\n",
            "Ingrese nombre de su mascota / artista: dnkfcf\n",
            "Ingrese nombre de su mascota / artista: tntj\n",
            "Ingrese nombre de su mascota / artista: gnjkf\n",
            "Ingrese nombre de su mascota / artista: vnkf\n",
            "¿Quieres seguir agregando? (s/n): n\n",
            "[0] lia ---> 3 caracteres\n",
            "[1] dnkfcf ---> 6 caracteres\n",
            "[2] tntj ---> 4 caracteres\n",
            "[3] gnjkf ---> 5 caracteres\n",
            "[4] vnkf ---> 4 caracteres\n"
          ]
        }
      ],
      "source": [
        "\"\"\" 1.- Función que utilice una lista con los nombres de tus mascotas, \n",
        " o artistas favoritos, (minimo 5, maximo 10) imprimir las cadenas y \n",
        " la cantidad de caracteres de cada cadena.\"\"\"\n",
        "\n",
        "def lista_nombre(nombres):\n",
        "    for i,nombre in enumerate(nombres):\n",
        "        print(f\"[{i}] {nombre} ---> {len(nombre)} caracteres\")\n",
        "\n",
        "nombres = []\n",
        "while len(nombres)<10:\n",
        "    try:\n",
        "        nombre = input(\"Ingrese nombre de su mascota / artista: \")\n",
        "    except:\n",
        "        print(\"Error\")\n",
        "    else:\n",
        "        nombres.append(nombre)\n",
        "        if len(nombres) >= 5:\n",
        "            seguir = input(\"¿Quieres seguir agregando? (s/n): \")\n",
        "            if seguir.lower() != \"s\":\n",
        "                break\n",
        "        \n",
        "lista_nombre(nombres)"
      ]
    },
    {
      "cell_type": "code",
      "source": [
        "\"\"\" 2.- Programa que utilice 2 funciones, \n",
        " Función que genere y regrese una lista con 10 números aleatorios entre el 30 y 50 (no repetidos). \n",
        " Función que reciba una lista , Imprimir la lista (Indice y Valor )\"\"\"\n",
        "\n",
        "def numero_lista():\n",
        "    num_random = []\n",
        "    while len(num_random) < 10:\n",
        "        n = num_aleatorio(30,50)\n",
        "        # Verificamos que el numero no este repetido\n",
        "        if n not in num_random:\n",
        "            num_random.append(n)\n",
        "    return num_random\n",
        "\n",
        "def desplegar_lista(lista):\n",
        "    for i, valor in enumerate(lista):\n",
        "        print(f\"[{i}]--> {valor}\")\n",
        "\n",
        "\n",
        "lista = numero_lista()\n",
        "desplegar_lista(lista)"
      ],
      "metadata": {
        "colab": {
          "base_uri": "https://localhost:8080/"
        },
        "id": "NCm1LIfKaURV",
        "outputId": "6591014f-cbd4-4599-d4aa-f10c5aef1738"
      },
      "execution_count": null,
      "outputs": [
        {
          "output_type": "stream",
          "name": "stdout",
          "text": [
            "[0]--> 46\n",
            "[1]--> 48\n",
            "[2]--> 50\n",
            "[3]--> 41\n",
            "[4]--> 43\n",
            "[5]--> 39\n",
            "[6]--> 42\n",
            "[7]--> 44\n",
            "[8]--> 31\n",
            "[9]--> 47\n"
          ]
        }
      ]
    },
    {
      "cell_type": "code",
      "source": [
        "\"\"\" 3.- Escribe una función que reciba dos listas de números del mismo tamaño \n",
        " y calcule la suma de los elementos correspondientes de cada lista.\n",
        " (regresar una nueva lista) . Luego, muestra una lista con los resultados de \n",
        "cada suma. Nota: si las listas no son del mismo tamaño mandar msge y utilizar\n",
        " el tamaño de la lista mas pequeña)\"\"\"\n",
        "\n",
        "def mismo_tamaño(lista1, lista2):\n",
        "    if len(lista1) != len(lista2):\n",
        "        print(\"¡¡Las listas NO son del mismo tamaño!! \\nSe utilizará la menor\")\n",
        "        tamano = min(len(lista1), len(lista2))\n",
        "    else:\n",
        "        tamano = len(lista1)\n",
        "    resultado = []\n",
        "    for i in range(tamano):\n",
        "        resultado.append(lista1[i] + lista2[i])\n",
        "    return resultado\n",
        "\n",
        "lista1 = crear_lista()\n",
        "print(\"Segunda Lista: \")\n",
        "lista2 = crear_lista()\n",
        "\n",
        "l2 = mismo_tamaño(lista1, lista2)\n",
        "print(l2)\n",
        "\n"
      ],
      "metadata": {
        "id": "ybm3V4Aaacjc",
        "colab": {
          "base_uri": "https://localhost:8080/"
        },
        "outputId": "22b80715-3e9d-452a-db7d-65410005fb0d"
      },
      "execution_count": null,
      "outputs": [
        {
          "output_type": "stream",
          "name": "stdout",
          "text": [
            "Ingrese elementos a la lista: y\n",
            "Error: Los valores ingresados deben ser númericos\n",
            "Introduce valor correctamente: 8\n",
            "¿Quieres seguir agregando? (s/n): s\n",
            "Ingrese elementos a la lista: 9\n",
            "¿Quieres seguir agregando? (s/n): s\n",
            "Ingrese elementos a la lista: 5\n",
            "¿Quieres seguir agregando? (s/n): s\n",
            "Ingrese elementos a la lista: 7\n",
            "¿Quieres seguir agregando? (s/n): n\n",
            "Segunda Lista: \n",
            "Ingrese elementos a la lista: 7\n",
            "¿Quieres seguir agregando? (s/n): s\n",
            "Ingrese elementos a la lista: 9\n",
            "¿Quieres seguir agregando? (s/n): s\n",
            "Ingrese elementos a la lista: 2\n",
            "¿Quieres seguir agregando? (s/n): s\n",
            "Ingrese elementos a la lista: 1\n",
            "¿Quieres seguir agregando? (s/n): n\n",
            "[15, 18, 7, 8]\n"
          ]
        }
      ]
    },
    {
      "cell_type": "code",
      "source": [
        "\"\"\" 4.- Escribe una función llamada eliminar_duplicados que reciba una lista como\n",
        " parámetro y elimine los elementos duplicados. El resultado debe ser una nueva\n",
        " lista sin duplicados. Pide al usuario que ingrese una lista y luego llama a la\n",
        " función eliminar_duplicados para mostrar la lista sin duplicados.\n",
        " (Solo Numeros enteros, validar)\"\"\"\n",
        " \n",
        "def eliminar_duplicados(lista):\n",
        "    nueva_lista = []\n",
        "    for i in lista:\n",
        "        if i not in nueva_lista:\n",
        "            nueva_lista.append(i)\n",
        "    return nueva_lista\n",
        "\n",
        "lista = crear_lista()\n",
        "eliminar_duplicados(lista)\n",
        "\n",
        "\n",
        "    \n",
        "         "
      ],
      "metadata": {
        "id": "uhK8sRiaaq2i",
        "colab": {
          "base_uri": "https://localhost:8080/"
        },
        "outputId": "a885af50-10be-4780-dfff-5ad2abe894a8"
      },
      "execution_count": null,
      "outputs": [
        {
          "name": "stdout",
          "output_type": "stream",
          "text": [
            "Ingrese elementos a la lista: t\n",
            "Error: Los valores ingresados deben ser númericos\n",
            "Introduce valor correctamente: 5\n",
            "¿Quieres seguir agregando? (s/n): s\n",
            "Ingrese elementos a la lista: 8\n",
            "¿Quieres seguir agregando? (s/n): s\n",
            "Ingrese elementos a la lista: 9\n",
            "¿Quieres seguir agregando? (s/n): n\n"
          ]
        },
        {
          "output_type": "execute_result",
          "data": {
            "text/plain": [
              "[5, 8, 9]"
            ]
          },
          "metadata": {},
          "execution_count": 9
        }
      ]
    },
    {
      "cell_type": "code",
      "source": [
        "\"\"\" 5.- Escribe una función que calcule la media y la mediana de \n",
        " una lista de números enteros. \"\"\"\n",
        "def media_mediana(lista):\n",
        "    lista_orde = sorted(lista)\n",
        "    longi = len(lista_orde)\n",
        "    media = sum(lista_orde) / longi\n",
        "    if len(lista_orde) % 2 == 0:\n",
        "        mid = int(longi / 2)\n",
        "        mediana = (lista_orde[mid - 1] + lista_orde[mid]) / 2\n",
        "    else:\n",
        "        mid = int(longi / 2)\n",
        "        mediana = lista_orde[mid]\n",
        "    return media, mediana\n",
        "    \n",
        "lista = crear_lista()\n",
        "media, mediana = media_mediana(lista) \n",
        "print (f\"La media es : {media} \\nLa medidana es: {mediana}\")\n",
        "  \n"
      ],
      "metadata": {
        "id": "HY9yAo4Ya2-g",
        "colab": {
          "base_uri": "https://localhost:8080/"
        },
        "outputId": "0b634e71-1f41-4def-8454-04e525266dad"
      },
      "execution_count": null,
      "outputs": [
        {
          "output_type": "stream",
          "name": "stdout",
          "text": [
            "Ingrese elementos a la lista: 4\n",
            "¿Quieres seguir agregando? (s/n): 6\n",
            "La media es : 4.0 \n",
            "La medidana es: 4\n"
          ]
        }
      ]
    },
    {
      "cell_type": "code",
      "source": [
        "\"\"\"  6.- Escribe una función que calcule la media móvil de una lista de \n",
        " números enteros. La media móvil es el promedio de un número determinado \n",
        " de elementos consecutivos de la lista. Puedes utilizar un ciclo y una variable\n",
        " de suma para calcular la media móvil de cada sublista y guardar los resultados\n",
        " en otra lista.\n",
        "\"\"\"\n",
        "\n",
        "def media_movil(lista, n):\n",
        "    medias = []\n",
        "    for i in range(len(lista) - n + 1):\n",
        "        sublista = lista[i:i+n]\n",
        "        media = sum(sublista) / n\n",
        "        medias.append(media)\n",
        "    return medias\n",
        "\n",
        "lista = crear_lista()\n",
        "n = es_entero(input(\"Ingrese número determinado para la sublista\"))\n",
        "media_mov = media_movil(lista, n)\n",
        "print(media_mov)\n"
      ],
      "metadata": {
        "id": "C-3NwB2WbJYX",
        "colab": {
          "base_uri": "https://localhost:8080/"
        },
        "outputId": "431fad12-d8ad-44a8-8209-617e690f4a84"
      },
      "execution_count": null,
      "outputs": [
        {
          "output_type": "stream",
          "name": "stdout",
          "text": [
            "Ingrese elementos a la lista: 1\n",
            "¿Quieres seguir agregando? (s/n): s\n",
            "Ingrese elementos a la lista: 2\n",
            "¿Quieres seguir agregando? (s/n): s\n",
            "Ingrese elementos a la lista: 3\n",
            "¿Quieres seguir agregando? (s/n): s\n",
            "Ingrese elementos a la lista: 4\n",
            "¿Quieres seguir agregando? (s/n): s\n",
            "Ingrese elementos a la lista: 5\n",
            "¿Quieres seguir agregando? (s/n): s\n",
            "Ingrese elementos a la lista: 6\n",
            "¿Quieres seguir agregando? (s/n): n\n",
            "Ingrese número determinado para la sublista3\n",
            "[2.0, 3.0, 4.0, 5.0]\n"
          ]
        }
      ]
    }
  ]
}