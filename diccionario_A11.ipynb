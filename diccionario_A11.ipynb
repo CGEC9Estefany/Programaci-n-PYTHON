{
  "nbformat": 4,
  "nbformat_minor": 0,
  "metadata": {
    "colab": {
      "provenance": [],
      "authorship_tag": "ABX9TyMO00JdT6L+gQ2ioawgRnJT",
      "include_colab_link": true
    },
    "kernelspec": {
      "name": "python3",
      "display_name": "Python 3"
    },
    "language_info": {
      "name": "python"
    }
  },
  "cells": [
    {
      "cell_type": "markdown",
      "metadata": {
        "id": "view-in-github",
        "colab_type": "text"
      },
      "source": [
        "<a href=\"https://colab.research.google.com/github/CGEC9Estefany/Programaci-n-PYTHON/blob/main/diccionario_A11.ipynb\" target=\"_parent\"><img src=\"https://colab.research.google.com/assets/colab-badge.svg\" alt=\"Open In Colab\"/></a>"
      ]
    },
    {
      "cell_type": "code",
      "execution_count": 2,
      "metadata": {
        "id": "GcGHnPsnN2pX"
      },
      "outputs": [],
      "source": [
        "import random"
      ]
    },
    {
      "cell_type": "code",
      "source": [
        "id = 0"
      ],
      "metadata": {
        "id": "CVhSSZtKTkdw"
      },
      "execution_count": 8,
      "outputs": []
    },
    {
      "cell_type": "code",
      "source": [
        "# Función que genera un numero aleatorio\n",
        "def num_aleatorio(nm1,nm2):\n",
        "    num_random = random.randint(nm1,nm2)\n",
        "    return num_random"
      ],
      "metadata": {
        "id": "Vg_3D8cOQnnb"
      },
      "execution_count": 3,
      "outputs": []
    },
    {
      "cell_type": "code",
      "source": [
        "# funcion para elegir 1 o 2 nombres\n",
        "def nombre_s(nom):\n",
        "    num_nom = num_aleatorio(1,2)\n",
        "    if num_nom == 1:\n",
        "        nombre = random.choice(nom)\n",
        "    else:\n",
        "        nombre = random.sample(nom, 2)\n",
        "    return nombre  "
      ],
      "metadata": {
        "id": "Tn5OE1MIOmsI"
      },
      "execution_count": 4,
      "outputs": []
    },
    {
      "cell_type": "code",
      "source": [
        "def apellidos():\n",
        "    apellido = [\"Ramirez\",\"Contreras\",\"Galindo\",\"Vega\",\"Martinez\",\"Garcia\",\"Castro\",\n",
        "                     \"Arredondo\",\"Palafox\",\"Diaz\",\"Lopez\",\"Gomez\",\"Velarde\",\"Hernandez\",\n",
        "                     \"Gonzalez\",\"Perez\",\"Rodriguez\",\"Sanchez\",\"Parra\",\"Orci\",\"Ruiz\",\"Flores\",\n",
        "                     \"Cruz\",\"Durazo\",\"Grijalva\",\"Nevarez\",\"Palma\", \"Romero\",\"Medina\",\n",
        "                     \"Espinoza\",\"Figueroa\"]\n",
        "    ap = random.choice(apellido)\n",
        "    am = random.choice(apellido)\n",
        "    if am == ap:\n",
        "        ap = random.choice(apellido)\n",
        "    return ap, am"
      ],
      "metadata": {
        "id": "YhhUiA3fQo02"
      },
      "execution_count": 5,
      "outputs": []
    },
    {
      "cell_type": "code",
      "source": [
        "def nombres(genero):\n",
        "    if genero == 1:\n",
        "        sexo = \"Femenino\"\n",
        "        nom_femenino = [\"Alejandra\",\"Maria\",\"Carolina\",\"Estefany\",\"Ana\",\"Rebeca\",\n",
        "                   \"Alicia\", \"Luz\", \"Teresa\",\"Andrea\", \"Sofia\",\"Laura\", \"Melissa\",\n",
        "                   \"Aglaya\", \"Ivonne\",\"Claudia\",\"Gabriela\",\"Yaritza\"]\n",
        "        nombre = nombre_s(nom_femenino)\n",
        "    else:\n",
        "        sexo = \"Masculino\"\n",
        "        nom = [\"Jose\",\"Ignacio\",\"Adolfo\",\"Lenin\",\"Francisco\",\"Diego\", \"Fernando\",\n",
        "                    \"Pedro\",\"Julio\",\"Fabian\", \"Luis\",\"Alberto\",\"Antonio\",\"Santiago\",\n",
        "                    \"Sebastian\",\"Felipe\", \"Emiliano\",\"Russell\", \"Octavio\"]\n",
        "        nombre = nombre_s(nom)\n",
        "\n",
        "    return sexo, nombre"
      ],
      "metadata": {
        "id": "9lD2QaXRQvCj"
      },
      "execution_count": 6,
      "outputs": []
    },
    {
      "cell_type": "code",
      "source": [
        "def registro():\n",
        "    genero = num_aleatorio(1,2)\n",
        "    id += 1\n",
        "    sexo,nombre = nombres(genero)\n",
        "    a_paterno,a_materno = apellidos()\n",
        "    puesto = [\"Gerente\", \"Supervisor\",\"Operador\",\"Mantenimiento\",\"Tecnico\"]\n",
        "    p = random.choice(puesto)\n",
        "    salario = num_aleatorio(10000,25000)\n",
        "    edad = num_aleatorio(20,60)\n",
        "    valores = [id,nombre,a_paterno,a_materno,sexo,edad,p,salario]\n",
        "    return valores"
      ],
      "metadata": {
        "id": "ZCDidoGTRBqr"
      },
      "execution_count": 9,
      "outputs": []
    }
  ]
}