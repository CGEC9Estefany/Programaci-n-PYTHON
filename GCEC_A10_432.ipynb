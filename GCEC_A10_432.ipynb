{
  "nbformat": 4,
  "nbformat_minor": 0,
  "metadata": {
    "colab": {
      "provenance": [],
      "authorship_tag": "ABX9TyPfopbPlRbjzi9VrbSyn7ln",
      "include_colab_link": true
    },
    "kernelspec": {
      "name": "python3",
      "display_name": "Python 3"
    },
    "language_info": {
      "name": "python"
    }
  },
  "cells": [
    {
      "cell_type": "markdown",
      "metadata": {
        "id": "view-in-github",
        "colab_type": "text"
      },
      "source": [
        "<a href=\"https://colab.research.google.com/github/CGEC9Estefany/Programaci-n-PYTHON/blob/main/GCEC_A10_432.ipynb\" target=\"_parent\"><img src=\"https://colab.research.google.com/assets/colab-badge.svg\" alt=\"Open In Colab\"/></a>"
      ]
    },
    {
      "cell_type": "code",
      "source": [
        "import random"
      ],
      "metadata": {
        "id": "-3iEe9fQEI0A"
      },
      "execution_count": 1,
      "outputs": []
    },
    {
      "cell_type": "code",
      "source": [
        "import pprint"
      ],
      "metadata": {
        "id": "-nMjnI5DOftF"
      },
      "execution_count": 2,
      "outputs": []
    },
    {
      "cell_type": "code",
      "source": [
        "import json"
      ],
      "metadata": {
        "id": "poLKc2EWQUPk"
      },
      "execution_count": 3,
      "outputs": []
    },
    {
      "cell_type": "code",
      "source": [
        "!pip install pyyaml"
      ],
      "metadata": {
        "colab": {
          "base_uri": "https://localhost:8080/",
          "height": 0
        },
        "id": "ZByrPG1NSzrM",
        "outputId": "4602cf4d-da72-4cec-bf87-843051040693"
      },
      "execution_count": 4,
      "outputs": [
        {
          "output_type": "stream",
          "name": "stdout",
          "text": [
            "Looking in indexes: https://pypi.org/simple, https://us-python.pkg.dev/colab-wheels/public/simple/\n",
            "Requirement already satisfied: pyyaml in /usr/local/lib/python3.9/dist-packages (6.0)\n"
          ]
        }
      ]
    },
    {
      "cell_type": "code",
      "source": [
        "import yaml"
      ],
      "metadata": {
        "id": "AtMNXb02TUmt"
      },
      "execution_count": 5,
      "outputs": []
    },
    {
      "cell_type": "code",
      "source": [
        "# Función que genera un numero aleatorio\n",
        "def num_aleatorio(nm1,nm2):\n",
        "    num_random = random.randint(nm1,nm2)\n",
        "    return num_random"
      ],
      "metadata": {
        "id": "-S88tYaZEL_0"
      },
      "execution_count": 6,
      "outputs": []
    },
    {
      "cell_type": "code",
      "source": [
        "# Función para validar si que sea un número y no un digito\n",
        "def es_entero(num):\n",
        "    while True:\n",
        "        try:\n",
        "            if num.isdigit():\n",
        "                valor = int(num)\n",
        "            else:\n",
        "                raise TypeError(\"Los valores ingresados deben ser númericos\")\n",
        "        except TypeError as er:\n",
        "            print(f\"Error:\", er) \n",
        "            num = input(\"Introduce valor correctamente: \")\n",
        "        else:\n",
        "            return valor\n",
        "            break"
      ],
      "metadata": {
        "id": "0rQAhtSpQL7B"
      },
      "execution_count": 7,
      "outputs": []
    },
    {
      "cell_type": "code",
      "source": [
        "# Función para validar que no ingresen valores numericos\n",
        "def ingresar_dato(mensaje = \"dato\"):\n",
        "    while True:\n",
        "        try:\n",
        "            dato = input(f\"Ingrese  {mensaje}: \")\n",
        "            if dato.isalpha() and dato.strip() != \"\":\n",
        "                return dato\n",
        "            else:\n",
        "                raise ValueError(f\"El {mensaje} ingresado no es válido. Por favor, ingrese un {mensaje} que contenga solo letras.\")\n",
        "        except ValueError as e:\n",
        "            print(e)\n",
        "\n",
        "        "
      ],
      "metadata": {
        "id": "_ZPxgtDpQ4mg"
      },
      "execution_count": 8,
      "outputs": []
    },
    {
      "cell_type": "code",
      "source": [
        "# Función para validar un numero dentro de un rango dado\n",
        "def val_rango(r1=0,r2=0,mensaje=\"Dame un número entre: \"):\n",
        "    while True:\n",
        "        try:\n",
        "            num = int(input(f\"{mensaje} {r1} y {r2} : \"))\n",
        "        except Exception as e:\n",
        "            print(\"Error: \", e)\n",
        "            continue\n",
        "        if num < r1 or num > r2:\n",
        "            print(\"Error en el rango\")\n",
        "            continue\n",
        "        return num"
      ],
      "metadata": {
        "id": "AvFlY0OrEns2"
      },
      "execution_count": 9,
      "outputs": []
    },
    {
      "cell_type": "code",
      "source": [
        "# funcion para elegir 1 o 2 nombres\n",
        "def nombre_s(nom):\n",
        "    num_nom = num_aleatorio(1,2)\n",
        "    if num_nom == 1:\n",
        "        nombre = random.choice(nom)\n",
        "    else:\n",
        "        nombre = random.sample(nom, 2)\n",
        "    return nombre  "
      ],
      "metadata": {
        "id": "iLYNDBWhLrYV"
      },
      "execution_count": 10,
      "outputs": []
    },
    {
      "cell_type": "code",
      "source": [
        "def apellidos():\n",
        "    apellido = [\"Ramirez\",\"Contreras\",\"Galindo\",\"Vega\",\"Martinez\",\"Garcia\",\"Castro\",\n",
        "                     \"Arredondo\",\"Palafox\",\"Diaz\",\"Lopez\",\"Gomez\",\"Velarde\",\"Hernandez\",\n",
        "                     \"Gonzalez\",\"Perez\",\"Rodriguez\",\"Sanchez\",\"Parra\",\"Orci\",\"Ruiz\",\"Flores\",\n",
        "                     \"Cruz\",\"Durazo\",\"Grijalva\",\"Nevarez\",\"Palma\", \"Romero\",\"Medina\",\n",
        "                     \"Espinoza\",\"Figueroa\"]\n",
        "    ap = random.choice(apellido)\n",
        "    am = random.choice(apellido)\n",
        "    if am == ap:\n",
        "        ap = random.choice(apellido)\n",
        "    return ap, am"
      ],
      "metadata": {
        "id": "_MH9C2y2N2cb"
      },
      "execution_count": 11,
      "outputs": []
    },
    {
      "cell_type": "code",
      "source": [
        "def nombres(genero):\n",
        "    if genero == 1:\n",
        "        sexo = \"Femenino\"\n",
        "        nom_femenino = [\"Alejandra\",\"Maria\",\"Carolina\",\"Estefany\",\"Ana\",\"Rebeca\",\n",
        "                   \"Alicia\", \"Luz\", \"Teresa\",\"Andrea\", \"Sofia\",\"Laura\", \"Melissa\",\n",
        "                   \"Aglaya\", \"Ivonne\",\"Claudia\",\"Gabriela\",\"Yaritza\"]\n",
        "        nombre = nombre_s(nom_femenino)\n",
        "    else:\n",
        "        sexo = \"Masculino\"\n",
        "        nom = [\"Jose\",\"Ignacio\",\"Adolfo\",\"Lenin\",\"Francisco\",\"Diego\", \"Fernando\",\n",
        "                    \"Pedro\",\"Julio\",\"Fabian\", \"Luis\",\"Alberto\",\"Antonio\",\"Santiago\",\n",
        "                    \"Sebastian\",\"Felipe\", \"Emiliano\",\"Russell\", \"Octavio\"]\n",
        "        nombre = nombre_s(nom)\n",
        "\n",
        "    return sexo, nombre"
      ],
      "metadata": {
        "id": "BUC1HmFa6w5D"
      },
      "execution_count": 12,
      "outputs": []
    },
    {
      "cell_type": "code",
      "source": [
        "lista_trabajadores = []"
      ],
      "metadata": {
        "id": "lJx0tmcYLBBG"
      },
      "execution_count": 24,
      "outputs": []
    },
    {
      "cell_type": "code",
      "source": [
        "def ordenar_lista(lista_trabajadores):\n",
        "    if len(lista_trabajadores) == 0:\n",
        "        print(\"!!!No hay registros!! Agrega trabajador\")\n",
        "    else:\n",
        "        lista_ordenada = sorted(lista_trabajadores, key=lambda x: int(x[\"Id\"]))\n",
        "        print(\"Lista de trabajadores ordenada: \")\n",
        "        for trabajador in lista_ordenada:\n",
        "            print(trabajador)\n"
      ],
      "metadata": {
        "id": "ebsHsYPtdK59"
      },
      "execution_count": 14,
      "outputs": []
    },
    {
      "cell_type": "code",
      "source": [
        "def dicc_automatico():\n",
        "    genero = num_aleatorio(1,2)\n",
        "    # Encontrar el ID más alto actualmente en uso\n",
        "    ultimo_id = max([int(trabajador[\"Id\"]) for trabajador in lista_trabajadores]) if lista_trabajadores else 0\n",
        "    # Incrementar el ID más alto en 1 para obtener el nuevo ID\n",
        "    id = ultimo_id + 1\n",
        "    sexo,nombre = nombres(genero)\n",
        "    a_paterno,a_materno = apellidos()\n",
        "    puesto = [\"Gerente\", \"Supervisor\",\"Operador\",\"Mantenimiento\",\"Tecnico\"]\n",
        "    p = random.choice(puesto)\n",
        "    salario = num_aleatorio(10000,25000)\n",
        "    edad = num_aleatorio(20,60)\n",
        "    claves = [\"Id\",\"Nombre\", \"Apellido_Paterno\", \"Apellido_Materno\",\"Sexo\",\"Edad\", \"Puesto\", \"Salario\"]\n",
        "    valores = [id,nombre,a_paterno,a_materno,sexo,edad,p,salario]\n",
        "\n",
        "    dic = dict(zip(claves,valores))\n",
        "    lista_trabajadores.append(dic)\n",
        "    print(\"Diccionario creado con éxito\")"
      ],
      "metadata": {
        "id": "lYBA-H7vHNfm"
      },
      "execution_count": 25,
      "outputs": []
    },
    {
      "cell_type": "code",
      "source": [
        "def dicc_manual():\n",
        "    while True:\n",
        "        try:\n",
        "            id = es_entero(input(\"Ingrese el Id del trabajador \"))\n",
        "            if id in [trabajador[\"Id\"] for trabajador in lista_trabajadores]:\n",
        "                raise ValueError(\"El ID ingresado ya existe en la lista.\")\n",
        "            nombre = ingresar_dato(\"nombre\")\n",
        "            am = ingresar_dato(\"apellido paterno: \")\n",
        "            af = ingresar_dato(\"apellido materno: \")\n",
        "            edad = es_entero(input(\"edad: \"))\n",
        "            puesto = ingresar_dato(\"puesto: \")\n",
        "            salario = es_entero(input(\"Ingrese salario:\"))\n",
        "        \n",
        "            while True:\n",
        "                se = ingresar_dato(\"sexo (F/M)\")\n",
        "                if se.lower() == \"f\":\n",
        "                    sexo = \"Femenino\"\n",
        "                    break\n",
        "                elif se.lower() == \"m\":\n",
        "                    sexo = \"Masculino\"\n",
        "                    break\n",
        "                else: \n",
        "                    print(\"Ingrese F ó M\")\n",
        "                    continue\n",
        "    \n",
        "               \n",
        "        except Exception as e:\n",
        "                print(\"Error: \", e)\n",
        "        else:\n",
        "            claves = [\"Id\",\"Nombre\", \"Apellido_Paterno\", \"Apellido_Materno\", \"Sexo\", \"Edad\", \"Puesto\", \"Salario\"]\n",
        "            valores = [id,nombre,am,af,sexo,edad,puesto,salario]\n",
        "        \n",
        "            dic = dict(zip(claves,valores))\n",
        "            lista_trabajadores.append(dic)\n",
        "            print(\"Trabajador agregado manualmente: con éxito\")\n",
        "            break"
      ],
      "metadata": {
        "id": "XebZFB_lOf8Z"
      },
      "execution_count": 23,
      "outputs": []
    },
    {
      "cell_type": "code",
      "source": [
        "def imprimir():\n",
        "    if len(lista_trabajadores) == 0:\n",
        "        print(\"!!!No hay registros!! Agrega trabajador\")\n",
        "    else:\n",
        "        a = num_aleatorio(1,3)\n",
        "        if a == 1:\n",
        "            pprint.pprint(lista_trabajadores)  \n",
        "        elif a == 2:\n",
        "            print(json.dumps(lista_trabajadores, sort_keys=False, indent=2))\n",
        "        else:\n",
        "            print(yaml.dump(lista_trabajadores, sort_keys=False, default_flow_style=False))\n",
        "\n",
        "              "
      ],
      "metadata": {
        "id": "MJyTYQjuSb-W"
      },
      "execution_count": 17,
      "outputs": []
    },
    {
      "cell_type": "code",
      "source": [
        "# Función para buscar un trabajador por su ID\n",
        "def buscar_trabajador(lista_trabajadores):\n",
        "    if len(lista_trabajadores) == 0:\n",
        "        print(\"!!!No hay registros!! Agrega trabajador\")\n",
        "    else:\n",
        "        id_busqueda = es_entero(input(\"Ingrese el ID del trabajador que desea buscar: \"))\n",
        "        trabajador_buscado = [ trabajador for trabajador in lista_trabajadores if trabajador[\"Id\"] == id_busqueda]\n",
        "        if len(trabajador_buscado) == 0:\n",
        "            print(\"No se encontró ningún trabajador con ese ID.\")\n",
        "        else:\n",
        "            print(\"Trabajador encontrado:\")\n",
        "            for trabajador in trabajador_buscado:\n",
        "                print(trabajador)"
      ],
      "metadata": {
        "id": "KLiUR0fBUzp8"
      },
      "execution_count": 18,
      "outputs": []
    },
    {
      "cell_type": "code",
      "source": [
        "def eliminar_trabajador(lista_trabajadores):\n",
        "    if len(lista_trabajadores) == 0:\n",
        "        print(\"!!!No hay registros!! Agrega trabajador\")\n",
        "    else:\n",
        "        id_busqueda = es_entero(input(\"Ingrese el ID del trabajador que desea eliminar: \"))\n",
        "        trabajador_buscado = [ trabajador for trabajador in lista_trabajadores if trabajador[\"Id\"] == id_busqueda]\n",
        "        if len(trabajador_buscado) == 0:\n",
        "            print(\"No se encontró ningún trabajador con ese ID.\")\n",
        "        else:\n",
        "            while True:\n",
        "                seguro = input(\"¿Estás seguro de eliminar trabajador? (s/n)\")\n",
        "                if seguro.lower() == \"s\":\n",
        "                    for trabajador in trabajador_buscado:\n",
        "                        lista_trabajadores.remove(trabajador)\n",
        "                        nombre = trabajador[\"Id\"]\n",
        "                        print(f\"Se ha eliminado al trabajaror con id: {nombre}\")\n",
        "                    break\n",
        "                elif seguro.lower() == \"n\":\n",
        "                    print(\"Operación cancelada\")\n",
        "                    break\n",
        "                else: \n",
        "                    print(\"Ingrese S ó N para realizar la operación\")\n",
        "                    continue\n",
        "    "
      ],
      "metadata": {
        "id": "LqYizidmioGH"
      },
      "execution_count": 19,
      "outputs": []
    },
    {
      "cell_type": "code",
      "source": [
        "def borrar_lista(lista_trabajadores):\n",
        "     if len(lista_trabajadores) == 0:\n",
        "         print(\"!!!No hay registros!! Agrega trabajador\")\n",
        "     else:\n",
        "         while True:\n",
        "                seguro = input(\"¿Estás seguro de eliminar todos los registros? (s/n)\")\n",
        "                if seguro.lower() == \"s\":\n",
        "                    lista_trabajadores.clear()\n",
        "                    print(f\"Se ha eliminado la lista de empleados\")\n",
        "                    break\n",
        "                elif seguro.lower() == \"n\":\n",
        "                    print(\"Operación cancelada\")\n",
        "                    break\n",
        "                else: \n",
        "                    print(\"Ingrese S ó N para realizar la operación\")\n",
        "                    continue\n",
        "    \n"
      ],
      "metadata": {
        "id": "_3TO0XOSsvUj"
      },
      "execution_count": 20,
      "outputs": []
    },
    {
      "cell_type": "code",
      "execution_count": 21,
      "metadata": {
        "id": "S01Q_15GDigk"
      },
      "outputs": [],
      "source": [
        "def menu():\n",
        "    while True:\n",
        "        print(\"=======================================================================\")\n",
        "        print(\"1. Crear automatico \\n2.Crear manual \\n3.Imprimir lista \\\n",
        "               \\n4.Buscar(id) \\n5.Ordenar \\n6.Eliminar(id) \\n7.Borrar toda la lista \\\n",
        "               \\n0. SALIR.\")\n",
        "        print(\"=======================================================================\")\n",
        "        opcion = val_rango(0,7)\n",
        "      \n",
        "        if opcion == 1:\n",
        "             dicc_automatico()\n",
        "        elif opcion == 2:\n",
        "             dicc_manual()\n",
        "        elif opcion == 3:\n",
        "             imprimir()\n",
        "        elif opcion == 4:\n",
        "            buscar_trabajador(lista_trabajadores)\n",
        "        elif opcion == 5:\n",
        "             ordenar_lista(lista_trabajadores)\n",
        "        elif opcion == 6:\n",
        "            eliminar_trabajador(lista_trabajadores)\n",
        "        elif opcion == 7:\n",
        "            borrar_lista(lista_trabajadores)\n",
        "        else:\n",
        "            print(\"Saliendo...\")\n",
        "            break"
      ]
    },
    {
      "cell_type": "code",
      "source": [
        "menu()"
      ],
      "metadata": {
        "colab": {
          "base_uri": "https://localhost:8080/",
          "height": 0
        },
        "id": "WzBOA84WSEx-",
        "outputId": "794a06ed-a3e6-4f04-c9e3-8a7f6690dfcd"
      },
      "execution_count": 27,
      "outputs": [
        {
          "output_type": "stream",
          "name": "stdout",
          "text": [
            "=======================================================================\n",
            "1. Crear automatico \n",
            "2.Crear manual \n",
            "3.Imprimir lista                \n",
            "4.Buscar(id) \n",
            "5.Ordenar \n",
            "6.Eliminar(id) \n",
            "7.Borrar toda la lista(id)                \n",
            "0. SALIR.\n",
            "=======================================================================\n",
            "Dame un número entre:  0 y 7 : 1\n",
            "Diccionario creado con éxito\n",
            "=======================================================================\n",
            "1. Crear automatico \n",
            "2.Crear manual \n",
            "3.Imprimir lista                \n",
            "4.Buscar(id) \n",
            "5.Ordenar \n",
            "6.Eliminar(id) \n",
            "7.Borrar toda la lista(id)                \n",
            "0. SALIR.\n",
            "=======================================================================\n",
            "Dame un número entre:  0 y 7 : 2\n",
            "Ingrese el Id del trabajador 4\n",
            "Error:  El ID ingresado ya existe en la lista.\n",
            "Ingrese el Id del trabajador 6\n",
            "Error:  El ID ingresado ya existe en la lista.\n",
            "Ingrese el Id del trabajador 7\n",
            "Ingrese  nombre: Lenin\n",
            "Ingrese  apellido paterno: : Castro\n",
            "Ingrese  apellido materno: : Garcia\n",
            "edad: 43\n",
            "Ingrese  puesto: : Supervisor\n",
            "Ingrese salario:34566\n",
            "Ingrese  sexo (F/M): m\n",
            "Trabajador agregado manualmente: con éxito\n",
            "=======================================================================\n",
            "1. Crear automatico \n",
            "2.Crear manual \n",
            "3.Imprimir lista                \n",
            "4.Buscar(id) \n",
            "5.Ordenar \n",
            "6.Eliminar(id) \n",
            "7.Borrar toda la lista(id)                \n",
            "0. SALIR.\n",
            "=======================================================================\n",
            "Dame un número entre:  0 y 7 : 3\n",
            "[\n",
            "  {\n",
            "    \"Id\": 1,\n",
            "    \"Nombre\": \"Felipe\",\n",
            "    \"Apellido_Paterno\": \"Flores\",\n",
            "    \"Apellido_Materno\": \"Martinez\",\n",
            "    \"Sexo\": \"Masculino\",\n",
            "    \"Edad\": 49,\n",
            "    \"Puesto\": \"Tecnico\",\n",
            "    \"Salario\": 15827\n",
            "  },\n",
            "  {\n",
            "    \"Id\": 4,\n",
            "    \"Nombre\": \"Javier\",\n",
            "    \"Apellido_Paterno\": \"Garcia\",\n",
            "    \"Apellido_Materno\": \"Contreras\",\n",
            "    \"Sexo\": \"Masculino\",\n",
            "    \"Edad\": 34,\n",
            "    \"Puesto\": \"Gerente\",\n",
            "    \"Salario\": 2000\n",
            "  },\n",
            "  {\n",
            "    \"Id\": 5,\n",
            "    \"Nombre\": [\n",
            "      \"Ana\",\n",
            "      \"Rebeca\"\n",
            "    ],\n",
            "    \"Apellido_Paterno\": \"Galindo\",\n",
            "    \"Apellido_Materno\": \"Velarde\",\n",
            "    \"Sexo\": \"Femenino\",\n",
            "    \"Edad\": 33,\n",
            "    \"Puesto\": \"Mantenimiento\",\n",
            "    \"Salario\": 21330\n",
            "  },\n",
            "  {\n",
            "    \"Id\": 2,\n",
            "    \"Nombre\": \"Estefany\",\n",
            "    \"Apellido_Paterno\": \"Galindo\",\n",
            "    \"Apellido_Materno\": \"Contreras\",\n",
            "    \"Sexo\": \"Femenino\",\n",
            "    \"Edad\": 24,\n",
            "    \"Puesto\": \"Mantenimiento\",\n",
            "    \"Salario\": 10000\n",
            "  },\n",
            "  {\n",
            "    \"Id\": 6,\n",
            "    \"Nombre\": [\n",
            "      \"Jose\",\n",
            "      \"Pedro\"\n",
            "    ],\n",
            "    \"Apellido_Paterno\": \"Flores\",\n",
            "    \"Apellido_Materno\": \"Gomez\",\n",
            "    \"Sexo\": \"Masculino\",\n",
            "    \"Edad\": 24,\n",
            "    \"Puesto\": \"Mantenimiento\",\n",
            "    \"Salario\": 20604\n",
            "  },\n",
            "  {\n",
            "    \"Id\": 7,\n",
            "    \"Nombre\": \"Lenin\",\n",
            "    \"Apellido_Paterno\": \"Castro\",\n",
            "    \"Apellido_Materno\": \"Garcia\",\n",
            "    \"Sexo\": \"Masculino\",\n",
            "    \"Edad\": 43,\n",
            "    \"Puesto\": \"Supervisor\",\n",
            "    \"Salario\": 34566\n",
            "  }\n",
            "]\n",
            "=======================================================================\n",
            "1. Crear automatico \n",
            "2.Crear manual \n",
            "3.Imprimir lista                \n",
            "4.Buscar(id) \n",
            "5.Ordenar \n",
            "6.Eliminar(id) \n",
            "7.Borrar toda la lista(id)                \n",
            "0. SALIR.\n",
            "=======================================================================\n",
            "Dame un número entre:  0 y 7 : 6\n",
            "Ingrese el ID del trabajador que desea eliminar: 2\n",
            "¿Estás seguro de eliminar trabajador? (s/n)s\n",
            "Se ha eliminado al trabajaror con id: 2\n",
            "=======================================================================\n",
            "1. Crear automatico \n",
            "2.Crear manual \n",
            "3.Imprimir lista                \n",
            "4.Buscar(id) \n",
            "5.Ordenar \n",
            "6.Eliminar(id) \n",
            "7.Borrar toda la lista(id)                \n",
            "0. SALIR.\n",
            "=======================================================================\n",
            "Dame un número entre:  0 y 7 : 5\n",
            "Lista de trabajadores ordenada: \n",
            "{'Id': 1, 'Nombre': 'Felipe', 'Apellido_Paterno': 'Flores', 'Apellido_Materno': 'Martinez', 'Sexo': 'Masculino', 'Edad': 49, 'Puesto': 'Tecnico', 'Salario': 15827}\n",
            "{'Id': 4, 'Nombre': 'Javier', 'Apellido_Paterno': 'Garcia', 'Apellido_Materno': 'Contreras', 'Sexo': 'Masculino', 'Edad': 34, 'Puesto': 'Gerente', 'Salario': 2000}\n",
            "{'Id': 5, 'Nombre': ['Ana', 'Rebeca'], 'Apellido_Paterno': 'Galindo', 'Apellido_Materno': 'Velarde', 'Sexo': 'Femenino', 'Edad': 33, 'Puesto': 'Mantenimiento', 'Salario': 21330}\n",
            "{'Id': 6, 'Nombre': ['Jose', 'Pedro'], 'Apellido_Paterno': 'Flores', 'Apellido_Materno': 'Gomez', 'Sexo': 'Masculino', 'Edad': 24, 'Puesto': 'Mantenimiento', 'Salario': 20604}\n",
            "{'Id': 7, 'Nombre': 'Lenin', 'Apellido_Paterno': 'Castro', 'Apellido_Materno': 'Garcia', 'Sexo': 'Masculino', 'Edad': 43, 'Puesto': 'Supervisor', 'Salario': 34566}\n",
            "=======================================================================\n",
            "1. Crear automatico \n",
            "2.Crear manual \n",
            "3.Imprimir lista                \n",
            "4.Buscar(id) \n",
            "5.Ordenar \n",
            "6.Eliminar(id) \n",
            "7.Borrar toda la lista(id)                \n",
            "0. SALIR.\n",
            "=======================================================================\n",
            "Dame un número entre:  0 y 7 : 4\n",
            "Ingrese el ID del trabajador que desea buscar: 5\n",
            "Trabajador encontrado:\n",
            "{'Id': 5, 'Nombre': ['Ana', 'Rebeca'], 'Apellido_Paterno': 'Galindo', 'Apellido_Materno': 'Velarde', 'Sexo': 'Femenino', 'Edad': 33, 'Puesto': 'Mantenimiento', 'Salario': 21330}\n",
            "=======================================================================\n",
            "1. Crear automatico \n",
            "2.Crear manual \n",
            "3.Imprimir lista                \n",
            "4.Buscar(id) \n",
            "5.Ordenar \n",
            "6.Eliminar(id) \n",
            "7.Borrar toda la lista(id)                \n",
            "0. SALIR.\n",
            "=======================================================================\n",
            "Dame un número entre:  0 y 7 : 7\n",
            "¿Estás seguro de eliminar todos los registros? (s/n)s\n",
            "Se ha eliminado la lista de empleados\n",
            "=======================================================================\n",
            "1. Crear automatico \n",
            "2.Crear manual \n",
            "3.Imprimir lista                \n",
            "4.Buscar(id) \n",
            "5.Ordenar \n",
            "6.Eliminar(id) \n",
            "7.Borrar toda la lista(id)                \n",
            "0. SALIR.\n",
            "=======================================================================\n",
            "Dame un número entre:  0 y 7 : 3\n",
            "!!!No hay registros!! Agrega trabajador\n",
            "=======================================================================\n",
            "1. Crear automatico \n",
            "2.Crear manual \n",
            "3.Imprimir lista                \n",
            "4.Buscar(id) \n",
            "5.Ordenar \n",
            "6.Eliminar(id) \n",
            "7.Borrar toda la lista(id)                \n",
            "0. SALIR.\n",
            "=======================================================================\n",
            "Dame un número entre:  0 y 7 : 0\n",
            "Saliendo...\n"
          ]
        }
      ]
    }
  ]
}