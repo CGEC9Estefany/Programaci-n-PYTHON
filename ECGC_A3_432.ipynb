{
  "nbformat": 4,
  "nbformat_minor": 0,
  "metadata": {
    "colab": {
      "provenance": [],
      "authorship_tag": "ABX9TyPfpgBQZJYO8rbj5r+jRYfl",
      "include_colab_link": true
    },
    "kernelspec": {
      "name": "python3",
      "display_name": "Python 3"
    },
    "language_info": {
      "name": "python"
    }
  },
  "cells": [
    {
      "cell_type": "markdown",
      "metadata": {
        "id": "view-in-github",
        "colab_type": "text"
      },
      "source": [
        "<a href=\"https://colab.research.google.com/github/CGEC9Estefany/Programaci-n-PYTHON/blob/main/ECGC_A3_432.ipynb\" target=\"_parent\"><img src=\"https://colab.research.google.com/assets/colab-badge.svg\" alt=\"Open In Colab\"/></a>"
      ]
    },
    {
      "cell_type": "markdown",
      "source": [
        "##1.- Algoritmo que lea 3 calificaciones calcule el promedio del alumno y desplegar: \n",
        "\n",
        "Si prom < 30 Repetir \n",
        "\n",
        "Si prom >=30 y prom <60 extraordinario \n",
        "\n",
        "Si prom >=60 y prom <70 suficiente \n",
        "\n",
        "Si prom >=70 y prom <80 Regular \n",
        "\n",
        "Si prom >=80 y prom <90 bien \n",
        "\n",
        "Si prom >=90 y prom <98 muy bien \n",
        "\n",
        "Si prom >=98 y prom <=100 excelente \n",
        "\n",
        "Si prom >100 Error en promedio \n",
        "\n",
        "Realizar el algoritmo optimizado"
      ],
      "metadata": {
        "id": "pUNf0j0g5_aE"
      }
    },
    {
      "cell_type": "code",
      "execution_count": null,
      "metadata": {
        "id": "TK0vqWPW5o1Z"
      },
      "outputs": [],
      "source": [
        "cal1 = int(input(\"Ingrese calificacion 1: \"))\n",
        "cal2 = int(input(\"Ingrese calificacion 2: \"))\n",
        "cal3 = int(input(\"Ingrese calificacion 3: \"))\n",
        "sum = cal1 + cal2 + cal3\n",
        "prom = sum / 3\n",
        "\n",
        "if prom < 30:\n",
        "    print(\"Repetir\")\n",
        "elif prom >= 30 and prom < 60:\n",
        "    print(\"Extraordinario\")\n",
        "elif prom >= 60 and prom < 70:\n",
        "    print(\"Suficiente\")\n",
        "elif prom >= 70 and prom < 80:\n",
        "    print(\"Regular\")\n",
        "elif prom >=80 and prom < 90:\n",
        "    print(\"Bien\")\n",
        "elif prom >= 90 and prom < 98:\n",
        "    print(\"Muy bien\")\n",
        "elif prom >= 98 and prom <= 100:\n",
        "    print(\"Excelente\")\n",
        "elif prom > 100:\n",
        "    print(\"Error en  promedio\")"
      ]
    },
    {
      "cell_type": "markdown",
      "source": [
        "##2.- Algoritmo que sirva para calcular el salario semanal de un trabajador donde se obtiene como dato de entrada las horas semanales trabajadas, el salario por hora. \n",
        "\n",
        "El programa deberá calcular el salario normal, salario extra y salario total, considerando lo siguiente: \n",
        "\n",
        "Jornada Normal de 40 horas. \n",
        "\n",
        "\n",
        "*   El salario normal se considera las horas trabajadas menores o igual a la jornada normal\n",
        "*  Salario extra se considera las horas trabajadas mayores a la jornada normal y se pagan dobles las primeras 9 y triples a partir de la décima hora extra  \n",
        "\n",
        "\n",
        "\n",
        "\n",
        "\n",
        "Nota: Desplegar todos los datos (Salario x hora, Horas Trabajadas, Salario normal, Salario extra y Salario Total)"
      ],
      "metadata": {
        "id": "UdBFo_Dz6urj"
      }
    },
    {
      "cell_type": "code",
      "source": [
        "hora = int(input(\"Ingrese las horas semanales trabajadas: \"))\n",
        "salario = float(input(\"Ingrese su salario por hora: \"))\n",
        "jornada_normal = 40\n",
        "salario_extra = 0 \n",
        "salario_normal = 0\n",
        "salario_doble = 0\n",
        "salario_total = 0\n",
        "salario_triple = 0\n",
        "\n",
        "if hora <= jornada_normal:\n",
        "    salario_normal = salario * hora \n",
        "elif hora > jornada_normal and hora <= 49:\n",
        "    salario_normal = salario * jornada_normal \n",
        "    horas = hora - 40\n",
        "    salario_doble = horas * salario * 2 \n",
        "else:\n",
        "    horas = hora - 49\n",
        "    salario_doble = 9 * salario * 2 \n",
        "    salario_triple = horas * salario * 3\n",
        "    salario_normal = salario * jornada_normal\n",
        "    \n",
        "salario_extra = salario_triple + salario_doble  \n",
        "salario_total = salario_extra + salario_normal\n",
        "print(f\"Salario x hora: {salario}, Horas trabajadas: {hora} y el salario normal \\\n",
        "es: {salario_normal} salario extra: {salario_extra} y salario total: {salario_total}\")\n",
        "\n",
        "\n"
      ],
      "metadata": {
        "id": "SK6CxsGz6vIS",
        "colab": {
          "base_uri": "https://localhost:8080/"
        },
        "outputId": "59c441e3-8603-4a58-f915-8f8cd46a5364"
      },
      "execution_count": null,
      "outputs": [
        {
          "output_type": "stream",
          "name": "stdout",
          "text": [
            "Ingrese las horas semanales trabajadas: 60\n",
            "Ingrese su salario por hora: 100\n",
            "Salario x hora: 100.0, Horas trabajadas: 60 y el salario normal es: 4000.0 salario extra: 5100.0 y salario total: 9100.0\n"
          ]
        }
      ]
    },
    {
      "cell_type": "markdown",
      "source": [
        "##3.- Algoritmo que sirva para desplegar el Total de una llamada telefónica donde se pide como datos de entrada los minutos y el tipo de llamada, se cobra de la siguiente manera:\n",
        "\n",
        "1.- Llamada Local $3.00 sin límite de tiempo \n",
        "\n",
        "2.- Llamada Nacional $7.00 por los 3 primeros minutos y $2.00 minuto adicional \n",
        "\n",
        "3.- Llamada Internacional $9.00 por los 2 primeros minutos y $4.00 minuto adicional\n",
        "\n",
        " Desplegar, Subtotal,Iva (16%) y Total."
      ],
      "metadata": {
        "id": "GToskX8HNg3q"
      }
    },
    {
      "cell_type": "code",
      "source": [
        "minutos = int(input(\"Ingrese los minutos de llamada: \"))\n",
        "print(\"1. LLamada Local \\n2. Llamada Nacional \\n3. Llamada Internacional\")\n",
        "tipo = int(input(\"Ingrese el tipo de llamada: \"))\n",
        "total = 0\n",
        "subtotal = 0\n",
        "iva = 0\n",
        "\n",
        "if tipo == 1:\n",
        "    subtotal = 3\n",
        "elif tipo == 2:\n",
        "    if minutos <= 3:\n",
        "        subtotal = 7\n",
        "    else:\n",
        "         extra = minutos - 3\n",
        "         min_ad = extra * 2\n",
        "         subtotal = 7 + min_ad\n",
        "elif tipo == 3:\n",
        "     if minutos <= 2:\n",
        "         subtotal = 9\n",
        "     else:\n",
        "         min_extra = minutos - 2\n",
        "         min_ad = min_extra * 4\n",
        "         subtotal = 9 + min_ad\n",
        "iva = 0.16 * subtotal\n",
        "total = subtotal + iva\n",
        "print(f\"El subtotal es: {subtotal}, Iva: {iva} , Total: {total}\")\n",
        "\n"
      ],
      "metadata": {
        "colab": {
          "base_uri": "https://localhost:8080/"
        },
        "id": "9LSOaoHjNhr2",
        "outputId": "7bb0c36e-b77c-4508-ca2c-0160fe1bf3c7"
      },
      "execution_count": null,
      "outputs": [
        {
          "output_type": "stream",
          "name": "stdout",
          "text": [
            "Ingrese los minutos de llamada: 2\n",
            "1. LLamada Local \n",
            "2. Llamada Nacional \n",
            "3. Llamada Internacional\n",
            "Ingrese el tipo de llamada: 2\n",
            "El subtotal es: 7, Iva: 1.12 , Total: 8.120000000000001\n"
          ]
        }
      ]
    },
    {
      "cell_type": "markdown",
      "source": [
        "##4.- Algoritmo que sirva para calcular el Total a pagar por consumo de agua, donde el dato de entrada son los M3 de agua consumidos, Tomar en cuenta que se cobra escalonada de la Siguiente manera: \n",
        "\n",
        "Rango1: 0 al 4 M3 $50 x facturación sin importar cuánto consumió en este rango \n",
        "\n",
        "Rango2: 5 a 15 M3 $8.00 x M3 \n",
        "\n",
        "Rango3: 16 a 50 M3 $10.00 x M3 \n",
        "\n",
        "Rango4: 51 M3 en adelante $11.00 x M3 \n",
        "\n",
        "Nota: Desplegar SubTotal, Iva(16%), y Total a pagar."
      ],
      "metadata": {
        "id": "4jooDaguNthn"
      }
    },
    {
      "cell_type": "code",
      "source": [
        "m3 = int(input(\"Ingrese los metros cúbicos: \"))\n",
        "iva = 0\n",
        "total = 0\n",
        "\n",
        "if m3 > 0 and m3 <= 4:\n",
        "    subtotal = 50\n",
        "elif m3 >= 5 and m3 <= 15:\n",
        "    subtotal = 8 * m3\n",
        "elif m3 >= 16 and m3 <= 50:\n",
        "    subtotal = 10 * m3\n",
        "elif m3 >= 51 :\n",
        "    subtotal = 11 * m3\n",
        "iva = 0.16 * subtotal\n",
        "total = subtotal + iva\n",
        "print(f\"El subtotal es: {subtotal}, el Iva: {iva} y el total a pagar es: {total}\")"
      ],
      "metadata": {
        "colab": {
          "base_uri": "https://localhost:8080/"
        },
        "id": "MKtLUmCgNuM7",
        "outputId": "54f1d41a-53f8-4a13-d2c1-d35a67bf1608"
      },
      "execution_count": null,
      "outputs": [
        {
          "output_type": "stream",
          "name": "stdout",
          "text": [
            "Ingrese los metros cúbicos: 15\n",
            "El subtotal es: 120, el Iva: 19.2 y el total a pagar es: 139.2\n"
          ]
        }
      ]
    },
    {
      "cell_type": "markdown",
      "source": [
        "##5- En la materia de Metodología de la programación se aplican 5 exámenes, calcular el promedio final de la materia donde la calificación menor de los exámenes se anula y el promedio se calcula en base a 4 exámenes.\n",
        "\n",
        "Desplegar el promedio final. "
      ],
      "metadata": {
        "id": "DmgAQ7YYN1uu"
      }
    },
    {
      "cell_type": "code",
      "source": [
        "exam1 = int(input(\"Ingrese calificación del examen 1: \"))\n",
        "exam2 = int(input(\"Ingrese calificación del examen 2: \"))\n",
        "exam3 = int(input(\"Ingrese calificación del examen 3: \"))\n",
        "exam4 = int(input(\"Ingrese calificación del examen 4: \"))\n",
        "exam5 = int(input(\"Ingrese calificación del examen 5: \"))\n",
        "\n",
        "if exam1 < exam2 and exam1 < exam3 and exam1 < exam4 and exam1 < exam5:\n",
        "    suma = exam2 + exam3 + exam4 + exam5\n",
        "elif exam2 < exam1 and exam2 < exam3 and exam2 < exam4 and exam2 < exam5:\n",
        "    suma = exam1 + exam3 + exam4 + exam5\n",
        "elif exam3 < exam1 and exam3 < exam2 and exam3 < exam4 and exam3 < exam5:\n",
        "    suma = exam1 + exam2 + exam4 + exam5\n",
        "elif exam4 < exam1 and exam4 < exam2 and exam4 < exam3 and exam4 < exam5:\n",
        "    suma = exam1 + exam2 + exam3 + exam5\n",
        "else: \n",
        "    suma = exam1 + exam2 + exam3 + exam4\n",
        "promedio = suma / 4\n",
        "print(f\"El promedio es: {promedio}\")\n",
        "\n",
        "    \n",
        "    "
      ],
      "metadata": {
        "colab": {
          "base_uri": "https://localhost:8080/"
        },
        "id": "PRyZ9ClJN2Xg",
        "outputId": "bc086264-a328-421c-8db7-ecd235c8b02f"
      },
      "execution_count": null,
      "outputs": [
        {
          "output_type": "stream",
          "name": "stdout",
          "text": [
            "Ingrese calificación del examen 1: 95\n",
            "Ingrese calificación del examen 2: 70\n",
            "Ingrese calificación del examen 3: 100\n",
            "Ingrese calificación del examen 4: 80\n",
            "Ingrese calificación del examen 5: 20\n",
            "El promedio es: 86.25\n"
          ]
        }
      ]
    },
    {
      "cell_type": "markdown",
      "source": [
        "##6.- Algoritmo que sirva para el juego del CHINCHAMPU (Piedra, Papel, Tijera) para 1 jugador y la computadora, (usar condición anidada) "
      ],
      "metadata": {
        "id": "2qDz_5XBN25S"
      }
    },
    {
      "cell_type": "code",
      "source": [
        "import random\n",
        "print(\"1 = piedra \\n2 = Papel \\n3 = Tijera\\n\")\n",
        "jugador = int(input(\"Ingrese la opción que desee para jugar: \"))\n",
        "computadora = random.randint(1,3)\n",
        "juego_computadora = \"\"\n",
        "\n",
        "if jugador == 1:\n",
        "    print(\"Elegiste ser piedra\\n\")\n",
        "    if computadora == 1:\n",
        "        print(\"Empate!! \\nEl contrincante era piedra \")\n",
        "    if computadora == 2:\n",
        "        print(\"Perdiste!! \\nEl contrincante era papel\")\n",
        "    if computadora == 3:\n",
        "        print(\"Ganaste!! \\nEl contrincante era tijera\")\n",
        "if jugador == 2:\n",
        "    print(\"Elegiste ser papel\\n\")\n",
        "    if computadora == 1:\n",
        "        print(\"Perdiste!! \\nEl contrincante era piedra \")\n",
        "    if computadora == 2:\n",
        "        print(\"Empate!! \\nEl contrincante era papel\")\n",
        "    if computadora == 3:\n",
        "        print(\"Perdiste!! \\nEl contrincante era tijera\")\n",
        "if jugador == 3:\n",
        "    print(\"Elegiste ser tijera\\n\")\n",
        "    if computadora == 1:\n",
        "        print(\"Ganaste!! \\nEl contrincante era piedra \")\n",
        "    if computadora == 2:\n",
        "        print(\"Ganaste!! \\nEl contrincante era papel\")\n",
        "    if computadora == 3:\n",
        "        print(\"Empate!! \\nEl contrincante era tijera\")\n",
        "elif jugador > 3:\n",
        "    print(\"Selecciona unicamente del 1-3\")"
      ],
      "metadata": {
        "id": "Y3Cni8SgN3nv",
        "colab": {
          "base_uri": "https://localhost:8080/"
        },
        "outputId": "1c3d49ca-6344-4ad6-8d21-9d9dda7546c9"
      },
      "execution_count": null,
      "outputs": [
        {
          "output_type": "stream",
          "name": "stdout",
          "text": [
            "1 = piedra \n",
            "2 = Papel \n",
            "3 = Tijera\n",
            "\n",
            "Ingrese la opción que desee para jugar: 2\n",
            "Elegiste ser papel\n",
            "\n",
            "Perdiste!! \n",
            "El contrincante era piedra \n"
          ]
        }
      ]
    },
    {
      "cell_type": "markdown",
      "source": [
        "##7.- Algoritmo que sirva para el juego del CHINCHAMPU (Piedra, Papel, Tijera) para 1 jugador y la computadora, (usar selección múltiple) "
      ],
      "metadata": {
        "id": "mUmBrjWFN4KN"
      }
    },
    {
      "cell_type": "code",
      "source": [
        "import random\n",
        "\n",
        "print(\"1 = piedra \\n2 = Papel \\n3 = Tijera\\n\")\n",
        "jugador = int(input(\"Ingrese la opción que desee para jugar: \"))\n",
        "computadora = random.randint(1,3)\n",
        "juego_computadora = \"\"\n",
        "\n",
        "if jugador == 1:\n",
        "    print(\"Elegiste ser piedra\\n\")\n",
        "elif jugador == 2:\n",
        "    print(\"Elegiste ser papel\\n\")\n",
        "elif jugador == 3:\n",
        "    print(\"Elegiste ser tijera\\n\")\n",
        "else:\n",
        "    print(\"Selecciona unicamente del 1-3\")\n",
        "\n",
        "## Juego de la computadora\n",
        "if computadora == 1:\n",
        "    juego_computadora = \"contrincante era piedra\"\n",
        "elif computadora == 2:\n",
        "    juego_computadora = \"contrincante era papel\"\n",
        "elif computadora == 3:\n",
        "    juego_computadora = \"contrincante era tijera\"\n",
        "print(\"Chinchampu...\\n\")\n",
        "\n",
        "if jugador == 1 and computadora == 1 or jugador == 2 and \\\n",
        "computadora == 2 or jugador == 3 and computadora == 3:\n",
        "    print(f\"Empate!!! \\nEl {juego_computadora}\")\n",
        "elif jugador == 1 and computadora == 2 or jugador == 2 \\\n",
        "and computadora == 3 or jugador == 3 and computadora == 1:\n",
        "    print(f\"¡Perdiste!, intentalo de nuevo \\nEl {juego_computadora}\")\n",
        "elif jugador == 1 and computadora == 3 or jugador == 2 \\\n",
        "and computadora == 1 or jugador == 3 and computadora == 2:\n",
        "    print(f\"¡Ganaste!, Juega de nuevo \\nEl {juego_computadora}\")"
      ],
      "metadata": {
        "id": "SJZYnIejN4tj",
        "colab": {
          "base_uri": "https://localhost:8080/"
        },
        "outputId": "87c98b32-4439-4a54-c47e-eaab72f5cf6c"
      },
      "execution_count": null,
      "outputs": [
        {
          "output_type": "stream",
          "name": "stdout",
          "text": [
            "1 = piedra \n",
            "2 = Papel \n",
            "3 = Tijera\n",
            "\n",
            "Ingrese la opción que desee para jugar: 2\n",
            "Elegiste ser papel\n",
            "\n",
            "Chinchampu...\n",
            "¡Perdiste!, intentalo de nuevo \n",
            "El contrincante era tijera\n"
          ]
        }
      ]
    },
    {
      "cell_type": "markdown",
      "source": [
        "##8.- Una tienda de electrónica ofrece descuentos a sus clientes, dependiendo del tipo de producto que compren. Si el cliente compra una computadora, tiene un descuento del 5% en el precio de la computadora y un 10% de descuento en una impresora si la compra junto con la computadora. Si el cliente compra una televisión, tiene un descuento del 7% en el precio de la televisión y un 15% de descuento en una barra de sonido si la compra junto con la televisión. Si el cliente compra una consola de videojuegos, tiene un descuento del 10% en el precio de la consola y un 20% de descuento en un juego si lo compra junto con la consola. Escribe un programa que calcule el precio a pagar por un cliente, tomando en cuenta los descuentos correspondientes."
      ],
      "metadata": {
        "id": "nMCB5GRDN5lW"
      }
    },
    {
      "cell_type": "code",
      "source": [
        "compra = int(input(\"1. Computadora.  \\n2. Televisión \\n3. Consola de videojuego \"))\n",
        "precio = int(input(\"Ingrese el precio del producto \"))\n",
        "des1 = 0\n",
        "des2 = 0\n",
        "precio2 = 0\n",
        "if compra == 1:\n",
        "    des1 = precio * 0.05\n",
        "    prod_extra = int(input(\"¿Desea añadir a su compra la impresora? (1 = Si, 2 = NO) \"))\n",
        "    if prod_extra == 1:\n",
        "        precio2 = int(input(\"Ingrese el precio de la impresora \"))\n",
        "        des2 = precio2 * 0.10\n",
        "if compra == 2:\n",
        "    des1 = precio * 0.07\n",
        "    prod_extra = int(input(\"¿Desea añadir a su compra la barra de sonido? (1 = Si, 2 = NO) \"))\n",
        "    if prod_extra == 1:\n",
        "        precio2 = int(input(\"Ingrese el precio de la barra de sonido \"))\n",
        "        des2 = precio2 * 0.15\n",
        "if compra == 3:\n",
        "    des1 = precio * 0.10\n",
        "    prod_extra = int(input(\"¿Desea añadir a su compra un video juego? (1 = Si, 2 = NO) \"))\n",
        "    if prod_extra == 1:\n",
        "        precio2 = int(input(\"Ingrese el precio de video juego \"))\n",
        "        des2 = precio2 * 0.20\n",
        "total1 = (precio - des1) + (precio2 - des2)\n",
        "print(f\"El total a pagar es : {total1}\")"
      ],
      "metadata": {
        "id": "hfNd4YYJN6EA",
        "colab": {
          "base_uri": "https://localhost:8080/"
        },
        "outputId": "3515c614-a6df-44e9-fb15-eec34ea64629"
      },
      "execution_count": null,
      "outputs": [
        {
          "output_type": "stream",
          "name": "stdout",
          "text": [
            "1. Computadora.  \n",
            "2. Televisión \n",
            "3. Consola de videojuego 3\n",
            "Ingrese el precio del producto 200\n",
            "¿Desea añadir a su compra un video juego? (1 = Si, 2 = NO) 1\n",
            "Ingrese el precio de video juego 200\n",
            "El total a pagar es : 340.0\n"
          ]
        }
      ]
    },
    {
      "cell_type": "markdown",
      "source": [
        "##9.- En una tienda de ropa, los precios de los productos cambian dependiendo de la temporada. Durante la temporada de verano, todos los productos tienen un descuento del 20%. Durante la temporada de invierno, los productos con etiqueta roja tienen un descuento del 30% y los productos con etiqueta verde tienen un descuento del 15%. Durante la temporada de primavera y otoño, los productos con etiqueta amarilla tienen un descuento del 10%. Escribe un programa que calcule el precio a pagar por un cliente, tomando en cuenta los descuentos correspondientes."
      ],
      "metadata": {
        "id": "y1v5I2Q8N6p7"
      }
    },
    {
      "cell_type": "code",
      "source": [
        "temporada = int(input(\"1. Verano.  \\n2. Invierno \\n3. Primavera/ Otoño \\n\"))\n",
        "etiqueta = int(input(\"Etiqueta: \\n1. Roja \\n2. Verde \\n3. Amarrilla \"))\n",
        "precio = int(input(\"Ingrese el precio del producto \"))\n",
        "des1 = 0\n",
        "if temporada == 1:\n",
        "    des1 = precio * 0.2\n",
        "if temporada == 2:\n",
        "    if etiqueta == 1:\n",
        "        des1 = precio * 0.30\n",
        "    if etiqueta == 2:\n",
        "        des1 = precio * 0.15\n",
        "    else:\n",
        "        print(\"No aplica descuento\")\n",
        "if temporada == 3:\n",
        "    if etiqueta == 3:\n",
        "        des1 = precio * 0.10\n",
        "    else:\n",
        "        print(\"No aplica descuento\")\n",
        "       \n",
        "total = precio - des1\n",
        "print(f\"El total a pagar es : {total}\")"
      ],
      "metadata": {
        "id": "P6r8Yn2-N75F",
        "colab": {
          "base_uri": "https://localhost:8080/"
        },
        "outputId": "7ba88704-f8ff-4bb4-e6e6-0a09a5486d48"
      },
      "execution_count": null,
      "outputs": [
        {
          "output_type": "stream",
          "name": "stdout",
          "text": [
            "1. Verano.  \n",
            "2. Invierno \n",
            "3. Primavera/ Otoño \n",
            "2\n",
            "Etiqueta: \n",
            "1. Roja \n",
            "2. Verde \n",
            "3. Amarrilla 2\n",
            "Ingrese el precio del producto 1000\n",
            "El total a pagar es : 850.0\n"
          ]
        }
      ]
    },
    {
      "cell_type": "markdown",
      "source": [
        "##10.- Un restaurante ofrece descuentos a sus clientes, dependiendo del día de la semana y del tipo de menú que pidan. Los lunes, los clientes que pidan el menú del día tienen un descuento del 10%. Los martes, los clientes que pidan el menú infantil tienen un descuento del 20%. Los miércoles, los clientes que pidan el menú vegetariano tienen un descuento del 15%. Los jueves, los clientes que pidan el menú del chef tienen un descuento del 5%. Los viernes, los clientes que pidan el menú del día tienen un descuento del 5%. Los sábados y domingos no hay descuentos. Escribe un programa que calcule el precio a pagar por un cliente, tomando en cuenta los descuentos correspondientes."
      ],
      "metadata": {
        "id": "5K3k4VNMN8Ws"
      }
    },
    {
      "cell_type": "code",
      "source": [
        "semana = int(input(\"1. Lunes.  \\n2. Martes \\n3. Miercoles \"\n",
        "         \"\\n4. Jueves \\n5. Viernes \\n6. Sabado/ Domingo \\n\"))\n",
        "menu = int(input(\"Menú: \\n1. Menú del día \\n2. Infantil \\n3. Vegetariano \"\n",
        "        \"\\n4. Menú del chef \\n \"))\n",
        "precio = int(input(\"Ingrese total de cuenta \"))\n",
        "des1 = 0\n",
        "\n",
        "if semana == 1:\n",
        "    if menu == 1:\n",
        "        des1 = precio * 0.10\n",
        "    else:\n",
        "        print(\"No aplica el descuento\")\n",
        "if semana == 2:\n",
        "    if menu == 2:\n",
        "        des1 = precio * 0.2\n",
        "    else:\n",
        "        print(\"No aplica el descuento\")\n",
        "if semana == 3:\n",
        "    if etiqueta == 3:\n",
        "        des1 = precio * 0.15\n",
        "    else:\n",
        "        print(\"No aplica descuento\")\n",
        "if semana == 4:\n",
        "    if etiqueta == 4:\n",
        "        des1 = precio * 0.05\n",
        "    else:\n",
        "        print(\"No aplica descuento\")\n",
        "if semana == 5:\n",
        "    if etiqueta == 1:\n",
        "        des1 = precio * 0.05\n",
        "    else:\n",
        "        print(\"No aplica descuento\")\n",
        "if semana == 6:\n",
        "    print(\"No hay descuento\")\n",
        "       \n",
        "total = precio - des1\n",
        "print(f\"El total a pagar es : {total}\")"
      ],
      "metadata": {
        "id": "Z7j1ZICPN84f",
        "colab": {
          "base_uri": "https://localhost:8080/"
        },
        "outputId": "3a3a32a5-8716-4fd4-acae-3ffa98c43903"
      },
      "execution_count": 2,
      "outputs": [
        {
          "output_type": "stream",
          "name": "stdout",
          "text": [
            "1. Lunes.  \n",
            "2. Martes \n",
            "3. Miercoles \n",
            "4. Jueves \n",
            "5. Viernes \n",
            "6. Sabado/ Domingo \n",
            "2\n",
            "Menú: \n",
            "1. Menú del día \n",
            "2. Infantil \n",
            "3. Vegetariano \n",
            "4. Menú del chef \n",
            " 2\n",
            "Ingrese total de cuenta 1000\n",
            "El total a pagar es : 800.0\n"
          ]
        }
      ]
    }
  ]
}