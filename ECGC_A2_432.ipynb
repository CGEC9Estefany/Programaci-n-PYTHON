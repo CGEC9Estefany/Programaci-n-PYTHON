{
  "nbformat": 4,
  "nbformat_minor": 0,
  "metadata": {
    "colab": {
      "provenance": [],
      "authorship_tag": "ABX9TyNuSVY+NLTLL8oIeIeKPZem",
      "include_colab_link": true
    },
    "kernelspec": {
      "name": "python3",
      "display_name": "Python 3"
    },
    "language_info": {
      "name": "python"
    }
  },
  "cells": [
    {
      "cell_type": "markdown",
      "metadata": {
        "id": "view-in-github",
        "colab_type": "text"
      },
      "source": [
        "<a href=\"https://colab.research.google.com/github/CGEC9Estefany/Programaci-n-PYTHON/blob/main/ECGC_A2_432.ipynb\" target=\"_parent\"><img src=\"https://colab.research.google.com/assets/colab-badge.svg\" alt=\"Open In Colab\"/></a>"
      ]
    },
    {
      "cell_type": "markdown",
      "source": [
        "#NOTA: EJERCICIOS ( 1,2,3 y 4 ) PARA SER RESUELTOS USANDO EXCLUSIVAMENTE CONDICIONES SIMPLES "
      ],
      "metadata": {
        "id": "pYKPjB5FJvg0"
      }
    },
    {
      "cell_type": "markdown",
      "source": [
        "####1.- Programa en Python que lea 2 números enteros, usar una condición y analizar los dos números y desplegar cual de los números es el mayor. "
      ],
      "metadata": {
        "id": "P9w0UEfj1tR9"
      }
    },
    {
      "cell_type": "code",
      "source": [
        "num1 = int(input(\"Ingrese el primer número: \"))\n",
        "num2 = int(input(\"Ingrese el segundo número: \"))\n",
        "if num1 > num2:\n",
        "    print(f\"El primer número es mayor: {num1}\")\n",
        "if num2 > num1:\n",
        "    print(f\"El segundo número es mayor: {num2}\")"
      ],
      "metadata": {
        "colab": {
          "base_uri": "https://localhost:8080/"
        },
        "id": "nr71HTblPTGQ",
        "outputId": "5d5f885d-40e1-4fed-8706-cd92610b330d"
      },
      "execution_count": null,
      "outputs": [
        {
          "output_type": "stream",
          "name": "stdout",
          "text": [
            "Ingrese el primer número: 8\n",
            "Ingrese el segundo número: 9\n",
            "El segundo número es mayor: 9\n"
          ]
        }
      ]
    },
    {
      "cell_type": "markdown",
      "source": [
        "####2.- Programa en PythonAlgoritmo que lea 4 calificaciones de un alumno, calcular y desplegar el promedio acompañado de la leyenda \"APROBADO\" o \"REPROBADO\""
      ],
      "metadata": {
        "id": "8eAiPFR01u71"
      }
    },
    {
      "cell_type": "code",
      "source": [
        "cal1 = float(input(f\"INGRESE CALIFICACION 1: \"))\n",
        "cal2 = float(input(f\"INGRESE CALIFICACION 2: \"))\n",
        "cal3 = float(input(f\"INGRESE CALIFICACION 3: \"))\n",
        "cal4 = float(input(f\"INGRESE CALIFICACION 4: \"))\n",
        "sum = cal1 + cal2 + cal3 + cal4\n",
        "prom = sum / 4\n",
        "if prom > 60:\n",
        "    print(f\"El promedio es {prom} 'APROBADO'\")\n",
        "if prom <= 60:\n",
        "    print(f\"El promedio es {prom} 'REPROBADO'\")"
      ],
      "metadata": {
        "id": "dR6rdj-K361Y",
        "colab": {
          "base_uri": "https://localhost:8080/"
        },
        "outputId": "795036c7-bca9-46c1-f570-249f86a1bb05"
      },
      "execution_count": null,
      "outputs": [
        {
          "output_type": "stream",
          "name": "stdout",
          "text": [
            "INGRESE CALIFICACION 1: 60\n",
            "INGRESE CALIFICACION 2: 40\n",
            "INGRESE CALIFICACION 3: 70\n",
            "INGRESE CALIFICACION 4: 50\n",
            "El promedio es 55.0 'REPROBADO'\n"
          ]
        }
      ]
    },
    {
      "cell_type": "markdown",
      "source": [
        "####3.- Programa en PythonAlgoritmo que a través de opciones (1.- HOMBRE 2.- MUJER ) preguntar al usuario cual es su sexo y desplegar la leyenda “HOMBRE ”, “MUJER"
      ],
      "metadata": {
        "id": "E-S-dhAF1xTd"
      }
    },
    {
      "cell_type": "code",
      "source": [
        "sexo = int(input(\"ESCRIBE UN NÚMERO SEGÚN SU SEXO :Hombre 1, Mujer 2.\"))\n",
        "if sexo == 1:\n",
        "    print(\"HOMBRE\")\n",
        "if sexo == 2:\n",
        "    print(\"MUJER\")"
      ],
      "metadata": {
        "id": "6cX_O5d138FY",
        "colab": {
          "base_uri": "https://localhost:8080/"
        },
        "outputId": "55ebc2f4-c85d-401e-cb10-d5d61e4d1e63"
      },
      "execution_count": null,
      "outputs": [
        {
          "output_type": "stream",
          "name": "stdout",
          "text": [
            "ESCRIBE UN NÚMERO SEGÚN SU SEXO :Hombre 1, Mujer 2.2\n",
            "MUJER\n"
          ]
        }
      ]
    },
    {
      "cell_type": "markdown",
      "source": [
        "####4.- Programa en Python que lea un número entero, y desplegar si el número es\n",
        "\n",
        "“PAR” o “IMPAR”\n",
        "\n"
      ],
      "metadata": {
        "id": "oZx5bLcN11Bp"
      }
    },
    {
      "cell_type": "code",
      "source": [
        "n = int(input(\"ingrese numero: \"))\n",
        "if n % 2 == 0:\n",
        "    print(\"Es número par\")\n",
        "if n % 2 != 0:\n",
        "    print(\"Es número impar\")"
      ],
      "metadata": {
        "id": "DbV9lzzb39rc",
        "colab": {
          "base_uri": "https://localhost:8080/"
        },
        "outputId": "c30fa9a2-9f4c-4acb-e663-40d8fd2baeb4"
      },
      "execution_count": null,
      "outputs": [
        {
          "output_type": "stream",
          "name": "stdout",
          "text": [
            "ingrese numero: 88\n",
            "Es número par\n"
          ]
        }
      ]
    },
    {
      "cell_type": "markdown",
      "source": [
        "# NOTA: EJERCICIOS (5,6,7 y 8) PARA SER RESUELTOS USANDO CONDICIÓN COMPUESTA"
      ],
      "metadata": {
        "id": "MAhgtZC3JwK3"
      }
    },
    {
      "cell_type": "markdown",
      "source": [
        "####5.- Programa en Python que lea 2 números enteros, usar una condición y analizar los dos números y desplegar cual de los números es el mayor. "
      ],
      "metadata": {
        "id": "j-qOnkGL34Ej"
      }
    },
    {
      "cell_type": "code",
      "execution_count": null,
      "metadata": {
        "id": "LiDwTgz61I0B",
        "colab": {
          "base_uri": "https://localhost:8080/"
        },
        "outputId": "0a514ced-d8b6-445c-efd7-1988e9f252e6"
      },
      "outputs": [
        {
          "output_type": "stream",
          "name": "stdout",
          "text": [
            "Ingrese el primer número: 45\n",
            "Ingrese el segundo número: 12\n",
            "El primer número es mayor: 45\n"
          ]
        }
      ],
      "source": [
        "num1 = int(input(\"Ingrese el primer número: \"))\n",
        "num2 = int(input(\"Ingrese el segundo número: \"))\n",
        "if num1 > num2:\n",
        "    print(f\"El primer número es mayor: {num1}\")\n",
        "else:\n",
        "    print(f\"El segundo número es mayor: {num2}\")"
      ]
    },
    {
      "cell_type": "markdown",
      "source": [
        "####6.- Programa en PythonAlgoritmo que lea 4 calificaciones de un alumno, calcular y desplegar el promedio acompañado de la leyenda \"APROBADO\" o \"REPROBADO\""
      ],
      "metadata": {
        "id": "0E1E8ygE36Il"
      }
    },
    {
      "cell_type": "code",
      "source": [
        "cal1 = float(input(f\"INGRESE CALIFICACION 1: \"))\n",
        "cal2 = float(input(f\"INGRESE CALIFICACION 2: \"))\n",
        "cal3 = float(input(f\"INGRESE CALIFICACION 3: \"))\n",
        "cal4 = float(input(f\"INGRESE CALIFICACION 4: \"))\n",
        "sum = cal1 + cal2 + cal3 + cal4\n",
        "prom = sum / 4\n",
        "if prom > 60:\n",
        "    print(f\"El promedio es {prom} 'APROBADO'\")\n",
        "else:\n",
        "    print(f\"El promedio es {prom} 'REPROBADO'\")\n"
      ],
      "metadata": {
        "id": "9ibuaIzg1w2l",
        "colab": {
          "base_uri": "https://localhost:8080/"
        },
        "outputId": "3ec3ba5d-0e5f-4c2a-8fef-4d7ccf3f026b"
      },
      "execution_count": null,
      "outputs": [
        {
          "output_type": "stream",
          "name": "stdout",
          "text": [
            "INGRESE CALIFICACION 1: 90\n",
            "INGRESE CALIFICACION 2: 80\n",
            "INGRESE CALIFICACION 3: 70\n",
            "INGRESE CALIFICACION 4: 65\n",
            "El promedio es 76.25 'APROBADO'\n"
          ]
        }
      ]
    },
    {
      "cell_type": "markdown",
      "source": [
        "####7.- Programa en PythonAlgoritmo que a través de opciones (1.- HOMBRE 2.- MUJER ) preguntar al usuario cual es su sexo y desplegar la leyenda “HOMBRE ”, “MUJER"
      ],
      "metadata": {
        "id": "2RrYXLE437at"
      }
    },
    {
      "cell_type": "code",
      "source": [
        "sexo = int(input(\"ESCRIBE UN NÚMERO SEGÚN SU SEXO :Hombre 1, Mujer 2.\"))\n",
        "if sexo == 1:\n",
        "    print(\"HOMBRE\")\n",
        "else:\n",
        "    print(\"MUJER\")"
      ],
      "metadata": {
        "id": "tYPiI0yp1yRf",
        "colab": {
          "base_uri": "https://localhost:8080/"
        },
        "outputId": "871584a6-be23-47a0-c0c8-553cc7423091"
      },
      "execution_count": null,
      "outputs": [
        {
          "output_type": "stream",
          "name": "stdout",
          "text": [
            "ESCRIBE UN NÚMERO SEGÚN SU SEXO :Hombre 1, Mujer 2.1\n",
            "HOMBRE\n"
          ]
        }
      ]
    },
    {
      "cell_type": "markdown",
      "source": [
        "####8.- Programa en Python que lea un número entero, y desplegar si el número es“PAR” o “IMPAR”\n",
        "\n"
      ],
      "metadata": {
        "id": "YWf7l5KB39Ez"
      }
    },
    {
      "cell_type": "code",
      "source": [
        "n = int(input(\"ingrese numero: \"))\n",
        "if n % 2 == 0:\n",
        "    print(\"Es número par\")\n",
        "else:\n",
        "    print(\"Es número impar\")"
      ],
      "metadata": {
        "id": "A1xbbwGL11mt",
        "colab": {
          "base_uri": "https://localhost:8080/"
        },
        "outputId": "d3065e08-aef5-48ed-d506-9fa40e3a22b2"
      },
      "execution_count": null,
      "outputs": [
        {
          "output_type": "stream",
          "name": "stdout",
          "text": [
            "ingrese numero: 77\n",
            "Es número impar\n"
          ]
        }
      ]
    }
  ]
}