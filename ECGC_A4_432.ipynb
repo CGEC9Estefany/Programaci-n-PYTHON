{
  "nbformat": 4,
  "nbformat_minor": 0,
  "metadata": {
    "colab": {
      "provenance": [],
      "authorship_tag": "ABX9TyPvYIuYFYqnAHPUO7A5+rGr",
      "include_colab_link": true
    },
    "kernelspec": {
      "name": "python3",
      "display_name": "Python 3"
    },
    "language_info": {
      "name": "python"
    }
  },
  "cells": [
    {
      "cell_type": "markdown",
      "metadata": {
        "id": "view-in-github",
        "colab_type": "text"
      },
      "source": [
        "<a href=\"https://colab.research.google.com/github/CGEC9Estefany/Programaci-n-PYTHON/blob/main/ECGC_A4_432.ipynb\" target=\"_parent\"><img src=\"https://colab.research.google.com/assets/colab-badge.svg\" alt=\"Open In Colab\"/></a>"
      ]
    },
    {
      "cell_type": "markdown",
      "source": [
        "##1.- Programa en python   que lea 3 calificaciones calcule el promedio del alumno y desplegar: \n",
        "\n",
        "Si prom < 30 Repetir \n",
        "\n",
        "Si prom >=30 y prom <60 extraordinario \n",
        "\n",
        "Si prom >=60 y prom <70 suficiente \n",
        "\n",
        "Si prom >=70 y prom <80 Regular \n",
        "\n",
        "Si prom >=80 y prom <90 bien \n",
        "\n",
        "Si prom >=90 y prom <98 muy bien \n",
        "\n",
        "Si prom >=98 y prom <=100 excelente \n",
        "\n",
        "Si prom >100 Error en promedio \n",
        "\n",
        "Realizar el algoritmo optimizado"
      ],
      "metadata": {
        "id": "PkRxKJFm54xi"
      }
    },
    {
      "cell_type": "code",
      "execution_count": 15,
      "metadata": {
        "colab": {
          "base_uri": "https://localhost:8080/",
          "height": 0
        },
        "id": "NfZ_kgwi5oGz",
        "outputId": "ec20fa52-5115-49db-dd36-476d3b2bc5c3"
      },
      "outputs": [
        {
          "output_type": "stream",
          "name": "stdout",
          "text": [
            "Ingrese calificacion 1: 95\n",
            "Ingrese calificacion 2: 75\n",
            "Ingrese calificacion 3: 60\n",
            "Regular\n"
          ]
        }
      ],
      "source": [
        "try:\n",
        "    cal1 = int(input(\"Ingrese calificacion 1: \"))\n",
        "    cal2 = int(input(\"Ingrese calificacion 2: \"))\n",
        "    cal3 = int(input(\"Ingrese calificacion 3: \"))\n",
        "    sum = cal1 + cal2 + cal3\n",
        "    prom = sum / 3\n",
        "\n",
        "    if prom < 30:\n",
        "        print(\"Repetir\")\n",
        "    elif prom < 60:\n",
        "        print(\"Extraordinario\")\n",
        "    elif prom < 70:\n",
        "        print(\"Suficiente\")\n",
        "    elif prom < 80:\n",
        "        print(\"Regular\")\n",
        "    elif prom < 90:\n",
        "        print(\"Bien\")\n",
        "    elif prom < 98:\n",
        "        print(\"Muy bien\")\n",
        "    elif prom <= 100:\n",
        "        print(\"Excelente\")\n",
        "    elif prom > 100:\n",
        "        print(\"Error en  promedio\")\n",
        "except ValueError:\n",
        "    print(f\"Error: Los valores ingresados deben ser números enteros.\")\n",
        "\n"
      ]
    },
    {
      "cell_type": "markdown",
      "source": [
        "##2.- Programa en Python que sirva para calcular el salario semanal de un trabajador donde se obtiene como dato de entrada las horas semanales trabajadas, el salario por hora. \n",
        "\n",
        "El programa deberá calcular el salario normal, salario extra y salario total, considerando lo siguiente: \n",
        "\n",
        "Jornada Normal de 40 horas. \n",
        "El salario normal se considera las horas trabajadas menores o igual a la jornada normal\n",
        "Salario extra se considera las horas trabajadas mayores a la jornada normal y se pagan dobles las primeras 9 y triples a partir de la décima hora extra \n",
        "\n",
        "\n",
        "Nota: Desplegar todos los datos (Salario x hora, Horas Trabajadas, Salario normal, Salario extra y Salario Total)\n",
        "\n"
      ],
      "metadata": {
        "id": "Ru91zGAN59J8"
      }
    },
    {
      "cell_type": "code",
      "source": [
        "try:\n",
        "    hora = int(input(\"Ingrese las horas semanales trabajadas: \"))\n",
        "    salario = int(input(\"Ingrese su salario por hora: \"))\n",
        "    jornada_normal = 40\n",
        "    salario_extra = 0 \n",
        "    if hora <= jornada_normal:\n",
        "        salario_normal = salario * hora \n",
        "    elif hora <= 49:\n",
        "        salario_extra = (hora - jornada_normal) + salario * 2 \n",
        "        salario_normal = salario * jornada_normal\n",
        "    else:\n",
        "        salario_extra = (9 * salario * 2) + ((hora - (jornada_normal+9)) * salario * 3)\n",
        "        salario_normal = salario * jornada_normal\n",
        "\n",
        "    salario_total = salario_extra + salario_normal\n",
        "    print(f\"Salario x hora: {salario}, Horas trabajadas: {hora} y el salario normal \\\n",
        "    es: {salario_normal} salario extra: {salario_extra} y salario total: {salario_total}\")\n",
        "\n",
        "except ValueError:\n",
        "    print(f\"Error: Los valores ingresados deben ser números enteros.\")\n",
        "\n",
        "\n"
      ],
      "metadata": {
        "colab": {
          "base_uri": "https://localhost:8080/",
          "height": 0
        },
        "id": "TVMXvrHY59xP",
        "outputId": "a0aa26f7-c15e-4226-aeea-586c70216e8c"
      },
      "execution_count": 15,
      "outputs": [
        {
          "output_type": "stream",
          "name": "stdout",
          "text": [
            "Ingrese las horas semanales trabajadas: y\n",
            "Error: Los valores ingresados deben ser números enteros.\n"
          ]
        }
      ]
    },
    {
      "cell_type": "markdown",
      "source": [
        "##3.- Programa en Python que sirva para calcular el Total a pagar por consumo de agua, donde el dato de entrada son los M3 de agua consumidos, Tomar en cuenta que se cobra escalonada de la Siguiente manera: \n",
        "\n",
        "Rango1: 0 al 4 M3 $50 x facturación sin importar cuánto consumió en este rango \n",
        "\n",
        "Rango2: 5 a 15 M3 $8.00 x M3 \n",
        "\n",
        "Rango3: 16 a 50 M3 $10.00 x M3 \n",
        "\n",
        "Rango4: 51 M3 en adelante $11.00 x M3 \n",
        "\n",
        "Nota: Desplegar SubTotal, Iva(16%), y Total a pagar."
      ],
      "metadata": {
        "id": "B_sYW0fG6CZM"
      }
    },
    {
      "cell_type": "code",
      "source": [
        "try:\n",
        "    m3 = int(input(\"Ingrese los metros cúbicos: \"))\n",
        "    if m3 > 0 and m3 <= 4:\n",
        "        subtotal = 50\n",
        "    elif m3 <= 15:\n",
        "        subtotal = 8 * m3\n",
        "    elif m3 <= 50:\n",
        "        subtotal = 10 * m3\n",
        "    elif m3 >= 51 :\n",
        "        subtotal = 11 * m3\n",
        "    iva = 0.16 * subtotal\n",
        "    total = subtotal + iva\n",
        "    print(f\"El subtotal es: {subtotal}, el Iva: {iva} y el total a pagar es: {total}\")\n",
        "except ValueError:\n",
        "    print(f\"Error: Los valores ingresados deben ser números enteros.\")"
      ],
      "metadata": {
        "colab": {
          "base_uri": "https://localhost:8080/",
          "height": 0
        },
        "id": "KSs9BjXC6HC0",
        "outputId": "5339eea3-2652-4ee6-f478-34c826ec33f1"
      },
      "execution_count": 16,
      "outputs": [
        {
          "output_type": "stream",
          "name": "stdout",
          "text": [
            "Ingrese los metros cúbicos: 16\n",
            "El subtotal es: 160, el Iva: 25.6 y el total a pagar es: 185.6\n"
          ]
        }
      ]
    },
    {
      "cell_type": "markdown",
      "source": [
        "##4- En la materia de Metodología de la programación se aplican 5 exámenes, calcular el promedio final de la materia donde la calificación menor de los exámenes se anula y el promedio se calcula en base a 4 exámenes.\n",
        "Desplegar el promedio final. y cual es la mas baja que se elimino."
      ],
      "metadata": {
        "id": "rbN_JNyO6HrL"
      }
    },
    {
      "cell_type": "code",
      "source": [
        "try:\n",
        "    exam1 = int(input(\"Ingrese calificación del examen 1: \"))\n",
        "    exam2 = int(input(\"Ingrese calificación del examen 2: \"))\n",
        "    exam3 = int(input(\"Ingrese calificación del examen 3: \"))\n",
        "    exam4 = int(input(\"Ingrese calificación del examen 4: \"))\n",
        "    exam5 = int(input(\"Ingrese calificación del examen 5: \"))\n",
        "    \n",
        "    if exam1 < exam2 and exam1 < exam3 and exam1 < exam4 and exam1 < exam5:\n",
        "        suma = exam2 + exam3 + exam4 + exam5 \n",
        "    elif exam2 < exam1 and exam2 < exam3 and exam2 < exam4 and exam2 < exam5:\n",
        "        suma = exam1 + exam3 + exam4 + exam5 \n",
        "    elif exam3 < exam1 and exam3 < exam2 and exam3 < exam4 and exam3 < exam5:\n",
        "        suma = exam1 + exam2 + exam4 + exam5\n",
        "    elif exam4 < exam1 and exam4 < exam2 and exam4 < exam3 and exam4 < exam5:\n",
        "        suma = exam1 + exam2 + exam3 + exam5\n",
        "    else: \n",
        "        suma = exam1 + exam2 + exam3 + exam4\n",
        "\n",
        "    cal_baja = min(exam1, exam2, exam3, exam4, exam5)\n",
        "    promedio = suma / 4\n",
        "    print(f\"El promedio es: {promedio} y la calificación más baja fue: {cal_baja}\")\n",
        "except ValueError:\n",
        "    print(f\"Error: Los valores ingresados deben ser números enteros.\")\n"
      ],
      "metadata": {
        "colab": {
          "base_uri": "https://localhost:8080/",
          "height": 0
        },
        "id": "Wb14R9Pr6kP2",
        "outputId": "7d115b1c-b81b-4fbf-c356-8bc6d60dd9fb"
      },
      "execution_count": 20,
      "outputs": [
        {
          "output_type": "stream",
          "name": "stdout",
          "text": [
            "Ingrese calificación del examen 1: 100\n",
            "Ingrese calificación del examen 2: 98\n",
            "Ingrese calificación del examen 3: 65\n",
            "Ingrese calificación del examen 4: 75\n",
            "Ingrese calificación del examen 5: 60\n",
            "El promedio es: 84.5 y la calificación más baja fue: 60\n"
          ]
        }
      ]
    },
    {
      "cell_type": "markdown",
      "source": [
        "##5.- Programa en Python que sirva para el juego del CHINCHAMPU (Piedra, Papel, Tijera) para 1 jugador y la computadora"
      ],
      "metadata": {
        "id": "L3E1NZez6lZS"
      }
    },
    {
      "cell_type": "code",
      "source": [
        "import random\n",
        "print(\"1 = piedra \\n2 = Papel \\n3 = Tijera\\n\")\n",
        "\n",
        "try: \n",
        "    jugador = int(input(\"Ingrese la opción que desee para jugar: \"))\n",
        "    computadora = random.randint(1,3)\n",
        "    juego_computadora = \"\"\n",
        "    \n",
        "    if jugador == 1:\n",
        "        print(\"Elegiste ser piedra\\n\")\n",
        "    elif jugador == 2:\n",
        "        print(\"Elegiste ser papel\\n\")\n",
        "    elif jugador == 3:\n",
        "        print(\"Elegiste ser tijera\\n\")\n",
        "    else:\n",
        "        print(\"Selecciona unicamente del 1-3\")\n",
        "    \n",
        "    ## Juego de la computadora\n",
        "    if computadora == 1:\n",
        "        juego_computadora = \"contrincante era piedra\"\n",
        "    elif computadora == 2:\n",
        "        juego_computadora = \"contrincante era papel\"\n",
        "    else:\n",
        "        juego_computadora = \"contrincante era tijera\"\n",
        "    \n",
        "    if jugador == 1 and computadora == 1 or jugador == 2 and \\\n",
        "    computadora == 2 or jugador == 3 and computadora == 3:\n",
        "        print(f\"Empate!!! \\nEl {juego_computadora}\")\n",
        "    elif jugador == 1 and computadora == 2 or jugador == 2 \\\n",
        "    and computadora == 3 or jugador == 3 and computadora == 1:\n",
        "        print(f\"¡Perdiste!, intentalo de nuevo \\nEl {juego_computadora}\")\n",
        "    elif jugador == 1 and computadora == 3 or jugador == 2 \\\n",
        "    and computadora == 1 or jugador == 3 and computadora == 2:\n",
        "        print(f\"¡Ganaste!, Juega de nuevo \\nEl {juego_computadora}\")\n",
        "except ValueError:\n",
        "    print(f\"Error: Los valores ingresados deben ser números enteros.\")\n",
        "\n"
      ],
      "metadata": {
        "colab": {
          "base_uri": "https://localhost:8080/",
          "height": 0
        },
        "id": "AAcMfRlI6pTk",
        "outputId": "00e57541-a365-4651-c7b5-5f985b5f545e"
      },
      "execution_count": 7,
      "outputs": [
        {
          "output_type": "stream",
          "name": "stdout",
          "text": [
            "1 = piedra \n",
            "2 = Papel \n",
            "3 = Tijera\n",
            "\n",
            "Ingrese la opción que desee para jugar: 3\n",
            "Elegiste ser tijera\n",
            "\n",
            "¡Perdiste!, intentalo de nuevo \n",
            "El contrincante era piedra\n"
          ]
        }
      ]
    },
    {
      "cell_type": "markdown",
      "source": [
        "##6.- Programa en Python que lea 4 números enteros desplegar cuales el menor, cual es mayor\n",
        "\n"
      ],
      "metadata": {
        "id": "sv9TMI5E6rbX"
      }
    },
    {
      "cell_type": "code",
      "source": [
        "try:\n",
        "    n1 = int(input(\"Ingrese el primer número: \"))\n",
        "    n2 = int(input(\"Ingrese el segundo número: \"))\n",
        "    n3 = int(input(\"Ingrese el tercer número: \"))\n",
        "    n4 = int(input(\"Ingrese el cuarto número: \"))\n",
        "    print(f\"El menor es: {min(n1,n2,n3,n4)}, y el mayor es: {max(n1,n2,n3,n4)}\")\n",
        "except ValueError:\n",
        "    print(\"Error: Los valores ingresados deben ser números enteros.\")"
      ],
      "metadata": {
        "colab": {
          "base_uri": "https://localhost:8080/",
          "height": 0
        },
        "id": "eLKF-nU86s9s",
        "outputId": "9212cdfa-59d7-421a-9112-0e8f552c02d9"
      },
      "execution_count": 10,
      "outputs": [
        {
          "output_type": "stream",
          "name": "stdout",
          "text": [
            "Ingrese el primer número: 8\n",
            "Ingrese el segundo número: 3\n",
            "Ingrese el tercer número: 10\n",
            "Ingrese el cuarto número: 2\n",
            "El menor es: 2, y el mayor es: 10\n"
          ]
        }
      ]
    },
    {
      "cell_type": "markdown",
      "source": [
        "##7.- Programa en Python que sirva para calcular el área de un triangulo, los datos de entrada deben ser forzosamente de tipo real"
      ],
      "metadata": {
        "id": "ccVZtH9l6tcs"
      }
    },
    {
      "cell_type": "code",
      "source": [
        "try:\n",
        "    base = float(input(\"Ingrese la base: \"))\n",
        "    altura = float(input(\"Ingrese la altura: \"))\n",
        "    area = base * altura / 2\n",
        "    print (f\"El área es: {area}\")\n",
        "except ValueError:\n",
        "    print(\"Error: Los valores ingresados deben ser números reales.\")\n"
      ],
      "metadata": {
        "colab": {
          "base_uri": "https://localhost:8080/",
          "height": 0
        },
        "id": "GoHd6T6t6xp7",
        "outputId": "959d4bc1-71c1-4bb6-8e1f-2ee41d0c5bb8"
      },
      "execution_count": 37,
      "outputs": [
        {
          "output_type": "stream",
          "name": "stdout",
          "text": [
            "Ingrese la base: i\n",
            "Error: Los valores ingresados deben ser números reales.\n"
          ]
        }
      ]
    },
    {
      "cell_type": "markdown",
      "source": [
        "##8.- Programa en Python que sirva para calcular el área de un circulo\n",
        "\n"
      ],
      "metadata": {
        "id": "Rqtdmy506yG0"
      }
    },
    {
      "cell_type": "code",
      "source": [
        "import math\n",
        "try:\n",
        "    radio = float(input(\"Ingrese el radio de la circuferencia: \"))\n",
        "    area = math.pi * math.pow(radio,2)\n",
        "    print (f\"El área el:  {area}, de un triangulo que tiene de radio: {radio}\")\n",
        "\n",
        "except ValueError:\n",
        "    print(\"Error: Los valores ingresados deben ser números.\")"
      ],
      "metadata": {
        "colab": {
          "base_uri": "https://localhost:8080/",
          "height": 0
        },
        "id": "pt-C-MAA61Rg",
        "outputId": "57651471-b395-4d68-bfd1-db36456dfe93"
      },
      "execution_count": 31,
      "outputs": [
        {
          "output_type": "stream",
          "name": "stdout",
          "text": [
            "Ingrese el radio de la circuferencia: 4\n",
            "El área el:  50.26548245743669, de un triangulo que tiene de radio: 4.0\n"
          ]
        }
      ]
    }
  ]
}