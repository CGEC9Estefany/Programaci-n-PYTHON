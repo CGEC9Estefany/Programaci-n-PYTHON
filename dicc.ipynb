{
  "nbformat": 4,
  "nbformat_minor": 0,
  "metadata": {
    "colab": {
      "provenance": [],
      "authorship_tag": "ABX9TyOP9sFXnxfCVK2KBMVgfzil",
      "include_colab_link": true
    },
    "kernelspec": {
      "name": "python3",
      "display_name": "Python 3"
    },
    "language_info": {
      "name": "python"
    }
  },
  "cells": [
    {
      "cell_type": "markdown",
      "metadata": {
        "id": "view-in-github",
        "colab_type": "text"
      },
      "source": [
        "<a href=\"https://colab.research.google.com/github/CGEC9Estefany/Programaci-n-PYTHON/blob/main/dicc.ipynb\" target=\"_parent\"><img src=\"https://colab.research.google.com/assets/colab-badge.svg\" alt=\"Open In Colab\"/></a>"
      ]
    },
    {
      "cell_type": "code",
      "execution_count": null,
      "metadata": {
        "id": "GcGHnPsnN2pX"
      },
      "outputs": [],
      "source": [
        "import random"
      ]
    },
    {
      "cell_type": "code",
      "source": [
        "# Función que genera un numero aleatorio\n",
        "def num_aleatorio(nm1,nm2):\n",
        "    num_random = random.randint(nm1,nm2)\n",
        "    return num_random"
      ],
      "metadata": {
        "id": "Vg_3D8cOQnnb"
      },
      "execution_count": null,
      "outputs": []
    },
    {
      "cell_type": "code",
      "source": [
        "# funcion para elegir 1 o 2 nombres\n",
        "def nombre_s(nom):\n",
        "    num_nom = num_aleatorio(1,2)\n",
        "    if num_nom == 1:\n",
        "        nombre = random.choice(nom)\n",
        "    else:\n",
        "        nombre = random.sample(nom, 2)\n",
        "    return nombre  "
      ],
      "metadata": {
        "id": "Tn5OE1MIOmsI"
      },
      "execution_count": null,
      "outputs": []
    },
    {
      "cell_type": "code",
      "source": [
        "def apellidos():\n",
        "    apellido = [\"RAMIREZ\",\"CONTRERAS\",\"GALINDO\",\"VEGA\",\"MARTINEZ\",\"Garcia\",\"Castro\",\n",
        "                     \"Arredondo\",\"Palafox\",\"Diaz\",\"Lopez\",\"Gomez\",\"Velarde\",\"Hernandez\",\n",
        "                     \"Gonzalez\",\"Perez\",\"Rodriguez\",\"Sanchez\",\"Parra\",\"Orci\",\"Ruiz\",\"Flores\",\n",
        "                     \"Cruz\",\"Durazo\",\"Grijalva\",\"Nevarez\",\"Palma\", \"Romero\",\"Medina\",\n",
        "                     \"Espinoza\",\"Figueroa\"]\n",
        "    ap = random.choice(apellido)\n",
        "    am = random.choice(apellido)\n",
        "    if am == ap:\n",
        "        ap = random.choice(apellido)\n",
        "    return ap, am"
      ],
      "metadata": {
        "id": "YhhUiA3fQo02"
      },
      "execution_count": null,
      "outputs": []
    },
    {
      "cell_type": "code",
      "source": [
        "def nombres(genero):\n",
        "    if genero == 1:\n",
        "        sexo = \"Femenino\"\n",
        "        nom_femenino = [\"Alejandra\",\"Maria\",\"Carolina\",\"Estefany\",\"Ana\",\"Rebeca\",\n",
        "                   \"Alicia\", \"Luz\", \"Teresa\",\"Andrea\", \"Sofia\",\"Laura\", \"Melissa\",\n",
        "                   \"Aglaya\", \"Ivonne\",\"Claudia\",\"Gabriela\",\"Yaritza\"]\n",
        "        nombre = nombre_s(nom_femenino)\n",
        "    else:\n",
        "        sexo = \"Masculino\"\n",
        "        nom = [\"Jose\",\"Ignacio\",\"Adolfo\",\"Lenin\",\"Francisco\",\"Diego\", \"Fernando\",\n",
        "                    \"Pedro\",\"Julio\",\"Fabian\", \"Luis\",\"Alberto\",\"Antonio\",\"Santiago\",\n",
        "                    \"Sebastian\",\"Felipe\", \"Emiliano\",\"Russell\", \"Octavio\"]\n",
        "        nombre = nombre_s(nom)\n",
        "\n",
        "    return sexo, nombre"
      ],
      "metadata": {
        "id": "9lD2QaXRQvCj"
      },
      "execution_count": null,
      "outputs": []
    },
    {
      "cell_type": "code",
      "source": [
        "def registro():\n",
        "    valores = []\n",
        "    puesto = [\"Gerente\", \"Supervisor\",\"Operador\",\"Mantenimiento\",\"Tecnico\"]\n",
        "    genero = num_aleatorio(1,2)\n",
        "         \n",
        "    valores.append(random.randint(10, 300))\n",
        "    sexo,nombre = nombres(genero)\n",
        "    a_paterno,a_materno = apellidos()\n",
        "    valores.append(nombre)\n",
        "    valores.append(a_paterno)\n",
        "    valores.append(a_materno)\n",
        "    valores.append(sexo)\n",
        "    valores.append(random.choice(puesto))\n",
        "    return valores\n"
      ],
      "metadata": {
        "id": "ZCDidoGTRBqr"
      },
      "execution_count": null,
      "outputs": []
    }
  ]
}