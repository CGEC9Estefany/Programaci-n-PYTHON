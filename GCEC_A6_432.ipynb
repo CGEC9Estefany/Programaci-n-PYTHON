{
  "nbformat": 4,
  "nbformat_minor": 0,
  "metadata": {
    "colab": {
      "provenance": [],
      "authorship_tag": "ABX9TyMWyOTZFeJOPTmy22cEf3kA",
      "include_colab_link": true
    },
    "kernelspec": {
      "name": "python3",
      "display_name": "Python 3"
    },
    "language_info": {
      "name": "python"
    }
  },
  "cells": [
    {
      "cell_type": "markdown",
      "metadata": {
        "id": "view-in-github",
        "colab_type": "text"
      },
      "source": [
        "<a href=\"https://colab.research.google.com/github/CGEC9Estefany/Programaci-n-PYTHON/blob/main/GCEC_A6_432.ipynb\" target=\"_parent\"><img src=\"https://colab.research.google.com/assets/colab-badge.svg\" alt=\"Open In Colab\"/></a>"
      ]
    },
    {
      "cell_type": "code",
      "source": [
        "import random"
      ],
      "metadata": {
        "id": "59Ue8N7J2VZS"
      },
      "execution_count": 1,
      "outputs": []
    },
    {
      "cell_type": "code",
      "source": [
        "# Función que genera un numero aleatorio\n",
        "def num_aleatorio(nm1,nm2):\n",
        "    num_random = random.randint(nm1,nm2)\n",
        "    return num_random"
      ],
      "metadata": {
        "id": "yHvWe3lV2WHA"
      },
      "execution_count": 2,
      "outputs": []
    },
    {
      "cell_type": "code",
      "source": [
        "# Función para validar si que sea un número y no un digito\n",
        "def es_entero(num):\n",
        "    while True:\n",
        "        try:\n",
        "            if num.isdigit():\n",
        "                valor = int(num)\n",
        "            else:\n",
        "                raise TypeError(\"Los valores ingresados deben ser númericos\")\n",
        "        except TypeError as er:\n",
        "            print(f\"Error:\", er) \n",
        "            num = input(\"Introduce valor correctamente: \")\n",
        "        else:\n",
        "            return valor\n",
        "            break"
      ],
      "metadata": {
        "id": "D9NQBXFu2ZMr"
      },
      "execution_count": 3,
      "outputs": []
    },
    {
      "cell_type": "code",
      "source": [
        "# FUNCION QUE SIRVA QUE SIRVA PARA EVALUAR EL PROMEDIO DE 3 CALIFICACIONES DADAS, \n",
        "#SI EL USUARIO SU CALIFICACION ES APROBADA MANDAR MSGE QUE DIGA \n",
        "#\"felicidades avanzas al siguiente semestre\", SI LA CALIFICACIONE ESTA REPROBADA\n",
        "# EL MENSAGE \"repetir materia \" EL ALUMNO TENDRA UN MAXIMO DE CURSAR 3 VESES LA MATERIA,\n",
        "# SI LA REPRUEBA 3 VESES MANDAR MSGE \" lastima estas fuera de la UABC\"\n",
        "\n",
        "def calificacion():\n",
        "    r = 0\n",
        "    max = 3\n",
        "    for i in range(max):\n",
        "        try:\n",
        "            cal = val_rango(0,100, \"Ingrese calificación: \")\n",
        "        except ValueError as e:\n",
        "            print(\"Error:\", e)\n",
        "            continue\n",
        "        except TypeError as er:\n",
        "            print(f\"Error:\", er) \n",
        "            continue   \n",
        "        else:\n",
        "            if r == 2 and cal <60: \n",
        "               print(\"Lastima estas fuera de la UABC\")\n",
        "               break\n",
        "            elif cal >= 60:\n",
        "                print(\"Felicidades avanzas al siguiente semestre\")\n",
        "                break\n",
        "            else: \n",
        "                r += 1\n",
        "                print(f\"Repetir Materia: Intento {r}\")"
      ],
      "metadata": {
        "id": "mcM9_azg2iRx"
      },
      "execution_count": 4,
      "outputs": []
    },
    {
      "cell_type": "code",
      "source": [
        "# Función que se lee n cantidad de números hasta que el usuario quiera\n",
        "def leer_numeros():\n",
        "    numeros = []\n",
        "    continuar = True\n",
        "    while continuar:\n",
        "        num = es_entero(input(\"Introduce un número: \"))\n",
        "        try:\n",
        "            numeros.append(num)\n",
        "        except Exception as error:\n",
        "            print(\"Error:\", error)\n",
        "        respuesta = input(\"¿Quieres introducir otro número? (s/n): \")\n",
        "        if respuesta.lower() != \"s\":\n",
        "            continuar = False\n",
        "    return numeros"
      ],
      "metadata": {
        "id": "VWiFBUUI2nm1"
      },
      "execution_count": 5,
      "outputs": []
    },
    {
      "cell_type": "code",
      "source": [
        "# Función para validar un numero dentro de un rango dado\n",
        "def val_rango(r1=0,r2=0,mensaje=\"Dame un número entre: \"):\n",
        "    while True:\n",
        "        try:\n",
        "            num = int(input(f\"{mensaje} {r1} y {r2} : \"))\n",
        "        except Exception as e:\n",
        "            print(\"Error: \", e)\n",
        "            continue\n",
        "        if num < r1 or num > r2:\n",
        "            print(\"Error en el rango\")\n",
        "            continue\n",
        "        return num"
      ],
      "metadata": {
        "id": "KFSbuLiI5RXT"
      },
      "execution_count": 13,
      "outputs": []
    },
    {
      "cell_type": "code",
      "source": [
        "#FUNCIÓN QUE LEA n CANTIDAD DE NÚMEROS HASTA QUE EL USUARIO LO DESEE, DESPLEGAR \n",
        "#LA SUMA DE LOS NÚMEROS, MEDIA Y VALOR DE LOS NÚMEROS MAYORES Y MENORES.\n",
        "def numeros():\n",
        "    try:\n",
        "        arr_num = leer_numeros()\n",
        "    except:\n",
        "        print(\"Ocurrió un error inesperado..\")\n",
        "    else:\n",
        "        suma = sum(arr_num)\n",
        "        media = suma / len(arr_num)\n",
        "        menor = min(arr_num)\n",
        "        mayor = max(arr_num)\n",
        "    \n",
        "    if len(arr_num) == 0:\n",
        "        return print(\"No se ingresaron números\") \n",
        "    else: \n",
        "        return print(f\"La suma de los números es {suma}. \\\n",
        "         \\nLa media de los números es {media}. \\\n",
        "         \\nEl número menor es {menor}. \\\n",
        "         \\nEl número mayor es {mayor}. \")"
      ],
      "metadata": {
        "id": "VGoRqf6d6WpN"
      },
      "execution_count": 7,
      "outputs": []
    },
    {
      "cell_type": "code",
      "source": [
        "# FUNCIÓN QUE GENERE 15 NÚMEROS IMPARES ENTRE 10 Y 60 o MÁXIMO DE 25 NÚMEROS.\n",
        "# DESPLEGAR LA MEDIA DE LOS PARES Y MEDIA DE IMPARES.\n",
        "def numero_impar():\n",
        "    impares = 0\n",
        "    par = 0\n",
        "    n_par = 0\n",
        "    n_impar = 0\n",
        "    while n_impar < 25:\n",
        "        nu = num_aleatorio(10,60)\n",
        "        if n_impar == 15:\n",
        "            break\n",
        "        if nu % 2 == 1:\n",
        "            impares += nu \n",
        "            n_impar += 1  \n",
        "        else:\n",
        "            par += nu  \n",
        "            n_par += 1 \n",
        "\n",
        "    media_par = par / n_par\n",
        "    media_impar = impares / n_impar\n",
        "    \n",
        "    return print(f\"La media de los pares es {media_par}. \\\n",
        "         \\nLa media de los impares es {media_impar}. \\\n",
        "         \\nNumeros impares es {n_impar}. \\\n",
        "         \\nNumeros pares es {n_par}. \")"
      ],
      "metadata": {
        "id": "mRnkL_WV84oH"
      },
      "execution_count": 8,
      "outputs": []
    },
    {
      "cell_type": "code",
      "source": [
        "#FUNCIÓN QUE SIRVA PARA LEER UN RANGO DADO POR EL USUARIO.\n",
        "#REPETIR ESTA ACCIÓN HASTA QUE EL USUARIO LO DESEE, \n",
        "#DESPLEGAR CANTIDAD DE NUMEROS Y PROMEDIO DE LOS NUMEROS.\n",
        "def num_rango():\n",
        "    min = es_entero(input(\"Ingrese el rango minimo\"))\n",
        "    max = es_entero(input(\"Ingrese el rango máximo\"))\n",
        "    contador = 0\n",
        "    acomulador = 0\n",
        "    while True:\n",
        "         try:\n",
        "             num_rango = val_rango(min,max)\n",
        "         except:\n",
        "             print(\"Ocurrió un error inesperado..\")\n",
        "         else:\n",
        "             acomulador += num_rango\n",
        "             contador += 1\n",
        "             respuesta = input(\"¿Quieres continuar? (s/n): \")\n",
        "             if respuesta.lower() != \"s\":\n",
        "                 break\n",
        "    prom = acomulador / contador\n",
        "    print(f\"La cantidad de números es : {contador} \\\n",
        "             \\nPromedio es : {prom}\")"
      ],
      "metadata": {
        "id": "ieoLf2arvjS8"
      },
      "execution_count": 9,
      "outputs": []
    },
    {
      "cell_type": "code",
      "source": [
        "# FUNCIÓN QUE RECIBA COMO PARÁMETRO LOS VALORES PARA EL \n",
        "# ÁREA DE UN TRIANGULO Y RETORNE SU RESULTADO\n",
        "def area_triangulo():\n",
        "    try:\n",
        "        a = es_entero(input(\"Ingrese la altura del Triangulo: \"))\n",
        "        b = es_entero(input(\"Ingrese la base del Triangulo:\"))\n",
        "    except Exception as error:\n",
        "        print(\"Error:\", error)\n",
        "    else:\n",
        "        area = (b * a) / 2\n",
        "        return print(f\"El área del triangulo con altura {a} y base {b} es: {area}\")"
      ],
      "metadata": {
        "id": "U1-J_dkz1U5X"
      },
      "execution_count": 10,
      "outputs": []
    },
    {
      "cell_type": "code",
      "execution_count": 11,
      "metadata": {
        "id": "k4i3bjPoyYaC"
      },
      "outputs": [],
      "source": [
        "# Funcion Menú\n",
        "def menu():\n",
        "    continuar = True\n",
        "    while continuar:\n",
        "        try:\n",
        "            #validar que el valor dado sea en un rango de 1-5 \n",
        "            opcion = val_rango(1,5)\n",
        "        except Exception as error:\n",
        "                print(\"Error:\", error)\n",
        "        else:\n",
        "            if opcion == 1:\n",
        "                numeros()\n",
        "            elif opcion == 2:\n",
        "                numero_impar()\n",
        "            elif opcion == 3:\n",
        "                num_rango()\n",
        "            elif opcion == 4:\n",
        "                area_triangulo()\n",
        "            elif opcion == 5:\n",
        "                calificacion()\n",
        "        respuesta = input(\"¿Quieres continuar? (s/n): \")\n",
        "        if respuesta.lower() != \"s\":\n",
        "          continuar = False"
      ]
    },
    {
      "cell_type": "code",
      "source": [
        "menu()"
      ],
      "metadata": {
        "id": "d2MX1Bd79tFP",
        "colab": {
          "base_uri": "https://localhost:8080/",
          "height": 0
        },
        "outputId": "22311e68-d130-4c6d-c7bc-85e8bb00884a"
      },
      "execution_count": 14,
      "outputs": [
        {
          "name": "stdout",
          "output_type": "stream",
          "text": [
            "Dame un número entre:  1 y 5 : 2.5\n",
            "Error:  invalid literal for int() with base 10: '2.5'\n",
            "Dame un número entre:  1 y 5 : *\n",
            "Error:  invalid literal for int() with base 10: '*'\n",
            "Dame un número entre:  1 y 5 : 1\n",
            "Introduce un número: 6\n",
            "¿Quieres introducir otro número? (s/n): s\n",
            "Introduce un número: 7\n",
            "¿Quieres introducir otro número? (s/n): s\n",
            "Introduce un número: 9\n",
            "¿Quieres introducir otro número? (s/n): s\n",
            "Introduce un número: 2\n",
            "¿Quieres introducir otro número? (s/n): s\n",
            "Introduce un número: 77\n",
            "¿Quieres introducir otro número? (s/n): n\n",
            "La suma de los números es 101.          \n",
            "La media de los números es 20.2.          \n",
            "El número menor es 2.          \n",
            "El número mayor es 77. \n",
            "¿Quieres continuar? (s/n): s\n",
            "Dame un número entre:  1 y 5 : 5\n",
            "Ingrese calificación:  0 y 100 : 200\n",
            "Error en el rango\n",
            "Ingrese calificación:  0 y 100 : 50\n",
            "Repetir Materia: Intento 1\n",
            "Ingrese calificación:  0 y 100 : 55\n",
            "Repetir Materia: Intento 2\n",
            "Ingrese calificación:  0 y 100 : 90\n",
            "Felicidades avanzas al siguiente semestre\n",
            "¿Quieres continuar? (s/n): s\n",
            "Dame un número entre:  1 y 5 : 3\n",
            "Ingrese el rango minimo3\n",
            "Ingrese el rango máximo6\n",
            "Dame un número entre:  3 y 6 : 5\n",
            "¿Quieres continuar? (s/n): n\n",
            "La cantidad de números es : 1              \n",
            "Promedio es : 5.0\n",
            "¿Quieres continuar? (s/n): n\n"
          ]
        }
      ]
    }
  ]
}