{
  "nbformat": 4,
  "nbformat_minor": 0,
  "metadata": {
    "colab": {
      "provenance": [],
      "authorship_tag": "ABX9TyNi2BkhDe8X2UfxauYH8W72",
      "include_colab_link": true
    },
    "kernelspec": {
      "name": "python3",
      "display_name": "Python 3"
    },
    "language_info": {
      "name": "python"
    }
  },
  "cells": [
    {
      "cell_type": "markdown",
      "metadata": {
        "id": "view-in-github",
        "colab_type": "text"
      },
      "source": [
        "<a href=\"https://colab.research.google.com/github/CGEC9Estefany/Programaci-n-PYTHON/blob/main/Act1.ipynb\" target=\"_parent\"><img src=\"https://colab.research.google.com/assets/colab-badge.svg\" alt=\"Open In Colab\"/></a>"
      ]
    },
    {
      "cell_type": "markdown",
      "source": [
        "1.- Programa en Python Mostrar un mensaje que diga “HOLA MUNDO” en un solo renglón usando 2 print"
      ],
      "metadata": {
        "id": "OzYRbVZwv9b-"
      }
    },
    {
      "cell_type": "code",
      "execution_count": 1,
      "metadata": {
        "colab": {
          "base_uri": "https://localhost:8080/"
        },
        "id": "mqHxqrRhvkpv",
        "outputId": "d6af844d-f387-49f1-fd61-09806eea3db1"
      },
      "outputs": [
        {
          "output_type": "stream",
          "name": "stdout",
          "text": [
            "HOLA MUNDO\n"
          ]
        }
      ],
      "source": [
        "print (\"HOLA \" , end=\"\")\n",
        "print (\"MUNDO\")"
      ]
    },
    {
      "cell_type": "markdown",
      "source": [
        "2.- Programa en Python que lea 2 números, realizar la suma y desplegar la suma de los 2 números"
      ],
      "metadata": {
        "id": "8676ajXowB95"
      }
    },
    {
      "cell_type": "code",
      "source": [
        "num1 = int(input(f\"Introduce el primer numero \"))\n",
        "num2 = int(input(f\"Introduce el segundo numero \"))\n",
        "sum= num1+num2\n",
        "print(f\"La suma de los numeros {num1} y {num2} es {sum}\")"
      ],
      "metadata": {
        "colab": {
          "base_uri": "https://localhost:8080/"
        },
        "id": "-_2Mrj3BwFH6",
        "outputId": "8e14a1ca-9cfe-4caa-c0c0-9bef3f1f70dd"
      },
      "execution_count": 2,
      "outputs": [
        {
          "output_type": "stream",
          "name": "stdout",
          "text": [
            "Introduce el primer numero 8\n",
            "Introduce el segundo numero 2\n",
            "La suma de los numeros 8 y 2 es 10\n"
          ]
        }
      ]
    },
    {
      "cell_type": "markdown",
      "source": [
        "3.- Programa en Python que lea 2 números y realice las 4 operaciones básicas"
      ],
      "metadata": {
        "id": "H41BPIwDwKBK"
      }
    },
    {
      "cell_type": "code",
      "source": [
        "n1 = int(input(f\"Introduce el primer numero \"))\n",
        "n2 = int(input(f\"Introduce el segundo numero \"))\n",
        "if n1>n2:\n",
        " d  = n1/n2 \n",
        "else:\n",
        " d = n2/n1\n",
        "s  = n1+n2\n",
        "r  = n1-n2\n",
        "m  = n1*n2\n",
        "\n",
        "\n",
        "print(f\"Suma: {s} \\nResta: {r} \\nMultiplicacion: {m} \\nDivision: {d}\")"
      ],
      "metadata": {
        "colab": {
          "base_uri": "https://localhost:8080/"
        },
        "id": "YN0Y6YhJwToA",
        "outputId": "f89671a6-2189-4b73-cb86-ca31e5d93a6b"
      },
      "execution_count": 3,
      "outputs": [
        {
          "output_type": "stream",
          "name": "stdout",
          "text": [
            "Introduce el primer numero 8\n",
            "Introduce el segundo numero 6\n",
            "Suma: 14 \n",
            "Resta: 2 \n",
            "Multiplicacion: 48 \n",
            "Division: 1.3333333333333333\n"
          ]
        }
      ]
    },
    {
      "cell_type": "markdown",
      "source": [
        "4.- Programa en Python Que sirva para calcular el área de un triángulo"
      ],
      "metadata": {
        "id": "eiIJleThwdh1"
      }
    },
    {
      "cell_type": "code",
      "source": [
        "altura = float(input(\"Ingrese la altura del triangulo \"))\n",
        "base = float(input(\"Ingrese la base \"))\n",
        "area= base*altura/2\n",
        "print(f\"El area del triangulo es: {area}\")"
      ],
      "metadata": {
        "colab": {
          "base_uri": "https://localhost:8080/"
        },
        "id": "FSz9AsDHwlci",
        "outputId": "47640127-f51c-4119-ec82-11474b8d64e8"
      },
      "execution_count": 4,
      "outputs": [
        {
          "output_type": "stream",
          "name": "stdout",
          "text": [
            "Ingrese la altura del triangulo 10\n",
            "Ingrese la base 2\n",
            "El area del triangulo es: 10.0\n"
          ]
        }
      ]
    },
    {
      "cell_type": "markdown",
      "source": [
        "5.- Programa en Python que lea una medida en centímetros y desplegar la misma medida pero convertida en pies y pulgadas"
      ],
      "metadata": {
        "id": "KOfFkciIwdSa"
      }
    },
    {
      "cell_type": "code",
      "source": [
        "medida  = float(input(\"Ingrese la medida en cm \"))\n",
        "pie     = medida*0.0328084\n",
        "pulgada = medida*0.393701\n",
        "print(f\"{medida} centimetos en pies son: {pie} y en pulgadas: {pulgada}\")"
      ],
      "metadata": {
        "colab": {
          "base_uri": "https://localhost:8080/"
        },
        "id": "vnoZIRAXwmgf",
        "outputId": "d2421763-b15f-4697-a8d1-c79e09bc4318"
      },
      "execution_count": 5,
      "outputs": [
        {
          "output_type": "stream",
          "name": "stdout",
          "text": [
            "Ingrese la medida en cm 50\n",
            "50.0 centimetos en pies son: 1.64042 y en pulgadas: 19.68505\n"
          ]
        }
      ]
    },
    {
      "cell_type": "markdown",
      "source": [
        "6.- Programa en Python que lea una temperatura en grados centígrados y desplegarla en Grados Fahrenheit y grados kelvin"
      ],
      "metadata": {
        "id": "dD7F_BKbwc9W"
      }
    },
    {
      "cell_type": "code",
      "source": [
        "cen = int(input(\"Ingrese la tempreratura en grados centigrados\"))\n",
        "fa  = (cen*9/5)+32  \n",
        "ke  = cen + 273.15\n",
        "print(f\"{cen} grados centigrados son {fa} grados fahrenheit y {ke} grados kelvin\")"
      ],
      "metadata": {
        "colab": {
          "base_uri": "https://localhost:8080/"
        },
        "id": "v7oY2V6LwnXt",
        "outputId": "df941e08-81fa-4451-8f95-f6772f98110a"
      },
      "execution_count": 6,
      "outputs": [
        {
          "output_type": "stream",
          "name": "stdout",
          "text": [
            "Ingrese la tempreratura en grados centigrados40\n",
            "40 grados centigrados son 104.0 grados fahrenheit y 313.15 grados kelvin\n"
          ]
        }
      ]
    },
    {
      "cell_type": "markdown",
      "source": [
        "7.- Programa en Python que lea 4 calificaciones de un alumno, desplegar el promedio del alumno"
      ],
      "metadata": {
        "id": "Dec824xZwchh"
      }
    },
    {
      "cell_type": "code",
      "source": [
        "cal1 = float(input(f\"INGRESE CALIFICACION 1 \"))\n",
        "cal2 = float(input(f\"INGRESE CALIFICACION 2 \"))\n",
        "cal3 = float(input(f\"INGRESE CALIFICACION 3 \"))\n",
        "cal4 = float(input(f\"INGRESE CALIFICACION 4 \"))\n",
        "sum = cal1+cal2+cal3+cal4\n",
        "prom = sum/4\n",
        "print(f\"El promedio es {prom}\")"
      ],
      "metadata": {
        "colab": {
          "base_uri": "https://localhost:8080/"
        },
        "id": "ji0l_Wdywn88",
        "outputId": "427e4e78-d204-424e-820b-7f0d64e5ecca"
      },
      "execution_count": 7,
      "outputs": [
        {
          "output_type": "stream",
          "name": "stdout",
          "text": [
            "INGRESE CALIFICACION 1 10\n",
            "INGRESE CALIFICACION 2 8\n",
            "INGRESE CALIFICACION 3 7\n",
            "INGRESE CALIFICACION 4 9\n",
            "El promedio es 8.5\n"
          ]
        }
      ]
    }
  ]
}