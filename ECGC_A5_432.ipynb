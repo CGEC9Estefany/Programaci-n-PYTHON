{
  "nbformat": 4,
  "nbformat_minor": 0,
  "metadata": {
    "colab": {
      "provenance": [],
      "authorship_tag": "ABX9TyPQ53icE7LaBT+c0DQ4Ot60",
      "include_colab_link": true
    },
    "kernelspec": {
      "name": "python3",
      "display_name": "Python 3"
    },
    "language_info": {
      "name": "python"
    }
  },
  "cells": [
    {
      "cell_type": "markdown",
      "metadata": {
        "id": "view-in-github",
        "colab_type": "text"
      },
      "source": [
        "<a href=\"https://colab.research.google.com/github/CGEC9Estefany/Programaci-n-PYTHON/blob/main/ECGC_A5_432.ipynb\" target=\"_parent\"><img src=\"https://colab.research.google.com/assets/colab-badge.svg\" alt=\"Open In Colab\"/></a>"
      ]
    },
    {
      "cell_type": "markdown",
      "source": [
        "#ACTIVIDAD 5\n",
        "#(try, for, range(), random())"
      ],
      "metadata": {
        "id": "5_3av_b2CdqR"
      }
    },
    {
      "cell_type": "markdown",
      "source": [
        "1.- Programa en Python que genere 40 números aleatorios entre el 0 y 200, desplegar los números y la leyenda de cada número si es par o impar , la cantidad de los números pares e impares así como la suma de los números pares o impares."
      ],
      "metadata": {
        "id": "FC3M7FgbAY25"
      }
    },
    {
      "cell_type": "code",
      "execution_count": null,
      "metadata": {
        "colab": {
          "base_uri": "https://localhost:8080/"
        },
        "id": "87h7Xog9AAuA",
        "outputId": "5541658c-ef7d-4d96-9404-4df508601f88"
      },
      "outputs": [
        {
          "output_type": "stream",
          "name": "stdout",
          "text": [
            " 0 == 128 -> Par\n",
            " 1 == 13 -> Impar\n",
            " 2 == 19 -> Impar\n",
            " 3 == 42 -> Par\n",
            " 4 == 168 -> Par\n",
            " 5 == 124 -> Par\n",
            " 6 == 36 -> Par\n",
            " 7 == 189 -> Impar\n",
            " 8 == 92 -> Par\n",
            " 9 == 34 -> Par\n",
            " 10 == 29 -> Impar\n",
            " 11 == 66 -> Par\n",
            " 12 == 21 -> Impar\n",
            " 13 == 156 -> Par\n",
            " 14 == 144 -> Par\n",
            " 15 == 4 -> Par\n",
            " 16 == 51 -> Impar\n",
            " 17 == 40 -> Par\n",
            " 18 == 192 -> Par\n",
            " 19 == 115 -> Impar\n",
            " 20 == 67 -> Impar\n",
            " 21 == 46 -> Par\n",
            " 22 == 34 -> Par\n",
            " 23 == 77 -> Impar\n",
            " 24 == 171 -> Impar\n",
            " 25 == 7 -> Impar\n",
            " 26 == 79 -> Impar\n",
            " 27 == 140 -> Par\n",
            " 28 == 114 -> Par\n",
            " 29 == 121 -> Impar\n",
            " 30 == 24 -> Par\n",
            " 31 == 15 -> Impar\n",
            " 32 == 182 -> Par\n",
            " 33 == 77 -> Impar\n",
            " 34 == 29 -> Impar\n",
            " 35 == 31 -> Impar\n",
            " 36 == 23 -> Impar\n",
            " 37 == 149 -> Impar\n",
            " 38 == 15 -> Impar\n",
            " 39 == 69 -> Impar\n",
            "El total de  pares es : 19 y la suma de numeros es: 182        \n",
            "El total de numeros impares : 21 y la suma es: 1367\n"
          ]
        }
      ],
      "source": [
        "import random\n",
        "total_par = 0\n",
        "total_impar = 0\n",
        "cant_impar = 0\n",
        "cant_par = 0\n",
        "\n",
        "for i in range(40):\n",
        "    num = random.randint(0,200)\n",
        "    if num % 2 == 0:\n",
        "        total_par += 1\n",
        "        cant_par =+ num  \n",
        "        print(f\" {i} == {num} -> Par\")\n",
        "    else:\n",
        "        total_impar += 1\n",
        "        cant_impar += num  \n",
        "        print(f\" {i} == {num} -> Impar\")\n",
        "print(f\"El total de  pares es : {total_par} y la suma de numeros es: {cant_par} \\\n",
        "       \\nEl total de numeros impares : {total_impar} y la suma es: {cant_impar}\")     \n",
        "        \n",
        "    "
      ]
    },
    {
      "cell_type": "markdown",
      "source": [
        "2.- Programa en Python que despliegue la tabla de multiplicar de un número dado (número entre el 1 y 20).\n",
        "\n",
        "\n",
        "\n",
        "Tabla del 5\n",
        "\n",
        "5 * 1 = 5\n",
        "\n",
        "5* 2 = 10"
      ],
      "metadata": {
        "id": "B4ayBftYAhby"
      }
    },
    {
      "cell_type": "code",
      "source": [
        "import random\n",
        "n = random.randint(1,21)\n",
        "for i in range(1,11):\n",
        "    m = n * i\n",
        "    print(f\" {i} X {n} = {m}\")"
      ],
      "metadata": {
        "colab": {
          "base_uri": "https://localhost:8080/"
        },
        "id": "hpMi1N-kAy8w",
        "outputId": "5fc0622f-4aca-40ca-9801-c2c8c56cab2f"
      },
      "execution_count": null,
      "outputs": [
        {
          "output_type": "stream",
          "name": "stdout",
          "text": [
            " 1 X 6 = 6\n",
            " 2 X 6 = 12\n",
            " 3 X 6 = 18\n",
            " 4 X 6 = 24\n",
            " 5 X 6 = 30\n",
            " 6 X 6 = 36\n",
            " 7 X 6 = 42\n",
            " 8 X 6 = 48\n",
            " 9 X 6 = 54\n",
            " 10 X 6 = 60\n"
          ]
        }
      ]
    },
    {
      "cell_type": "markdown",
      "source": [
        "3.- Programa en Python que lea una calificación, las calificación deberá estar en el rango de 0 a 100, si hay un error de captura, mostrar mensaje de error. con la calificación correcta mostrar msg de aprobado reprobado."
      ],
      "metadata": {
        "id": "TRctSYrqAzhF"
      }
    },
    {
      "cell_type": "code",
      "source": [
        "try:\n",
        "    cal = input(\"Ingrese calificación del 0-100: \")\n",
        "    if cal.isdigit():\n",
        "        valor = int(cal)\n",
        "        if valor < 0 or valor > 100:\n",
        "            raise ValueError(\"La calificación debe estar entre 0 y 100.\")\n",
        "    else:\n",
        "        raise TypeError(\"Los valores ingresados deben ser númericos\")\n",
        "except ValueError as e:\n",
        "    print(\"Error:\", e)\n",
        "except TypeError as er:\n",
        "    print(f\"Error:\", er)\n",
        "else:\n",
        "    if valor < 60:\n",
        "        print(\"Reprobado\")\n",
        "    else:\n",
        "        print(\"Aprobado\")"
      ],
      "metadata": {
        "colab": {
          "base_uri": "https://localhost:8080/"
        },
        "id": "HlVDilc2A9EV",
        "outputId": "c113a03a-71cd-4745-a8b8-cbc77b6bb127"
      },
      "execution_count": null,
      "outputs": [
        {
          "output_type": "stream",
          "name": "stdout",
          "text": [
            "Ingrese calificación del 0-100: 800\n",
            "Error: La calificación debe estar entre 0 y 100.\n"
          ]
        }
      ]
    },
    {
      "cell_type": "markdown",
      "source": [
        "4.- Programa en Python que lea n cantidad de números enteros dentro de un rango dado (> 0 ) , el programa deberá terminar cuando el usuario introduzca el número cero.\n",
        "\n",
        "desplegar la suma de números y la media."
      ],
      "metadata": {
        "id": "jsGhgf0hA9h7"
      }
    },
    {
      "cell_type": "code",
      "source": [
        "try:\n",
        "    sum = 0\n",
        "    contador = 0\n",
        "    n = input(\"Ingresa la cantidad de numeros a ingresar: \")\n",
        "    if n.isdigit():\n",
        "        valor = int(n)\n",
        "        if valor < 0:\n",
        "            raise ValueError(\"La cantidad tiene que ser mayor a 0.\")\n",
        "    else:\n",
        "        raise TypeError(\"Los valores ingresados deben ser númericos\")\n",
        "    for i in range(valor):\n",
        "        numero = input(\"Ingrese un número mayor a 0 ó 0 para terminar: \")\n",
        "        if numero.isdigit():\n",
        "            num = int(numero)\n",
        "            if num < 0:\n",
        "                raise ValueError(\"No se aceptan valores negativos.\")\n",
        "                continue\n",
        "            sum += num\n",
        "            contador += 1\n",
        "        else:\n",
        "            raise TypeError(\"Los valores ingresados deben ser númericos\")\n",
        "            continue\n",
        "        if num == 0:\n",
        "            break\n",
        "except ValueError as e:\n",
        "    print(\"Error:\", e)\n",
        "except TypeError as er:\n",
        "    print(\"Error:\", er)\n",
        "else:\n",
        "    if contador == 0:\n",
        "        print(\"No se ingresaron números válidos.\")\n",
        "    else:\n",
        "        media = sum / contador\n",
        "        print(\"La suma de los números ingresados es:\", sum)\n",
        "        print(\"La media de los números ingresados es:\", media)    "
      ],
      "metadata": {
        "id": "McVvNddFBBkC",
        "colab": {
          "base_uri": "https://localhost:8080/"
        },
        "outputId": "ead7a6e6-44dc-4965-c815-18d0156fabe0"
      },
      "execution_count": null,
      "outputs": [
        {
          "output_type": "stream",
          "name": "stdout",
          "text": [
            "Ingresa la cantidad de numeros a ingresar: 6\n",
            "Ingrese un número mayor a 0 ó 0 para terminar: 8\n",
            "Ingrese un número mayor a 0 ó 0 para terminar: y\n",
            "Error: Los valores ingresados deben ser númericos\n"
          ]
        }
      ]
    },
    {
      "cell_type": "markdown",
      "source": [
        "5.- Programa en Python que sirva para leer el promedio de una materia. donde el usuario tendrá un máximo de 3 oportunidades de cursar la materia, si el promedio es aprobado, felicitarlo y continuar el siguiente semestre, si promedio es reprobado deberá salir mensaje de repetir materia o es baja académica si ha reprobado 3 veces. "
      ],
      "metadata": {
        "id": "fAUuI54gBCKy"
      }
    },
    {
      "cell_type": "code",
      "source": [
        "r = 0\n",
        "max = 3\n",
        "for i in range(max):\n",
        "    try:\n",
        "        cal = input(\"Ingrese promedio de materia (0-100) : \")\n",
        "        if cal.isdigit():\n",
        "            valor = int(cal)\n",
        "            if valor < 0 or valor > 100:\n",
        "                raise ValueError(\"La calificación debe estar entre 0 y 100.\")\n",
        "        else:\n",
        "            raise TypeError(f\"Los valores ingresados deben ser númericos\")\n",
        "    except ValueError as e:\n",
        "        print(\"Error:\", e)\n",
        "        continue\n",
        "    except TypeError as er:\n",
        "        print(f\"Error:\", er) \n",
        "        continue   \n",
        "    else:\n",
        "        if r == 2 and valor <60: \n",
        "           print(\"Baja académica\")\n",
        "           break\n",
        "        elif valor >= 60:\n",
        "            print(\"Felicidades, siguiente semestre\")\n",
        "            break\n",
        "        else: \n",
        "            r += 1\n",
        "            print(f\"Repetir: Intento {r}\")\n",
        "    \n",
        "        \n"
      ],
      "metadata": {
        "id": "U7OyJZ-qBFk2",
        "colab": {
          "base_uri": "https://localhost:8080/"
        },
        "outputId": "dbe28101-d769-4bb1-c2fc-7cc06adbfb65"
      },
      "execution_count": null,
      "outputs": [
        {
          "output_type": "stream",
          "name": "stdout",
          "text": [
            "Ingrese promedio de materia (0-100) : 50\n",
            "Repetir: Intento 1\n",
            "Ingrese promedio de materia (0-100) : 100\n",
            "Felicidades, siguiente semestre\n"
          ]
        }
      ]
    },
    {
      "cell_type": "markdown",
      "source": [
        "#Parte 2"
      ],
      "metadata": {
        "id": "LRZi_esYBKGv"
      }
    },
    {
      "cell_type": "code",
      "source": [
        "import random"
      ],
      "metadata": {
        "id": "Ia_aabSBn0h_"
      },
      "execution_count": 3,
      "outputs": []
    },
    {
      "cell_type": "code",
      "source": [
        "# Función que genera un numero aleatorio\n",
        "def num_aleatorio(nm1,nm2):\n",
        "    num_random = random.randint(nm1,nm2)\n",
        "    return num_random"
      ],
      "metadata": {
        "id": "OtmmQse_oUsZ"
      },
      "execution_count": 4,
      "outputs": []
    },
    {
      "cell_type": "code",
      "source": [
        "# Función para validar un numero dentro de un rango dado\n",
        "def val_rango(r1=0,r2=0,msge=\"Dame un número entre: \"):\n",
        "    while True:\n",
        "        try:\n",
        "            num = int(input(f\"{msge} {r1} y {r2} : \"))\n",
        "        except:\n",
        "            print(\"Los valores ingresados deben ser númericos\")\n",
        "            continue\n",
        "        if num < r1 or num > r2:\n",
        "            print(\"Error en el rango\")\n",
        "            continue\n",
        "        return num"
      ],
      "metadata": {
        "id": "oM24YqEUvEV-"
      },
      "execution_count": 5,
      "outputs": []
    },
    {
      "cell_type": "code",
      "source": [
        "# Función para validar si que sea un número y no un digito\n",
        "def es_entero(num):\n",
        "    while True:\n",
        "        try:\n",
        "            if num.isdigit():\n",
        "                valor = int(num)\n",
        "            else:\n",
        "                raise TypeError(\"Los valores ingresados deben ser númericos\")\n",
        "        except TypeError as er:\n",
        "            print(f\"Error:\", er) \n",
        "            num = input(\"Introduce valor correctamente: \")\n",
        "        else:\n",
        "            return valor\n",
        "            break"
      ],
      "metadata": {
        "id": "0Ej49lNpvPJp"
      },
      "execution_count": 6,
      "outputs": []
    },
    {
      "cell_type": "code",
      "source": [
        "# Función para calcular el área de un triangulo\n",
        "def area_triangulo(b,a):\n",
        "    try:\n",
        "        area = (b * a) / 2\n",
        "    except Exception as error:\n",
        "        print(\"Error:\", error)\n",
        "    else:\n",
        "        return print(f\"El área del triangulo con altura {a} y base {b} es: {area}\")"
      ],
      "metadata": {
        "id": "OszwgLUNmeje"
      },
      "execution_count": 9,
      "outputs": []
    },
    {
      "cell_type": "code",
      "source": [
        "# Función que se lee n cantidad de números hasta que el usuario quiera\n",
        "def leer_numeros():\n",
        "    numeros = []\n",
        "    continuar = True\n",
        "    while continuar:\n",
        "        num = es_entero(input(\"Introduce un número: \"))\n",
        "        try:\n",
        "            numeros.append(num)\n",
        "        except Exception as error:\n",
        "            print(\"Error:\", error)\n",
        "        respuesta = input(\"¿Quieres introducir otro número? (s/n): \")\n",
        "        if respuesta.lower() != \"s\":\n",
        "            continuar = False\n",
        "    return numeros\n",
        "\n"
      ],
      "metadata": {
        "id": "ZML_0umfoafH"
      },
      "execution_count": 13,
      "outputs": []
    },
    {
      "cell_type": "markdown",
      "source": [
        "1.- función que lea n cantidad de números hasta que el usuario lo desee, desplegar la suma de los números, media y valor de los números mayores y menores."
      ],
      "metadata": {
        "id": "DvEe13A-BN-t"
      }
    },
    {
      "cell_type": "code",
      "source": [
        "def numeros():\n",
        "    try:\n",
        "        arr_num = leer_numeros()\n",
        "    except:\n",
        "        print(\"Ocurrió un error inesperado..\")\n",
        "    else:\n",
        "        suma = sum(arr_num)\n",
        "        media = suma / len(arr_num)\n",
        "        menor = min(arr_num)\n",
        "        mayor = max(arr_num)\n",
        "    \n",
        "    if len(arr_num) == 0:\n",
        "        return print(\"No se ingresaron números\") \n",
        "    else: \n",
        "        return print(f\"La suma de los números es {suma}. \\\n",
        "         \\nLa media de los números es {media}. \\\n",
        "         \\nEl número menor es {menor}. \\\n",
        "         \\nEl número mayor es {mayor}. \")\n",
        "    \n",
        "numeros()\n"
      ],
      "metadata": {
        "id": "_ugn7nAkBRHF",
        "colab": {
          "base_uri": "https://localhost:8080/",
          "height": 0
        },
        "outputId": "9e1027dd-a443-48d3-c2f8-7cd0bea31412"
      },
      "execution_count": 20,
      "outputs": [
        {
          "output_type": "stream",
          "name": "stdout",
          "text": [
            "Introduce un número: 7\n",
            "¿Quieres introducir otro número? (s/n): s\n",
            "Introduce un número: i\n",
            "Error: Los valores ingresados deben ser númericos\n",
            "Introduce valor correctamente: s\n",
            "Error: Los valores ingresados deben ser númericos\n",
            "Introduce valor correctamente: n\n",
            "Error: Los valores ingresados deben ser númericos\n",
            "Introduce valor correctamente: 8\n",
            "¿Quieres introducir otro número? (s/n): s\n",
            "Introduce un número: 2\n",
            "¿Quieres introducir otro número? (s/n): n\n",
            "La suma de los números es 17.          \n",
            "La media de los números es 5.666666666666667.          \n",
            "El número menor es 2.          \n",
            "El número mayor es 8. \n"
          ]
        }
      ]
    },
    {
      "cell_type": "markdown",
      "source": [
        "2.- función que genere 15 números impares entre 10 y 60 o máximo de 25 números. desplegar la media de los pares y media de impares."
      ],
      "metadata": {
        "id": "VKGyt6dABRmT"
      }
    },
    {
      "cell_type": "code",
      "source": [
        "def numero_impar():\n",
        "    impares = []\n",
        "    par = []\n",
        "    media_par = 0\n",
        "    media_impar = 0\n",
        "    n_par = 0 \n",
        "    n_impar = 0\n",
        "    while len(impares) < 15:\n",
        "        nu = num_aleatorio(10,60)\n",
        "        if nu % 2 == 1:\n",
        "            impares.append(nu)\n",
        "            media_impar += nu\n",
        "            n_impar += 1\n",
        "        else:\n",
        "            par.append(nu)\n",
        "            media_par += nu\n",
        "            n_par += 1\n",
        "        if len(impares) == 25:\n",
        "            break\n",
        "    if n_par > 0:\n",
        "        media_par /= n_par\n",
        "    if n_impar > 0:\n",
        "        media_impar /= n_impar\n",
        "    \n",
        "    return print(f\"La media de los pares es {media_par}. \\\n",
        "         \\nLa media de los impares es {media_impar}. \\\n",
        "         \\nNumeros impares es {n_impar}. \\\n",
        "         \\nNumeros pares es {n_par}. \")\n",
        "    \n",
        "numero_impar()\n"
      ],
      "metadata": {
        "id": "gcys0wWpBT7t",
        "colab": {
          "base_uri": "https://localhost:8080/",
          "height": 0
        },
        "outputId": "224abdcc-92b3-400e-e153-5791ecab2d6e"
      },
      "execution_count": 7,
      "outputs": [
        {
          "output_type": "stream",
          "name": "stdout",
          "text": [
            "La media de los pares es 33.81818181818182.          \n",
            "La media de los impares es 30.6.          \n",
            "Numeros impares es 15.          \n",
            "Numeros pares es 22. \n"
          ]
        }
      ]
    },
    {
      "cell_type": "markdown",
      "source": [
        "3.- función que sirva para leer y validar un número dentro de un rango dado por el usuario. repetir esta acción hasta que el usuario lo desee, desplegar cantidad de números y promedio de los números.."
      ],
      "metadata": {
        "id": "lzra4qqWBUTU"
      }
    },
    {
      "cell_type": "code",
      "source": [
        "def leer_numeros_en_rango():\n",
        "    numeros = []\n",
        "    continuar = True\n",
        "    rango_min = es_entero(input(\"Introduce el límite inferior del rango: \"))\n",
        "    rango_max = es_entero(input(\"Introduce el límite superior del rango: \"))\n",
        "    while continuar:\n",
        "        num = es_entero(input(f\"Introduce un número entre {rango_min} y {rango_max}: \"))\n",
        "        try:\n",
        "            if num < rango_min or num > rango_max:\n",
        "                raise ValueError(\"El número introducido no está dentro del rango especificado\")\n",
        "            numeros.append(num)\n",
        "        except ValueError as e:\n",
        "            print(\"Error:\", e)\n",
        "        respuesta = input(\"¿Quieres introducir otro número? (s/n): \")\n",
        "        if respuesta.lower() != \"s\":\n",
        "            continuar = False\n",
        "    cantidad_numeros = len(numeros)\n",
        "    promedio = sum(numeros) / cantidad_numeros if cantidad_numeros > 0 else 0\n",
        "    print(f\"Se introdujeron {cantidad_numeros} números.\")\n",
        "    print(f\"El promedio de los números es: {promedio}\")\n",
        "    \n",
        "leer_numeros_en_rango()"
      ],
      "metadata": {
        "id": "Kq0tdBGzBXVA",
        "colab": {
          "base_uri": "https://localhost:8080/",
          "height": 0
        },
        "outputId": "eb541e85-8cd8-4579-f299-67f144590d21"
      },
      "execution_count": 23,
      "outputs": [
        {
          "output_type": "stream",
          "name": "stdout",
          "text": [
            "Introduce el límite inferior del rango: y\n",
            "Error: Los valores ingresados deben ser númericos\n",
            "Introduce valor correctamente: 8\n",
            "Introduce el límite superior del rango: u\n",
            "Error: Los valores ingresados deben ser númericos\n",
            "Introduce valor correctamente: 20\n",
            "Introduce un número entre 8 y 20: y\n",
            "Error: Los valores ingresados deben ser númericos\n",
            "Introduce valor correctamente: 15\n",
            "¿Quieres introducir otro número? (s/n): s\n",
            "Introduce un número entre 8 y 20: 12\n",
            "¿Quieres introducir otro número? (s/n): s\n",
            "Introduce un número entre 8 y 20: 17\n",
            "¿Quieres introducir otro número? (s/n): n\n",
            "Se introdujeron 3 números.\n",
            "El promedio de los números es: 14.666666666666666\n"
          ]
        }
      ]
    },
    {
      "cell_type": "markdown",
      "source": [
        "4.- función que reciba como parámetro los valores para el área de un triángulo y retorne su resultado"
      ],
      "metadata": {
        "id": "FSEtWVOqBXoj"
      }
    },
    {
      "cell_type": "code",
      "source": [
        "altura = es_entero(input(\"Ingrese la altura del triangulo: \"))\n",
        "base = es_entero(input(\"Ingrese la base del triangulo: \"))\n",
        "area_triangulo(base,altura)\n",
        " "
      ],
      "metadata": {
        "id": "R6gtYj4MBdYi",
        "colab": {
          "base_uri": "https://localhost:8080/",
          "height": 0
        },
        "outputId": "44d2d934-9532-456e-cf66-665ca06be118"
      },
      "execution_count": 10,
      "outputs": [
        {
          "output_type": "stream",
          "name": "stdout",
          "text": [
            "Ingrese la altura del triangulo: 8\n",
            "Ingrese la base del triangulo: 9\n",
            "El área del triangulo con altura 8 y base 9 es: 36.0\n"
          ]
        }
      ]
    },
    {
      "cell_type": "markdown",
      "source": [
        "5.- función que sirva para validar un número dentro de un rango dado.\n",
        "\n"
      ],
      "metadata": {
        "id": "PHYibFrnBrtA"
      }
    },
    {
      "cell_type": "code",
      "source": [
        "valor1 = es_entero(input(\"Ingrese el rango mínimo: \"))\n",
        "valor2 = es_entero(input(\"Ingrese el rango máximo:\"))\n",
        "val_rango(valor1, valor2)\n",
        "\n",
        " \n",
        "    "
      ],
      "metadata": {
        "id": "4-Z6jULtBskg",
        "colab": {
          "base_uri": "https://localhost:8080/",
          "height": 0
        },
        "outputId": "ecb72433-278d-454d-84f3-531ee1aa78b2"
      },
      "execution_count": 8,
      "outputs": [
        {
          "name": "stdout",
          "output_type": "stream",
          "text": [
            "Ingrese el rango mínimo: y\n",
            "Error: Los valores ingresados deben ser númericos\n",
            "Introduce valor correctamente: u\n",
            "Error: Los valores ingresados deben ser númericos\n",
            "Introduce valor correctamente: 7\n",
            "Ingrese el rango máximo:i\n",
            "Error: Los valores ingresados deben ser númericos\n",
            "Introduce valor correctamente: 20\n",
            "Dame un número entre:  7 y 20 : 6\n",
            "Error en el rango\n",
            "Dame un número entre:  7 y 20 : 40\n",
            "Error en el rango\n",
            "Dame un número entre:  7 y 20 : y\n",
            "Los valores ingresados deben ser númericos\n",
            "Dame un número entre:  7 y 20 : 8\n"
          ]
        },
        {
          "output_type": "execute_result",
          "data": {
            "text/plain": [
              "8"
            ]
          },
          "metadata": {},
          "execution_count": 8
        }
      ]
    }
  ]
}