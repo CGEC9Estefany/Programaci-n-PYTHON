{
  "nbformat": 4,
  "nbformat_minor": 0,
  "metadata": {
    "colab": {
      "provenance": [],
      "authorship_tag": "ABX9TyP8eDPNuGDdSLq+I5nJKEjI",
      "include_colab_link": true
    },
    "kernelspec": {
      "name": "python3",
      "display_name": "Python 3"
    },
    "language_info": {
      "name": "python"
    }
  },
  "cells": [
    {
      "cell_type": "markdown",
      "metadata": {
        "id": "view-in-github",
        "colab_type": "text"
      },
      "source": [
        "<a href=\"https://colab.research.google.com/github/CGEC9Estefany/Programaci-n-PYTHON/blob/main/GCEC_A8_432.ipynb\" target=\"_parent\"><img src=\"https://colab.research.google.com/assets/colab-badge.svg\" alt=\"Open In Colab\"/></a>"
      ]
    },
    {
      "cell_type": "code",
      "source": [
        "import random"
      ],
      "metadata": {
        "id": "coYZYoun6rMq"
      },
      "execution_count": 1,
      "outputs": []
    },
    {
      "cell_type": "code",
      "source": [
        "# Función que genera un numero aleatorio\n",
        "def num_aleatorio(nm1,nm2):\n",
        "    num_random = random.randint(nm1,nm2)\n",
        "    return num_random"
      ],
      "metadata": {
        "id": "JDaqNlx76sG1"
      },
      "execution_count": 6,
      "outputs": []
    },
    {
      "cell_type": "code",
      "source": [
        "# Función para validar un numero dentro de un rango dado\n",
        "def val_rango(r1=0,r2=0,mensaje=\"Dame un número entre: \"):\n",
        "    while True:\n",
        "        try:\n",
        "            num = int(input(f\"{mensaje} {r1} y {r2} : \"))\n",
        "        except Exception as e:\n",
        "            print(\"Error: \", e)\n",
        "            continue\n",
        "        if num < r1 or num > r2:\n",
        "            print(\"Error en el rango\")\n",
        "            continue\n",
        "        return num"
      ],
      "metadata": {
        "id": "AkYggwyv9PmA"
      },
      "execution_count": 7,
      "outputs": []
    },
    {
      "cell_type": "code",
      "source": [
        "# Generar numeros aleatorios sin repetir con ciclo y random\n",
        "def numero_lista():\n",
        "    num_random = []\n",
        "    while len(num_random) < 10:\n",
        "        n = num_aleatorio(1,10)\n",
        "        # Verificamos que el numero no este repetido\n",
        "        if n not in num_random:\n",
        "            num_random.append(n)\n",
        "    return num_random"
      ],
      "metadata": {
        "id": "ZfQ1Bpm57LwX"
      },
      "execution_count": 5,
      "outputs": []
    },
    {
      "cell_type": "code",
      "source": [
        "# Generar numeros aleatorios sin repetir con funcion de la libreria random\n",
        "def num():\n",
        "    lista = random.sample(range(1, 11), 10)\n",
        "    return lista"
      ],
      "metadata": {
        "id": "YiHv20XlMwtT"
      },
      "execution_count": 24,
      "outputs": []
    },
    {
      "cell_type": "code",
      "source": [
        "# Generar numeros aleatorios sin repetir con otra funcion de la libreria random\n",
        "def fun_ale():\n",
        "    L=list(range(1,11))\n",
        "    random.shuffle(L) #baraja la lista\n",
        "    L10=L[:10] #crea otra lista con los 10 primeros elementos\n",
        "    return L10"
      ],
      "metadata": {
        "id": "oAeFCJZeM5yy"
      },
      "execution_count": 21,
      "outputs": []
    },
    {
      "cell_type": "code",
      "execution_count": 29,
      "metadata": {
        "colab": {
          "base_uri": "https://localhost:8080/"
        },
        "id": "sitHQe8v509k",
        "outputId": "99af33f2-c01e-4e73-8a7d-4c8c604a23e0"
      },
      "outputs": [
        {
          "output_type": "stream",
          "name": "stdout",
          "text": [
            "Dame un número entre:  1 y 10 : 8\n",
            "¡¡Ups!! Vuleve a intentarlo\n",
            "Dame un número entre:  1 y 10 : 3\n",
            "¡¡¡Felicidades has ganado!!!\n",
            "¿Quieres seguir? (s/n): s\n",
            "Dame un número entre:  1 y 10 : 9\n",
            "¡¡Ups!! Vuleve a intentarlo\n",
            "Dame un número entre:  1 y 10 : 2\n",
            "¡¡Ups!! Vuleve a intentarlo\n",
            "Dame un número entre:  1 y 10 : 4\n",
            "¡¡Perdiste las 3 oportunidades!!\n",
            "¿Quieres seguir? (s/n): s\n",
            "Dame un número entre:  1 y 10 : 3\n",
            "¡¡Ups!! Vuleve a intentarlo\n",
            "Dame un número entre:  1 y 10 : 7\n",
            "¡¡Ups!! Vuleve a intentarlo\n",
            "Dame un número entre:  1 y 10 : 6\n",
            "¡¡Perdiste las 3 oportunidades!!\n",
            "¿Quieres seguir? (s/n): n\n",
            "Ganado =  1 \n",
            "Perdido = 2\n"
          ]
        }
      ],
      "source": [
        "\"\"\"\n",
        "1.- Programa en python que genere un número entre el 1 y 10 (no visible) \n",
        "preguntarle al usuario que número cree que generó la computadora, el usuario\n",
        "tendrá 3 oportunidades de adivinar. \n",
        "Decir si adivino o si falló en sus 3 intentos.\n",
        "NOTA: 100% VALIDADO (usar función para validar números)\n",
        "NOTA2: El usuario podrá jugar cuantas veces lo desee, al final del juego\n",
        "desplegar cantidad de ganados y perdidos\n",
        "\"\"\"\n",
        "def adivinar_num():\n",
        "    ganado = 0\n",
        "    perdido = 0\n",
        "    while True:\n",
        "        numero = num_aleatorio(1,10)\n",
        "        i = 0\n",
        "        while i<=2:\n",
        "            pedir = val_rango(1,10)\n",
        "            if pedir == numero:\n",
        "               print(\"¡¡¡Felicidades has ganado!!!\")\n",
        "               ganado += 1\n",
        "               break\n",
        "            else:\n",
        "               i += 1\n",
        "               if i == 3:\n",
        "                   print(\"¡¡Perdiste las 3 oportunidades!!\")\n",
        "                   perdido += 1\n",
        "               else:\n",
        "                   print(\"¡¡Ups!! Vuleve a intentarlo\")\n",
        "\n",
        "        seguir = input(\"¿Quieres seguir? (s/n): \")\n",
        "        if seguir.lower() != \"s\":\n",
        "            print(f\"Ganado =  {ganado} \\nPerdido = {perdido}\")\n",
        "            break\n",
        "adivinar_num()\n",
        "    "
      ]
    },
    {
      "cell_type": "code",
      "source": [
        "\"\"\"\n",
        "2.- El juego Busca Número muestra una lista de 10 numeros, sin mostrar\n",
        " su contenido, Al usuario se le muestra un número que se generó aleatoriamente\n",
        "y el usuario tendrá 3 intentos de adivinar en qué índice del arreglo se encuentra. \n",
        "El usuario recibirá un mensaje que diga GANASTE, PERDISTE, TIENES UN NUEVO INTENTO\n",
        "El usuario podrá jugar cuantas veces lo desee.\n",
        "NOTA: La lista se deberá llenar con números aleatorios del 1 al 10 no repetidos.\n",
        "(Hacer una función que regrese la lista con los 10 números sin repetir)\n",
        "\"\"\"\n",
        "def juego(funcion_lista):\n",
        "    while True:\n",
        "        lista_generada = funcion_lista \n",
        "        n_azar = random.choice(lista_generada)\n",
        "        intento = 0\n",
        "        while intento < 3:\n",
        "            print(f\"¿Donde está el numero {n_azar}?\")\n",
        "            pedir = val_rango(1,10)\n",
        "            if lista_generada[pedir] == n_azar:\n",
        "                print(\"¡¡Haz Ganado, Felicidades!!!\")\n",
        "                break\n",
        "            else: \n",
        "               intento += 1\n",
        "               if intento == 3:\n",
        "                   print(\"¡¡Perdiste las 3 oportunidades!!\")\n",
        "               else:\n",
        "                   print(\"¡¡Ups!! TIENES UN NUEVO INTENTO\")\n",
        "        seguir = input(\"¿Quieres seguir? (s/n): \")\n",
        "        if seguir.lower() != \"s\":\n",
        "            break\n",
        "\n",
        "## Primera forma:\n",
        "juego(numero_lista())\n",
        "\n",
        "## Segunda forma / funcion de la libreria random\n",
        "juego(num())\n",
        "\n",
        "## Tercera forma / funcion de la libreria random\n",
        "juego(fun_ale())\n",
        "\n"
      ],
      "metadata": {
        "colab": {
          "base_uri": "https://localhost:8080/"
        },
        "id": "2yFuWZj96Rba",
        "outputId": "e1bdac6c-213c-40fc-b78d-1e2afa6ab261"
      },
      "execution_count": 23,
      "outputs": [
        {
          "name": "stdout",
          "output_type": "stream",
          "text": [
            "¿Donde está el numero 9?\n",
            "Dame un número entre:  1 y 10 : 9\n",
            "¡¡Ups!! TIENES UN NUEVO INTENTO\n",
            "¿Donde está el numero 9?\n",
            "Dame un número entre:  1 y 10 : 7\n",
            "¡¡Ups!! TIENES UN NUEVO INTENTO\n",
            "¿Donde está el numero 9?\n",
            "Dame un número entre:  1 y 10 : 5\n",
            "¡¡Perdiste las 3 oportunidades!!\n",
            "¿Quieres seguir? (s/n): n\n"
          ]
        }
      ]
    }
  ]
}