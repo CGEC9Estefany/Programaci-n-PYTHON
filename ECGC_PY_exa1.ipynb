{
  "nbformat": 4,
  "nbformat_minor": 0,
  "metadata": {
    "colab": {
      "provenance": [],
      "authorship_tag": "ABX9TyO17tV50DG/9KCd08usR7GZ",
      "include_colab_link": true
    },
    "kernelspec": {
      "name": "python3",
      "display_name": "Python 3"
    },
    "language_info": {
      "name": "python"
    }
  },
  "cells": [
    {
      "cell_type": "markdown",
      "metadata": {
        "id": "view-in-github",
        "colab_type": "text"
      },
      "source": [
        "<a href=\"https://colab.research.google.com/github/CGEC9Estefany/Programaci-n-PYTHON/blob/main/ECGC_PY_exa1.ipynb\" target=\"_parent\"><img src=\"https://colab.research.google.com/assets/colab-badge.svg\" alt=\"Open In Colab\"/></a>"
      ]
    },
    {
      "cell_type": "code",
      "source": [
        "# Función para validar si que sea un número y no un digito\n",
        "def es_entero(num):\n",
        "    while True:\n",
        "        try:\n",
        "            if num.isdigit():\n",
        "                valor = int(num)\n",
        "            else:\n",
        "                raise TypeError(\"Los valores ingresados deben ser númericos\")\n",
        "        except TypeError as er:\n",
        "            print(f\"Error:\", er) \n",
        "            num = input(\"Introduce valor correctamente: \")\n",
        "        else:\n",
        "            return valor\n",
        "            break"
      ],
      "metadata": {
        "id": "MM7ka3BQxiyH"
      },
      "execution_count": 8,
      "outputs": []
    },
    {
      "cell_type": "code",
      "execution_count": 6,
      "metadata": {
        "id": "7mNGZxqTqVdb"
      },
      "outputs": [],
      "source": [
        "def facto(num):\n",
        "    resul = 1\n",
        "    for i in range(1, num + 1):\n",
        "        resul *= i\n",
        "    return resul\n"
      ]
    },
    {
      "cell_type": "code",
      "source": [
        "numero = es_entero(input(\"Ingrese el numero: \"))\n",
        "facto(numero)"
      ],
      "metadata": {
        "colab": {
          "base_uri": "https://localhost:8080/"
        },
        "id": "8UBoeVHfw5Qz",
        "outputId": "0b981507-47d6-4338-ef74-11ff2c9c6fda"
      },
      "execution_count": 10,
      "outputs": [
        {
          "name": "stdout",
          "output_type": "stream",
          "text": [
            "Ingrese el numero: h\n",
            "Error: Los valores ingresados deben ser númericos\n",
            "Introduce valor correctamente: 6\n"
          ]
        },
        {
          "output_type": "execute_result",
          "data": {
            "text/plain": [
              "720"
            ]
          },
          "metadata": {},
          "execution_count": 10
        }
      ]
    }
  ]
}