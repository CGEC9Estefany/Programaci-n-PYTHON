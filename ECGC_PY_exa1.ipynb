{
  "nbformat": 4,
  "nbformat_minor": 0,
  "metadata": {
    "colab": {
      "provenance": [],
      "authorship_tag": "ABX9TyMjUOR7OljGW9f/NI+XRHk0",
      "include_colab_link": true
    },
    "kernelspec": {
      "name": "python3",
      "display_name": "Python 3"
    },
    "language_info": {
      "name": "python"
    }
  },
  "cells": [
    {
      "cell_type": "markdown",
      "metadata": {
        "id": "view-in-github",
        "colab_type": "text"
      },
      "source": [
        "<a href=\"https://colab.research.google.com/github/CGEC9Estefany/Programaci-n-PYTHON/blob/main/ECGC_PY_exa1.ipynb\" target=\"_parent\"><img src=\"https://colab.research.google.com/assets/colab-badge.svg\" alt=\"Open In Colab\"/></a>"
      ]
    },
    {
      "cell_type": "code",
      "source": [
        "# Función para validar si que sea un número y no un digito\n",
        "def es_entero(num):\n",
        "    while True:\n",
        "        try:\n",
        "            if num.isdigit():\n",
        "                valor = int(num)\n",
        "            else:\n",
        "                raise TypeError(\"Los valores ingresados deben ser númericos\")\n",
        "        except TypeError as er:\n",
        "            print(f\"Error:\", er) \n",
        "            num = input(\"Introduce valor correctamente: \")\n",
        "        else:\n",
        "            return valor\n",
        "            break"
      ],
      "metadata": {
        "id": "MM7ka3BQxiyH"
      },
      "execution_count": 8,
      "outputs": []
    },
    {
      "cell_type": "code",
      "execution_count": 6,
      "metadata": {
        "id": "7mNGZxqTqVdb"
      },
      "outputs": [],
      "source": [
        "def facto(num):\n",
        "    resul = 1\n",
        "    for i in range(1, num + 1):\n",
        "        resul *= i\n",
        "    return resul\n"
      ]
    },
    {
      "cell_type": "code",
      "source": [
        "numero = es_entero(input(\"Ingrese el numero: \"))\n",
        "facto(numero)"
      ],
      "metadata": {
        "colab": {
          "base_uri": "https://localhost:8080/"
        },
        "id": "8UBoeVHfw5Qz",
        "outputId": "0b981507-47d6-4338-ef74-11ff2c9c6fda"
      },
      "execution_count": 10,
      "outputs": [
        {
          "name": "stdout",
          "output_type": "stream",
          "text": [
            "Ingrese el numero: h\n",
            "Error: Los valores ingresados deben ser númericos\n",
            "Introduce valor correctamente: 6\n"
          ]
        },
        {
          "output_type": "execute_result",
          "data": {
            "text/plain": [
              "720"
            ]
          },
          "metadata": {},
          "execution_count": 10
        }
      ]
    },
    {
      "cell_type": "code",
      "source": [
        "def area(b,a):\n",
        "    area = (b * a) /2\n",
        "    print (f\"El area del triangulo es: {area}\")"
      ],
      "metadata": {
        "id": "QeXhioawytd7"
      },
      "execution_count": 14,
      "outputs": []
    },
    {
      "cell_type": "code",
      "source": [
        "base = es_entero(input(\"Ingrese la base: \"))\n",
        "altura = es_entero(input(\"Ingrese la altura: \"))\n",
        "area(base,altura)"
      ],
      "metadata": {
        "colab": {
          "base_uri": "https://localhost:8080/"
        },
        "id": "Km9LcStMzFbD",
        "outputId": "02e22cdd-279c-4883-bb01-32897dbaf081"
      },
      "execution_count": 15,
      "outputs": [
        {
          "output_type": "stream",
          "name": "stdout",
          "text": [
            "Ingrese la base: 5\n",
            "Ingrese la altura: 2\n",
            "El area del triangulo es: 5.0\n"
          ]
        }
      ]
    }
  ]
}