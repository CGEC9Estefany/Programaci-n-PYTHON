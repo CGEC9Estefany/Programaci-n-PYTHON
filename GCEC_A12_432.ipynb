{
  "nbformat": 4,
  "nbformat_minor": 0,
  "metadata": {
    "colab": {
      "provenance": [],
      "authorship_tag": "ABX9TyNFp+193+t1VK67fqHZ7DYT",
      "include_colab_link": true
    },
    "kernelspec": {
      "name": "python3",
      "display_name": "Python 3"
    },
    "language_info": {
      "name": "python"
    }
  },
  "cells": [
    {
      "cell_type": "markdown",
      "metadata": {
        "id": "view-in-github",
        "colab_type": "text"
      },
      "source": [
        "<a href=\"https://colab.research.google.com/github/CGEC9Estefany/Programaci-n-PYTHON/blob/main/GCEC_A12_432.ipynb\" target=\"_parent\"><img src=\"https://colab.research.google.com/assets/colab-badge.svg\" alt=\"Open In Colab\"/></a>"
      ]
    },
    {
      "cell_type": "code",
      "execution_count": 1,
      "metadata": {
        "id": "uAOCpuY1T0u6"
      },
      "outputs": [],
      "source": [
        "import pandas as pd \n",
        "import json\n",
        "import markdown"
      ]
    },
    {
      "cell_type": "code",
      "source": [
        "from IPython.display import clear_output\n",
        "import random"
      ],
      "metadata": {
        "id": "tIUmAcTAUClX"
      },
      "execution_count": 2,
      "outputs": []
    },
    {
      "cell_type": "code",
      "source": [
        "from google.colab import drive\n",
        "drive.mount('/content/drive')"
      ],
      "metadata": {
        "colab": {
          "base_uri": "https://localhost:8080/"
        },
        "id": "Gxc-tX6fUTet",
        "outputId": "6e5fca9a-2a39-42ec-964f-a0104ff30602"
      },
      "execution_count": 3,
      "outputs": [
        {
          "output_type": "stream",
          "name": "stdout",
          "text": [
            "Mounted at /content/drive\n"
          ]
        }
      ]
    },
    {
      "cell_type": "code",
      "source": [
        "ruta=\"/content/drive/MyDrive/diccionario_a11\""
      ],
      "metadata": {
        "id": "XWAtYvUjUVb2"
      },
      "execution_count": 4,
      "outputs": []
    },
    {
      "cell_type": "code",
      "source": [
        "import sys\n",
        "sys.path.append(ruta)"
      ],
      "metadata": {
        "id": "rUDYBqMWXT6V"
      },
      "execution_count": 5,
      "outputs": []
    },
    {
      "cell_type": "code",
      "source": [
        "import dicc"
      ],
      "metadata": {
        "id": "1jKRQluZXsYB"
      },
      "execution_count": 6,
      "outputs": []
    },
    {
      "cell_type": "code",
      "source": [
        "# Función para validar un numero dentro de un rango dado\n",
        "def val_rango(r1=0,r2=0,mensaje=\"Dame un número entre: \"):\n",
        "    while True:\n",
        "        try:\n",
        "            num = int(input(f\"{mensaje} {r1} y {r2} : \"))\n",
        "        except Exception as e:\n",
        "            print(\"Error: \", e)\n",
        "            continue\n",
        "        if num < r1 or num > r2:\n",
        "            print(\"Error en el rango\")\n",
        "            continue\n",
        "        return num"
      ],
      "metadata": {
        "id": "NCZGkvWcuBva"
      },
      "execution_count": 7,
      "outputs": []
    },
    {
      "cell_type": "code",
      "source": [
        "# Función para validar que no ingresen valores numericos\n",
        "def ingresar_dato(mensaje = \"dato\"):\n",
        "    while True:\n",
        "        try:\n",
        "            dato = input(f\"Buscar por {mensaje}: \")\n",
        "            if dato.isalpha() and dato.strip() != \"\":\n",
        "                return dato\n",
        "            else:\n",
        "                raise ValueError(f\"El {mensaje} ingresado no es válido. Por favor, ingrese un {mensaje} que contenga solo letras.\")\n",
        "        except ValueError as e:\n",
        "            print(e)"
      ],
      "metadata": {
        "id": "JTyGnnap4TGw"
      },
      "execution_count": 8,
      "outputs": []
    },
    {
      "cell_type": "code",
      "source": [
        "def buscar(lista,val,key):\n",
        "    lista_id = [d[key] for d in lista]\n",
        "    try:\n",
        "       indice = lista_id.index(val)\n",
        "       return indice\n",
        "    except:\n",
        "        return -1"
      ],
      "metadata": {
        "id": "oN3nlo21ulG-"
      },
      "execution_count": 9,
      "outputs": []
    },
    {
      "cell_type": "code",
      "source": [
        "def buscar_por_apellido(lista):\n",
        "    # Utilizamos la función filter para buscar todas las coincidencias en la lista\n",
        "    apellido = ingresar_dato(\"apellido paterno: \")\n",
        "    #apellido.upper()\n",
        "    filtro = filter(lambda p: p[\"Apellido_Paterno\"] == apellido, lista)\n",
        "    lista_coincidencias = list(filtro)\n",
        "    if len(lista_coincidencias) == 0:\n",
        "        print(\"No hay registros con ese apellido\")\n",
        "    else:\n",
        "        # Imprimimos las coincidencias encontradas\n",
        "        print(\"Coincidencias encontradas:\")\n",
        "        imprimir(lista_coincidencias)"
      ],
      "metadata": {
        "id": "BPavSc0b3mOs"
      },
      "execution_count": 10,
      "outputs": []
    },
    {
      "cell_type": "code",
      "source": [
        "def buscar_id(lista):\n",
        "    val=int(input(\"Ingrese el id del trabajador que busca:\"))\n",
        "    indice=buscar(lista,val,key=\"Id\")\n",
        "    if indice != -1 :\n",
        "        datos_json=json.dumps(lista[indice], sort_keys=False, indent=2)\n",
        "        df = pd.DataFrame.from_dict(json.loads(datos_json), orient='index').T\n",
        "        print(df)\n",
        "    else:\n",
        "        print(\"No hay trabajador registrado \")"
      ],
      "metadata": {
        "id": "6-7gDtU3ul7v"
      },
      "execution_count": 11,
      "outputs": []
    },
    {
      "cell_type": "code",
      "source": [
        "def borrar_id(lista):\n",
        "    clear_output()\n",
        "    if len(lista) == 0:\n",
        "        print(\"!!!No hay registros!! Agrega trabajador\")\n",
        "    else:\n",
        "        val=int(input(\"Ingrese el id del trabajador:\"))\n",
        "        indice=buscar(lista,val,key=\"Id\")\n",
        "        if indice != -1 :\n",
        "            while True:\n",
        "                seguro = input(\"¿Estás seguro de elimiar ese trabajador?(S/N)\")\n",
        "                if seguro.lower() == \"s\":\n",
        "                    datos_json = json.dumps(lista[indice], sort_keys=False, indent=2)\n",
        "                    #imprimir(lista[indice])\n",
        "                    df = pd.DataFrame.from_dict(json.loads(datos_json), orient='index').T\n",
        "                    print(df)\n",
        "                    del lista[indice]\n",
        "                    print(\" DATOS BORRADOS DE LA LISTA\")\n",
        "                    break\n",
        "                elif seguro.lower() == \"n\":\n",
        "                    print(\"Operación cancelada\")\n",
        "                    break\n",
        "                else: \n",
        "                    print(\"Ingrese S ó N para realizar la operación\")\n",
        "                    continue\n",
        "        else:\n",
        "            print(\"Registro no encontrado \")"
      ],
      "metadata": {
        "id": "1A1DHHJzvrD6"
      },
      "execution_count": 12,
      "outputs": []
    },
    {
      "cell_type": "code",
      "source": [
        "def borrar_lista(lista):\n",
        "     clear_output()\n",
        "     if len(lista) == 0:\n",
        "         print(\"!No hay registros para borrar!\")\n",
        "     else:\n",
        "         while True:\n",
        "                seguro = input(\"¿Estás seguro de eliminar todos los registros? (s/n)\")\n",
        "                if seguro.lower() == \"s\":\n",
        "                    lista.clear()\n",
        "                    print(f\"Se ha eliminado la lista de empleados\")\n",
        "                    break\n",
        "                elif seguro.lower() == \"n\":\n",
        "                    print(\"Operación cancelada\")\n",
        "                    break\n",
        "                else: \n",
        "                    print(\"Ingrese S ó N para realizar la operación\")\n",
        "                    continue"
      ],
      "metadata": {
        "id": "ZstNUNWowe5y"
      },
      "execution_count": 13,
      "outputs": []
    },
    {
      "cell_type": "code",
      "source": [
        "def ordenar_lista(lista):\n",
        "    if len(lista) == 0:\n",
        "        print(\"!!!No hay registros!! Agrega trabajador\")\n",
        "    else:\n",
        "        lista_ordenada = sorted(lista, key=lambda x: int(x[\"Id\"]))\n",
        "        if lista == lista_ordenada:\n",
        "            print(\"La lista ya esta ordenada\")\n",
        "        else:\n",
        "            print(\"Lista de trabajadores ordenada: \")\n",
        "            imprimir(lista_ordenada)"
      ],
      "metadata": {
        "id": "cXlRPcPvwHg4"
      },
      "execution_count": 14,
      "outputs": []
    },
    {
      "cell_type": "code",
      "source": [
        "def imprimir(lista):\n",
        "    clear_output()\n",
        "    if len(lista) == 0:\n",
        "        print(\"!!!No hay registros!! Agrega trabajador\")\n",
        "    else:\n",
        "        salida=pd.DataFrame(lista)\n",
        "        print(salida)"
      ],
      "metadata": {
        "id": "zZu3qGIFbwuP"
      },
      "execution_count": 15,
      "outputs": []
    },
    {
      "cell_type": "code",
      "source": [
        "def letrero():\n",
        "    print(\"=======================================================================\")\n",
        "    print(\"1. Agregar \\n2.Eliminar(ID) \\n3.Imprimir lista \\\n",
        "           \\n4.Buscar(id) \\n5. Buscar appat \\n6.Ordenar \\n7.Generar Archivo \\\n",
        "           \\n8. Cargar archivo \\n9.Imprimir archivo \\n10.Borrar toda la lista \\n0. SALIR.\")\n",
        "    print(\"=======================================================================\")"
      ],
      "metadata": {
        "id": "-Et2hplK_23T"
      },
      "execution_count": 16,
      "outputs": []
    },
    {
      "cell_type": "code",
      "source": [
        "def archivos_menu():\n",
        "    print(\"1. Excel\")\n",
        "    print(\"2. Txt\")\n",
        "    print(\"3. Cvs\")\n",
        "    print(\"4.MarkDown\")"
      ],
      "metadata": {
        "id": "uLSOhs7rP7jN"
      },
      "execution_count": 17,
      "outputs": []
    },
    {
      "cell_type": "code",
      "source": [
        "def generar_archivo(lista):\n",
        "    op = val_rango(1,4)\n",
        "    try: \n",
        "        if op == 1:\n",
        "            data = pd.DataFrame(lista)\n",
        "            data.to_excel('/content/drive/MyDrive/diccionario_a11/ejemplo1.xlsx', index=False)\n",
        "        elif op == 2:\n",
        "            data = pd.DataFrame(lista)\n",
        "            data.to_csv('/content/drive/MyDrive/diccionario_a11/ejemplo2.txt', index=False)\n",
        "        elif op == 3:\n",
        "            data=pd.DataFrame(lista)\n",
        "            data.to_csv('/content/drive/MyDrive/diccionario_a11/ejemplo3.csv', index=False)\n",
        "        else:\n",
        "            data = pd.DataFrame(lista)\n",
        "            data.to_markdown('/content/drive/MyDrive/diccionario_a11/ejemplo4.md', index=False)\n",
        "    except:\n",
        "        print(\"Ocurrio un error\")\n",
        "    else:\n",
        "        print(\"Se generó archivo con éxito\") "
      ],
      "metadata": {
        "id": "8edeGBOH5nje"
      },
      "execution_count": 18,
      "outputs": []
    },
    {
      "cell_type": "code",
      "source": [
        "from pandas.io.sql import DataFrame\n",
        "def cargar_archivo(op):\n",
        "    try: \n",
        "        if op == 1:\n",
        "            df = pd.read_excel('/content/drive/MyDrive/diccionario_a11/ejemplo1.xlsx') # Cargar archivo\n",
        "            #print(df)\n",
        "        elif op == 2:\n",
        "            # Abrir el archivo de texto en modo de lectura\n",
        "            with open('/content/drive/MyDrive/diccionario_a11/ejemplo2.txt', 'r') as file:\n",
        "                # Leer el contenido del archivo\n",
        "                df = file.read()\n",
        "                # Imprimir el contenido del archivo\n",
        "                #print(df)\n",
        "        elif op == 3:\n",
        "            df = pd.read_csv('/content/drive/MyDrive/diccionario_a11/ejemplo3.csv') # Cargar archivo\n",
        "            #print(df)\n",
        "        else:\n",
        "            # Abrir el archivo de MarkDown\n",
        "            with open('/content/drive/MyDrive/diccionario_a11/ejemplo4.md', 'r') as file:\n",
        "                # Leer el contenido del archivo\n",
        "                contenido_md = file.read()\n",
        "            \n",
        "            # Convertir el contenido de MarkDown a HTML\n",
        "            df = markdown.markdown(contenido_md)\n",
        "            # Imprimir el contenido HTML resultante\n",
        "            #print(df)              \n",
        "    except Exception as e:\n",
        "        print(\"Ocurrio un error\" + e)\n",
        "    else:\n",
        "        print(\"Se cargó archivo con éxito\") \n",
        "        return df"
      ],
      "metadata": {
        "id": "kMvI7hcQAHry"
      },
      "execution_count": 19,
      "outputs": []
    },
    {
      "cell_type": "code",
      "source": [
        "def imprimir_archivo(op):\n",
        "    imprimir = cargar_archivo(op)\n",
        "    return print(imprimir)"
      ],
      "metadata": {
        "id": "5FIQNt2xMMBe"
      },
      "execution_count": 20,
      "outputs": []
    },
    {
      "cell_type": "code",
      "source": [
        "def menu():\n",
        "    lista_trabajadores = []\n",
        "    claves = [\"Id\",\"Nombre\", \"Apellido_Paterno\", \"Apellido_Materno\",\"Sexo\", \"Puesto\"]\n",
        "    while True:\n",
        "        letrero()\n",
        "        opcion = val_rango(0,10)\n",
        "        if opcion == 1:\n",
        "            for i in range(10):\n",
        "                 while True:    \n",
        "                     datos = dicc.registro()   \n",
        "                     if  datos[0]  in lista_trabajadores:# Validar si el id esta en la lista hasta que nos de uno único\n",
        "                         continue\n",
        "                     else:     \n",
        "                         lista_trabajadores.append(dict(zip(claves,datos))) # si no se encuentra agregamos a la lista\n",
        "                         break\n",
        "            print(\"Se han generado 10 registros automáticos\")\n",
        "        elif opcion == 2:\n",
        "            borrar_id(lista_trabajadores) # Eliminar trabajador por id\n",
        "        elif opcion == 3:\n",
        "             imprimir(lista_trabajadores) #Imprimir lista\n",
        "        elif opcion == 4:\n",
        "            buscar_id(lista_trabajadores) # Buscar tarbajador por id\n",
        "        elif opcion == 5:\n",
        "             buscar_por_apellido(lista_trabajadores) #Buscar por appat \n",
        "        elif opcion == 6:\n",
        "            ordenar_lista(lista_trabajadores) # Validar si ya esta ordenada\n",
        "        elif opcion == 7:\n",
        "             print(\"Selecciona una opción:\")\n",
        "             archivos_menu()                  \n",
        "             generar_archivo(lista_trabajadores)  # Generar archivo\n",
        "        elif opcion == 8:\n",
        "            print(\"Selecciona el archivo que quieres cargar:\") # cargar archivo\n",
        "            archivos_menu() \n",
        "            op = val_rango(1,4)\n",
        "            cargar_archivo(op)\n",
        "        elif opcion == 9:\n",
        "            print(\"Selecciona el archivo que quieres imprimir:\") #  imprimir archivo\n",
        "            archivos_menu()  \n",
        "            op = val_rango(1,4)\n",
        "            imprimir_archivo(op)\n",
        "        elif opcion == 10:\n",
        "            borrar_lista(lista_trabajadores) # Borrar toda la lista\n",
        "        else:\n",
        "            print(\"Saliendo...\")\n",
        "            break"
      ],
      "metadata": {
        "id": "2D1F9j0vslfb"
      },
      "execution_count": 21,
      "outputs": []
    },
    {
      "cell_type": "code",
      "source": [
        "menu()"
      ],
      "metadata": {
        "colab": {
          "base_uri": "https://localhost:8080/"
        },
        "id": "mho4_yB07rO-",
        "outputId": "d81ff6a1-ca1a-492a-9de4-1d72fa2c7f02"
      },
      "execution_count": 24,
      "outputs": [
        {
          "output_type": "stream",
          "name": "stdout",
          "text": [
            "¿Estás seguro de eliminar todos los registros? (s/n)n\n",
            "Operación cancelada\n",
            "=======================================================================\n",
            "1. Agregar \n",
            "2.Eliminar(ID) \n",
            "3.Imprimir lista            \n",
            "4.Buscar(id) \n",
            "5. Buscar appat \n",
            "6.Ordenar \n",
            "7.Generar Archivo            \n",
            "8. Cargar archivo \n",
            "9.Imprimir archivo \n",
            "10.Borrar toda la lista \n",
            "0. SALIR.\n",
            "=======================================================================\n",
            "Dame un número entre:  0 y 10 : 9\n",
            "Selecciona el archivo que quieres imprimir:\n",
            "1. Excel\n",
            "2. Txt\n",
            "3. Cvs\n",
            "4.MarkDown\n",
            "Dame un número entre:  1 y 4 : 4\n",
            "Se cargó archivo con éxito\n",
            "<p>|   Id | Nombre                  | Apellido_Paterno   | Apellido_Materno   | Sexo      | Puesto        |\n",
            "|-----:|:------------------------|:-------------------|:-------------------|:----------|:--------------|\n",
            "|   84 | ['Diego', 'Jose']       | Lopez              | Cruz               | Masculino | Gerente       |\n",
            "|  176 | ['Yaritza', 'Ivonne']   | Hernandez          | Ramirez            | Femenino  | Mantenimiento |\n",
            "|  112 | Octavio                 | Orci               | Figueroa           | Masculino | Operador      |\n",
            "|   74 | Melissa                 | Hernandez          | Nevarez            | Femenino  | Mantenimiento |\n",
            "|  161 | ['Antonio', 'Jose']     | Vega               | Martinez           | Masculino | Supervisor    |\n",
            "|  270 | ['Fernando', 'Luis']    | Contreras          | Velarde            | Masculino | Supervisor    |\n",
            "|  168 | ['Rebeca', 'Alicia']    | Medina             | Martinez           | Femenino  | Mantenimiento |\n",
            "|  103 | ['Estefany', 'Melissa'] | Flores             | Castro             | Femenino  | Mantenimiento |\n",
            "|   82 | Lenin                   | Gomez              | Cruz               | Masculino | Operador      |</p>\n",
            "=======================================================================\n",
            "1. Agregar \n",
            "2.Eliminar(ID) \n",
            "3.Imprimir lista            \n",
            "4.Buscar(id) \n",
            "5. Buscar appat \n",
            "6.Ordenar \n",
            "7.Generar Archivo            \n",
            "8. Cargar archivo \n",
            "9.Imprimir archivo \n",
            "10.Borrar toda la lista \n",
            "0. SALIR.\n",
            "=======================================================================\n",
            "Dame un número entre:  0 y 10 : 0\n",
            "Saliendo...\n"
          ]
        }
      ]
    }
  ]
}