{
  "nbformat": 4,
  "nbformat_minor": 0,
  "metadata": {
    "colab": {
      "provenance": [],
      "authorship_tag": "ABX9TyOyEkzm4g+6khJr7OWqg3sk",
      "include_colab_link": true
    },
    "kernelspec": {
      "name": "python3",
      "display_name": "Python 3"
    },
    "language_info": {
      "name": "python"
    }
  },
  "cells": [
    {
      "cell_type": "markdown",
      "metadata": {
        "id": "view-in-github",
        "colab_type": "text"
      },
      "source": [
        "<a href=\"https://colab.research.google.com/github/CGEC9Estefany/Programaci-n-PYTHON/blob/main/ejemplo1.ipynb\" target=\"_parent\"><img src=\"https://colab.research.google.com/assets/colab-badge.svg\" alt=\"Open In Colab\"/></a>"
      ]
    },
    {
      "cell_type": "markdown",
      "source": [
        "# MI PRIMER PROGRAMA EN PYTHON CON COLABORATOY\n",
        "\n",
        "1.   USAR COLABORATORY\n",
        "2.   GIT HUB\n",
        "3. LA SENTENCIA DE SALIDA PRINT\n",
        "\n"
      ],
      "metadata": {
        "id": "QYhMOm6myyRD"
      }
    },
    {
      "cell_type": "code",
      "source": [
        "num = 10"
      ],
      "metadata": {
        "id": "jEQQaUaG2BDf"
      },
      "execution_count": 5,
      "outputs": []
    },
    {
      "cell_type": "code",
      "execution_count": null,
      "metadata": {
        "id": "1P5PsfPmxjWK"
      },
      "outputs": [],
      "source": [
        "print (\"Hola mundo\")"
      ]
    },
    {
      "cell_type": "markdown",
      "source": [
        "## Este es mi nombre"
      ],
      "metadata": {
        "id": "xYHhWQYN0n30"
      }
    },
    {
      "cell_type": "code",
      "source": [
        "print (\"Estefany Galindo\")"
      ],
      "metadata": {
        "id": "krbVBhvT0MGS"
      },
      "execution_count": null,
      "outputs": []
    },
    {
      "cell_type": "markdown",
      "source": [
        "### ME DICEN O ME CONOCEN"
      ],
      "metadata": {
        "id": "SFwTT4Rw1BTc"
      }
    },
    {
      "cell_type": "code",
      "source": [
        "print (\"CARO\")"
      ],
      "metadata": {
        "id": "VfnLX2E21GcP"
      },
      "execution_count": null,
      "outputs": []
    }
  ]
}