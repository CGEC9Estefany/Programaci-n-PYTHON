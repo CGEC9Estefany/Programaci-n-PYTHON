{
  "nbformat": 4,
  "nbformat_minor": 0,
  "metadata": {
    "colab": {
      "provenance": [],
      "authorship_tag": "ABX9TyM7i016M66+9On6iZG8F21m",
      "include_colab_link": true
    },
    "kernelspec": {
      "name": "python3",
      "display_name": "Python 3"
    },
    "language_info": {
      "name": "python"
    }
  },
  "cells": [
    {
      "cell_type": "markdown",
      "metadata": {
        "id": "view-in-github",
        "colab_type": "text"
      },
      "source": [
        "<a href=\"https://colab.research.google.com/github/CGEC9Estefany/Programaci-n-PYTHON/blob/main/GCEC_A9_432.ipynb\" target=\"_parent\"><img src=\"https://colab.research.google.com/assets/colab-badge.svg\" alt=\"Open In Colab\"/></a>"
      ]
    },
    {
      "cell_type": "code",
      "source": [
        "import random"
      ],
      "metadata": {
        "id": "fCd6545cUhWu"
      },
      "execution_count": 1,
      "outputs": []
    },
    {
      "cell_type": "code",
      "source": [
        "# Función que genera un numero aleatorio\n",
        "def num_aleatorio(nm1,nm2):\n",
        "    num_random = random.randint(nm1,nm2)\n",
        "    return num_random"
      ],
      "metadata": {
        "id": "nQRmJGLFsAzO"
      },
      "execution_count": 2,
      "outputs": []
    },
    {
      "cell_type": "code",
      "execution_count": 4,
      "metadata": {
        "id": "YS1_W6LeOdWc"
      },
      "outputs": [],
      "source": [
        "# Función para validar un numero dentro de un rango dado\n",
        "def val_rango(r1=0,r2=0,mensaje=\"Dame un número entre: \"):\n",
        "    while True:\n",
        "        try:\n",
        "            num = int(input(f\"{mensaje} {r1} y {r2} : \"))\n",
        "        except Exception as e:\n",
        "            print(\"Error: \", e)\n",
        "            continue\n",
        "        if num < r1 or num > r2:\n",
        "            print(\"Error en el rango\")\n",
        "            continue\n",
        "        return num"
      ]
    },
    {
      "cell_type": "code",
      "source": [
        "# funcion para elegir 1 o 2 nombres\n",
        "def nombre_s(nom):\n",
        "    num_nom = num_aleatorio(1,2)\n",
        "    if num_nom == 1:\n",
        "        nombre = random.choice(nom)\n",
        "    else:\n",
        "        nombre = random.choices(nom, k=2)\n",
        "    return nombre    "
      ],
      "metadata": {
        "id": "t45Tlnt0xrer"
      },
      "execution_count": 5,
      "outputs": []
    },
    {
      "cell_type": "code",
      "source": [
        "def crear_dic():\n",
        "    # Mujer es 1 y Hombre 2\n",
        "    genero = num_aleatorio(1,2)\n",
        "    if genero == 1:\n",
        "        sexo = \"Femenino\"\n",
        "        nom = [\"Alejandra\",\"Maria\",\"Carolina\",\"Estefany\",\"Ana\",\"Rebeca\",\n",
        "                   \"Alicia\", \"Luz\", \"Teresa\",\"Andrea\", \"Sofia\",\"Laura\", \"Melissa\",\n",
        "                   \"Aglaya\", \"Ivonne\",\"Claudia\",\"Gabriela\",\"Yaritza\"]\n",
        "        nombre = nombre_s(nom)     \n",
        "    else:\n",
        "        sexo = \"Masculino\"\n",
        "        nom = [\"Jose\",\"Ignacio\",\"Adolfo\",\"Lenin\",\"Francisco\",\"Diego\", \"Fernando\",\n",
        "                    \"Pedro\",\"Julio\",\"Fabian\", \"Luis\",\"Alberto\",\"Antonio\",\"Santiago\",\n",
        "                    \"Sebastian\",\"Felipe\", \"Emiliano\",\"Russell\", \"Octavio\"]\n",
        "        nombre = nombre_s(nom)\n",
        "    \n",
        "    apellidos = [\"Ramirez\",\"Contreras\",\"Galindo\",\"Vega\",\"Martinez\",\"Garcia\",\"Castro\",\n",
        "                 \"Arredondo\",\"Palafox\",\"Diaz\",\"Lopez\",\"Gomez\",\"Velarde\",\"Hernandez\",\n",
        "                 \"Gonzalez\",\"Perez\",\"Rodriguez\",\"Sanchez\",\"Parra\",\"Orci\",\"Ruiz\",\"Flores\",\n",
        "                 \"Cruz\",\"Durazo\",\"Grijalva\",\"Nevarez\",\"Palma\", \"Romero\",\"Medina\",\n",
        "                 \"Espinoza\",\"Figueroa\"]\n",
        "\n",
        "    edad = num_aleatorio(10,60)\n",
        "    id = num_aleatorio(1000,6000)\n",
        "    am = random.choice(apellidos)\n",
        "    af = random.choice(apellidos)\n",
        "    dic = dict(zip([\"id\",\"nombre\", \"appaterno\", \"apmaterno\", \"edad\", \"sexo\"],[id,nombre,am,af,edad,sexo]))\n",
        "    #print(dic)\n",
        "    print(\"Diccionario creado con éxito\\n\")\n",
        "    return dic"
      ],
      "metadata": {
        "id": "Lredu7YhRb0E"
      },
      "execution_count": 6,
      "outputs": []
    },
    {
      "cell_type": "code",
      "source": [
        "def imprimir(di):\n",
        "    for key, valor in di.items():\n",
        "        print(key, \":\", valor)"
      ],
      "metadata": {
        "id": "mKYRUEgC01IR"
      },
      "execution_count": 7,
      "outputs": []
    },
    {
      "cell_type": "code",
      "source": [
        "def menu():\n",
        "    dic = None\n",
        "    while True:\n",
        "        print(\"\\n1. Crear diccionario \\n2.Imprimir diccionario \\n0. Salir\\n\")\n",
        "        opcion = val_rango(0,2)\n",
        "      \n",
        "        if opcion == 1:\n",
        "            dic = crear_dic()\n",
        "        elif opcion == 2:\n",
        "            if not dic:\n",
        "                print(\"No hay diccionario \\nSeleccione la primera opcion\\n\")\n",
        "            else:\n",
        "                imprimir(dic)\n",
        "                dic.clear()\n",
        "        else:\n",
        "            print(\"Saliendo...\")\n",
        "            break\n"
      ],
      "metadata": {
        "id": "OzjKYIh4Oj_p"
      },
      "execution_count": 11,
      "outputs": []
    },
    {
      "cell_type": "code",
      "source": [
        "menu()"
      ],
      "metadata": {
        "colab": {
          "base_uri": "https://localhost:8080/"
        },
        "id": "d6K_pqc42g24",
        "outputId": "2d931c61-dfcc-4c00-d03a-d80890a51c0e"
      },
      "execution_count": 15,
      "outputs": [
        {
          "output_type": "stream",
          "name": "stdout",
          "text": [
            "\n",
            "1. Crear diccionario \n",
            "2.Imprimir diccionario \n",
            "0. Salir\n",
            "\n",
            "Dame un número entre:  0 y 2 : 1\n",
            "Diccionario creado con éxito\n",
            "\n",
            "\n",
            "1. Crear diccionario \n",
            "2.Imprimir diccionario \n",
            "0. Salir\n",
            "\n",
            "Dame un número entre:  0 y 2 : 2\n",
            "id : 2124\n",
            "nombre : Ignacio\n",
            "appaterno : Martinez\n",
            "apmaterno : Sanchez\n",
            "edad : 24\n",
            "sexo : Masculino\n",
            "\n",
            "1. Crear diccionario \n",
            "2.Imprimir diccionario \n",
            "0. Salir\n",
            "\n",
            "Dame un número entre:  0 y 2 : 1\n",
            "Diccionario creado con éxito\n",
            "\n",
            "\n",
            "1. Crear diccionario \n",
            "2.Imprimir diccionario \n",
            "0. Salir\n",
            "\n",
            "Dame un número entre:  0 y 2 : 2\n",
            "id : 5503\n",
            "nombre : ['Andrea', 'Rebeca']\n",
            "appaterno : Garcia\n",
            "apmaterno : Castro\n",
            "edad : 41\n",
            "sexo : Femenino\n",
            "\n",
            "1. Crear diccionario \n",
            "2.Imprimir diccionario \n",
            "0. Salir\n",
            "\n",
            "Dame un número entre:  0 y 2 : 0\n",
            "Saliendo...\n"
          ]
        }
      ]
    }
  ]
}